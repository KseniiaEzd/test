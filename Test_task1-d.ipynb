{
 "cells": [
  {
   "cell_type": "markdown",
   "metadata": {},
   "source": [
    "Вступительная информация для Задания 1:\n",
    "Приложение - мобильная утилита для сканирования документов. Модель монетизации\n",
    "подписочная, есть пробный период 7 дней с дальнейшим переходом в оплату 4.99 USD\n",
    "в неделю. По ссылке ниже выгрузка с базы данных по оформлениям подписок и оплат.\n",
    "Каждая строка представляет собой отдельное событие (либо оформление пробной\n",
    "подписки, либо оплата после завершения пробного периода). Задание построено таким\n",
    "образом, чтобы проверить понимание принципов unit-экономики предприятия. Задание\n",
    "1 предпочтительней делать с помощью Python.\n",
    "\n",
    "### Задание 1\n",
    "1. Необходимо рассчитать текущий LTV юзера, используя когортный анализ\n",
    "(cohorting event - оформление пробного периода, когорта представляет собой кол-во\n",
    "возможных операций).\n",
    "2. Спрогнозировать, каким будет LTV на полгода.\n",
    "3. Построить график, который будет отображать кривую фактического LTV на\n",
    "фоне кривой прогнозируемого LTV.\n",
    "4. Рассчитать ROMI на 4 недели и на полгода, если стоимость привлечения\n",
    "платящего пользователя 6 USD (ROMI нужно брать операционный, а не бухгалтерский,\n",
    "цель: узнать как окупятся наши инвестиции)."
   ]
  },
  {
   "cell_type": "markdown",
   "metadata": {},
   "source": [
    "## 1. Импорт необходимых библиотек"
   ]
  },
  {
   "cell_type": "code",
   "execution_count": 2,
   "metadata": {},
   "outputs": [],
   "source": [
    "import pandas as pd\n",
    "import numpy as np\n",
    "from scipy import optimize\n",
    "from fbprophet import Prophet\n",
    "\n",
    "import matplotlib.pyplot as plt\n",
    "import seaborn as sns\n",
    "sns.set(style='white')\n",
    "\n",
    "%matplotlib inline"
   ]
  },
  {
   "cell_type": "markdown",
   "metadata": {},
   "source": [
    "### Функции, использованные в коде"
   ]
  },
  {
   "cell_type": "code",
   "execution_count": 3,
   "metadata": {},
   "outputs": [],
   "source": [
    "def revenue_by_week(trial):\n",
    "    revenue = 0\n",
    "    if trial == False:\n",
    "        revenue = 4.99\n",
    "    return revenue"
   ]
  },
  {
   "cell_type": "code",
   "execution_count": 4,
   "metadata": {},
   "outputs": [],
   "source": [
    "def ltv_func(param):\n",
    "    result = coefs_l[0] + coefs_l[1]*np.log(param)\n",
    "    return result"
   ]
  },
  {
   "cell_type": "markdown",
   "metadata": {},
   "source": [
    "## 2. Предобработка данных "
   ]
  },
  {
   "cell_type": "markdown",
   "metadata": {},
   "source": [
    "Данные"
   ]
  },
  {
   "cell_type": "code",
   "execution_count": 5,
   "metadata": {},
   "outputs": [
    {
     "data": {
      "text/html": [
       "<div>\n",
       "<style scoped>\n",
       "    .dataframe tbody tr th:only-of-type {\n",
       "        vertical-align: middle;\n",
       "    }\n",
       "\n",
       "    .dataframe tbody tr th {\n",
       "        vertical-align: top;\n",
       "    }\n",
       "\n",
       "    .dataframe thead th {\n",
       "        text-align: right;\n",
       "    }\n",
       "</style>\n",
       "<table border=\"1\" class=\"dataframe\">\n",
       "  <thead>\n",
       "    <tr style=\"text-align: right;\">\n",
       "      <th></th>\n",
       "      <th>product_id</th>\n",
       "      <th>quantity</th>\n",
       "      <th>is_trial_period</th>\n",
       "      <th>purchase_date</th>\n",
       "      <th>user_id</th>\n",
       "    </tr>\n",
       "  </thead>\n",
       "  <tbody>\n",
       "    <tr>\n",
       "      <th>0</th>\n",
       "      <td>1week_4.99_USD_subscription_7days_trial</td>\n",
       "      <td>1</td>\n",
       "      <td>False</td>\n",
       "      <td>2020-02-19</td>\n",
       "      <td>9484222</td>\n",
       "    </tr>\n",
       "    <tr>\n",
       "      <th>1</th>\n",
       "      <td>1week_4.99_USD_subscription_7days_trial</td>\n",
       "      <td>1</td>\n",
       "      <td>False</td>\n",
       "      <td>2020-02-17</td>\n",
       "      <td>9422402</td>\n",
       "    </tr>\n",
       "    <tr>\n",
       "      <th>2</th>\n",
       "      <td>1week_4.99_USD_subscription_7days_trial</td>\n",
       "      <td>1</td>\n",
       "      <td>False</td>\n",
       "      <td>2020-02-18</td>\n",
       "      <td>4997991</td>\n",
       "    </tr>\n",
       "    <tr>\n",
       "      <th>3</th>\n",
       "      <td>1week_4.99_USD_subscription_7days_trial</td>\n",
       "      <td>1</td>\n",
       "      <td>False</td>\n",
       "      <td>2020-02-18</td>\n",
       "      <td>9455582</td>\n",
       "    </tr>\n",
       "    <tr>\n",
       "      <th>4</th>\n",
       "      <td>1week_4.99_USD_subscription_7days_trial</td>\n",
       "      <td>1</td>\n",
       "      <td>False</td>\n",
       "      <td>2020-02-16</td>\n",
       "      <td>8803657</td>\n",
       "    </tr>\n",
       "  </tbody>\n",
       "</table>\n",
       "</div>"
      ],
      "text/plain": [
       "                                product_id  quantity  is_trial_period  \\\n",
       "0  1week_4.99_USD_subscription_7days_trial         1            False   \n",
       "1  1week_4.99_USD_subscription_7days_trial         1            False   \n",
       "2  1week_4.99_USD_subscription_7days_trial         1            False   \n",
       "3  1week_4.99_USD_subscription_7days_trial         1            False   \n",
       "4  1week_4.99_USD_subscription_7days_trial         1            False   \n",
       "\n",
       "  purchase_date  user_id  \n",
       "0    2020-02-19  9484222  \n",
       "1    2020-02-17  9422402  \n",
       "2    2020-02-18  4997991  \n",
       "3    2020-02-18  9455582  \n",
       "4    2020-02-16  8803657  "
      ]
     },
     "execution_count": 5,
     "metadata": {},
     "output_type": "execute_result"
    }
   ],
   "source": [
    "fileurl   = r'https://drive.google.com/file/d/1L8843A80r50_e-hU79XV_ssAfzgQVUDP/view?usp=sharing'\n",
    "filedlurl = r'https://drive.google.com/u/0/uc?id=1L8843A80r50_e-hU79XV_ssAfzgQVUDP&export=download'\n",
    "\n",
    "data = pd.read_excel(filedlurl)\n",
    "data.head()"
   ]
  },
  {
   "cell_type": "code",
   "execution_count": 6,
   "metadata": {},
   "outputs": [
    {
     "name": "stdout",
     "output_type": "stream",
     "text": [
      "<class 'pandas.core.frame.DataFrame'>\n",
      "RangeIndex: 114200 entries, 0 to 114199\n",
      "Data columns (total 5 columns):\n",
      " #   Column           Non-Null Count   Dtype         \n",
      "---  ------           --------------   -----         \n",
      " 0   product_id       114200 non-null  object        \n",
      " 1   quantity         114200 non-null  int64         \n",
      " 2   is_trial_period  114200 non-null  bool          \n",
      " 3   purchase_date    114200 non-null  datetime64[ns]\n",
      " 4   user_id          114200 non-null  int64         \n",
      "dtypes: bool(1), datetime64[ns](1), int64(2), object(1)\n",
      "memory usage: 3.6+ MB\n"
     ]
    }
   ],
   "source": [
    "data.info()"
   ]
  },
  {
   "cell_type": "code",
   "execution_count": 7,
   "metadata": {},
   "outputs": [
    {
     "name": "stdout",
     "output_type": "stream",
     "text": [
      "Количество уникальных значений в каждом столбце:\n",
      "product_id             1\n",
      "quantity               1\n",
      "is_trial_period        2\n",
      "purchase_date         51\n",
      "user_id            62909\n",
      "dtype: int64\n"
     ]
    }
   ],
   "source": [
    "print('Количество уникальных значений в каждом столбце:', data.nunique(), sep='\\n')"
   ]
  },
  {
   "cell_type": "code",
   "execution_count": 8,
   "metadata": {},
   "outputs": [
    {
     "name": "stdout",
     "output_type": "stream",
     "text": [
      "Есть ли нули в каждом столбце:\n",
      "product_id         False\n",
      "quantity           False\n",
      "is_trial_period    False\n",
      "purchase_date      False\n",
      "user_id            False\n",
      "dtype: bool\n"
     ]
    }
   ],
   "source": [
    "print('Есть ли нули в каждом столбце:', data.isnull().any(), sep='\\n')"
   ]
  },
  {
   "cell_type": "markdown",
   "metadata": {},
   "source": [
    "## 3. Рассчет LTV юзера, используя когортный анализ "
   ]
  },
  {
   "cell_type": "code",
   "execution_count": 9,
   "metadata": {},
   "outputs": [
    {
     "data": {
      "text/plain": [
       "Timestamp('2020-01-01 00:00:00')"
      ]
     },
     "execution_count": 9,
     "metadata": {},
     "output_type": "execute_result"
    }
   ],
   "source": [
    "data.purchase_date.min()"
   ]
  },
  {
   "cell_type": "code",
   "execution_count": 10,
   "metadata": {},
   "outputs": [
    {
     "data": {
      "text/plain": [
       "Timestamp('2020-02-20 00:00:00')"
      ]
     },
     "execution_count": 10,
     "metadata": {},
     "output_type": "execute_result"
    }
   ],
   "source": [
    "data.purchase_date.max()"
   ]
  },
  {
   "cell_type": "markdown",
   "metadata": {},
   "source": [
    "Для каждого пользователя найдем дату и время его первой сессии на сайте. Запишем, полученный результат в новый датафрейм."
   ]
  },
  {
   "cell_type": "code",
   "execution_count": 11,
   "metadata": {},
   "outputs": [],
   "source": [
    "mindate = data.sort_values('purchase_date').drop_duplicates('user_id')"
   ]
  },
  {
   "cell_type": "code",
   "execution_count": 12,
   "metadata": {},
   "outputs": [
    {
     "data": {
      "text/plain": [
       "(62909, 5)"
      ]
     },
     "execution_count": 12,
     "metadata": {},
     "output_type": "execute_result"
    }
   ],
   "source": [
    "mindate.shape"
   ]
  },
  {
   "cell_type": "code",
   "execution_count": 13,
   "metadata": {},
   "outputs": [],
   "source": [
    "mindate = mindate[['user_id','purchase_date']]"
   ]
  },
  {
   "cell_type": "code",
   "execution_count": 14,
   "metadata": {},
   "outputs": [
    {
     "data": {
      "text/html": [
       "<div>\n",
       "<style scoped>\n",
       "    .dataframe tbody tr th:only-of-type {\n",
       "        vertical-align: middle;\n",
       "    }\n",
       "\n",
       "    .dataframe tbody tr th {\n",
       "        vertical-align: top;\n",
       "    }\n",
       "\n",
       "    .dataframe thead th {\n",
       "        text-align: right;\n",
       "    }\n",
       "</style>\n",
       "<table border=\"1\" class=\"dataframe\">\n",
       "  <thead>\n",
       "    <tr style=\"text-align: right;\">\n",
       "      <th></th>\n",
       "      <th>user_id</th>\n",
       "      <th>cohort_by_first_session</th>\n",
       "    </tr>\n",
       "  </thead>\n",
       "  <tbody>\n",
       "    <tr>\n",
       "      <th>102315</th>\n",
       "      <td>8190554</td>\n",
       "      <td>2020-01-01</td>\n",
       "    </tr>\n",
       "    <tr>\n",
       "      <th>99730</th>\n",
       "      <td>8186961</td>\n",
       "      <td>2020-01-01</td>\n",
       "    </tr>\n",
       "    <tr>\n",
       "      <th>99720</th>\n",
       "      <td>8169617</td>\n",
       "      <td>2020-01-01</td>\n",
       "    </tr>\n",
       "    <tr>\n",
       "      <th>112712</th>\n",
       "      <td>8205643</td>\n",
       "      <td>2020-01-01</td>\n",
       "    </tr>\n",
       "    <tr>\n",
       "      <th>111387</th>\n",
       "      <td>8198989</td>\n",
       "      <td>2020-01-01</td>\n",
       "    </tr>\n",
       "  </tbody>\n",
       "</table>\n",
       "</div>"
      ],
      "text/plain": [
       "        user_id cohort_by_first_session\n",
       "102315  8190554              2020-01-01\n",
       "99730   8186961              2020-01-01\n",
       "99720   8169617              2020-01-01\n",
       "112712  8205643              2020-01-01\n",
       "111387  8198989              2020-01-01"
      ]
     },
     "execution_count": 14,
     "metadata": {},
     "output_type": "execute_result"
    }
   ],
   "source": [
    "mindate = mindate.rename(columns = {'purchase_date' : 'cohort_by_first_session'})\n",
    "mindate.head()"
   ]
  },
  {
   "cell_type": "markdown",
   "metadata": {},
   "source": [
    "Объединим полученный датафрейм с исходным"
   ]
  },
  {
   "cell_type": "code",
   "execution_count": 15,
   "metadata": {},
   "outputs": [
    {
     "data": {
      "text/html": [
       "<div>\n",
       "<style scoped>\n",
       "    .dataframe tbody tr th:only-of-type {\n",
       "        vertical-align: middle;\n",
       "    }\n",
       "\n",
       "    .dataframe tbody tr th {\n",
       "        vertical-align: top;\n",
       "    }\n",
       "\n",
       "    .dataframe thead th {\n",
       "        text-align: right;\n",
       "    }\n",
       "</style>\n",
       "<table border=\"1\" class=\"dataframe\">\n",
       "  <thead>\n",
       "    <tr style=\"text-align: right;\">\n",
       "      <th></th>\n",
       "      <th>product_id</th>\n",
       "      <th>quantity</th>\n",
       "      <th>is_trial_period</th>\n",
       "      <th>purchase_date</th>\n",
       "      <th>user_id</th>\n",
       "      <th>cohort_by_first_session</th>\n",
       "    </tr>\n",
       "  </thead>\n",
       "  <tbody>\n",
       "    <tr>\n",
       "      <th>0</th>\n",
       "      <td>1week_4.99_USD_subscription_7days_trial</td>\n",
       "      <td>1</td>\n",
       "      <td>False</td>\n",
       "      <td>2020-02-19</td>\n",
       "      <td>9484222</td>\n",
       "      <td>2020-02-12</td>\n",
       "    </tr>\n",
       "    <tr>\n",
       "      <th>1</th>\n",
       "      <td>1week_4.99_USD_subscription_7days_trial</td>\n",
       "      <td>1</td>\n",
       "      <td>False</td>\n",
       "      <td>2020-02-17</td>\n",
       "      <td>9422402</td>\n",
       "      <td>2020-02-10</td>\n",
       "    </tr>\n",
       "    <tr>\n",
       "      <th>2</th>\n",
       "      <td>1week_4.99_USD_subscription_7days_trial</td>\n",
       "      <td>1</td>\n",
       "      <td>False</td>\n",
       "      <td>2020-02-18</td>\n",
       "      <td>4997991</td>\n",
       "      <td>2020-02-11</td>\n",
       "    </tr>\n",
       "    <tr>\n",
       "      <th>3</th>\n",
       "      <td>1week_4.99_USD_subscription_7days_trial</td>\n",
       "      <td>1</td>\n",
       "      <td>False</td>\n",
       "      <td>2020-02-18</td>\n",
       "      <td>9455582</td>\n",
       "      <td>2020-02-11</td>\n",
       "    </tr>\n",
       "    <tr>\n",
       "      <th>4</th>\n",
       "      <td>1week_4.99_USD_subscription_7days_trial</td>\n",
       "      <td>1</td>\n",
       "      <td>False</td>\n",
       "      <td>2020-02-16</td>\n",
       "      <td>8803657</td>\n",
       "      <td>2020-01-19</td>\n",
       "    </tr>\n",
       "  </tbody>\n",
       "</table>\n",
       "</div>"
      ],
      "text/plain": [
       "                                product_id  quantity  is_trial_period  \\\n",
       "0  1week_4.99_USD_subscription_7days_trial         1            False   \n",
       "1  1week_4.99_USD_subscription_7days_trial         1            False   \n",
       "2  1week_4.99_USD_subscription_7days_trial         1            False   \n",
       "3  1week_4.99_USD_subscription_7days_trial         1            False   \n",
       "4  1week_4.99_USD_subscription_7days_trial         1            False   \n",
       "\n",
       "  purchase_date  user_id cohort_by_first_session  \n",
       "0    2020-02-19  9484222              2020-02-12  \n",
       "1    2020-02-17  9422402              2020-02-10  \n",
       "2    2020-02-18  4997991              2020-02-11  \n",
       "3    2020-02-18  9455582              2020-02-11  \n",
       "4    2020-02-16  8803657              2020-01-19  "
      ]
     },
     "execution_count": 15,
     "metadata": {},
     "output_type": "execute_result"
    }
   ],
   "source": [
    "df = data.merge(mindate, how='left', on='user_id')\n",
    "df.head()"
   ]
  },
  {
   "cell_type": "code",
   "execution_count": 16,
   "metadata": {},
   "outputs": [
    {
     "data": {
      "text/html": [
       "<div>\n",
       "<style scoped>\n",
       "    .dataframe tbody tr th:only-of-type {\n",
       "        vertical-align: middle;\n",
       "    }\n",
       "\n",
       "    .dataframe tbody tr th {\n",
       "        vertical-align: top;\n",
       "    }\n",
       "\n",
       "    .dataframe thead th {\n",
       "        text-align: right;\n",
       "    }\n",
       "</style>\n",
       "<table border=\"1\" class=\"dataframe\">\n",
       "  <thead>\n",
       "    <tr style=\"text-align: right;\">\n",
       "      <th></th>\n",
       "      <th>product_id</th>\n",
       "      <th>quantity</th>\n",
       "      <th>is_trial_period</th>\n",
       "      <th>purchase_date</th>\n",
       "      <th>user_id</th>\n",
       "      <th>cohort_by_first_session</th>\n",
       "      <th>activity_week</th>\n",
       "      <th>cohort_by_first_session_week</th>\n",
       "    </tr>\n",
       "  </thead>\n",
       "  <tbody>\n",
       "    <tr>\n",
       "      <th>0</th>\n",
       "      <td>1week_4.99_USD_subscription_7days_trial</td>\n",
       "      <td>1</td>\n",
       "      <td>False</td>\n",
       "      <td>2020-02-19</td>\n",
       "      <td>9484222</td>\n",
       "      <td>2020-02-12</td>\n",
       "      <td>2020-02-13</td>\n",
       "      <td>2020-02-06</td>\n",
       "    </tr>\n",
       "    <tr>\n",
       "      <th>1</th>\n",
       "      <td>1week_4.99_USD_subscription_7days_trial</td>\n",
       "      <td>1</td>\n",
       "      <td>False</td>\n",
       "      <td>2020-02-17</td>\n",
       "      <td>9422402</td>\n",
       "      <td>2020-02-10</td>\n",
       "      <td>2020-02-13</td>\n",
       "      <td>2020-02-06</td>\n",
       "    </tr>\n",
       "    <tr>\n",
       "      <th>2</th>\n",
       "      <td>1week_4.99_USD_subscription_7days_trial</td>\n",
       "      <td>1</td>\n",
       "      <td>False</td>\n",
       "      <td>2020-02-18</td>\n",
       "      <td>4997991</td>\n",
       "      <td>2020-02-11</td>\n",
       "      <td>2020-02-13</td>\n",
       "      <td>2020-02-06</td>\n",
       "    </tr>\n",
       "    <tr>\n",
       "      <th>3</th>\n",
       "      <td>1week_4.99_USD_subscription_7days_trial</td>\n",
       "      <td>1</td>\n",
       "      <td>False</td>\n",
       "      <td>2020-02-18</td>\n",
       "      <td>9455582</td>\n",
       "      <td>2020-02-11</td>\n",
       "      <td>2020-02-13</td>\n",
       "      <td>2020-02-06</td>\n",
       "    </tr>\n",
       "    <tr>\n",
       "      <th>4</th>\n",
       "      <td>1week_4.99_USD_subscription_7days_trial</td>\n",
       "      <td>1</td>\n",
       "      <td>False</td>\n",
       "      <td>2020-02-16</td>\n",
       "      <td>8803657</td>\n",
       "      <td>2020-01-19</td>\n",
       "      <td>2020-02-13</td>\n",
       "      <td>2020-01-16</td>\n",
       "    </tr>\n",
       "  </tbody>\n",
       "</table>\n",
       "</div>"
      ],
      "text/plain": [
       "                                product_id  quantity  is_trial_period  \\\n",
       "0  1week_4.99_USD_subscription_7days_trial         1            False   \n",
       "1  1week_4.99_USD_subscription_7days_trial         1            False   \n",
       "2  1week_4.99_USD_subscription_7days_trial         1            False   \n",
       "3  1week_4.99_USD_subscription_7days_trial         1            False   \n",
       "4  1week_4.99_USD_subscription_7days_trial         1            False   \n",
       "\n",
       "  purchase_date  user_id cohort_by_first_session activity_week  \\\n",
       "0    2020-02-19  9484222              2020-02-12    2020-02-13   \n",
       "1    2020-02-17  9422402              2020-02-10    2020-02-13   \n",
       "2    2020-02-18  4997991              2020-02-11    2020-02-13   \n",
       "3    2020-02-18  9455582              2020-02-11    2020-02-13   \n",
       "4    2020-02-16  8803657              2020-01-19    2020-02-13   \n",
       "\n",
       "  cohort_by_first_session_week  \n",
       "0                   2020-02-06  \n",
       "1                   2020-02-06  \n",
       "2                   2020-02-06  \n",
       "3                   2020-02-06  \n",
       "4                   2020-01-16  "
      ]
     },
     "execution_count": 16,
     "metadata": {},
     "output_type": "execute_result"
    }
   ],
   "source": [
    "#Добавим новые столбцы с инофрмацией об активности по неделям\n",
    "df['activity_week'] = df['purchase_date'].astype('datetime64[W]')\n",
    "df['cohort_by_first_session_week'] = df['cohort_by_first_session'].astype('datetime64[W]')\n",
    "\n",
    "df.head()"
   ]
  },
  {
   "cell_type": "code",
   "execution_count": 17,
   "metadata": {},
   "outputs": [
    {
     "data": {
      "text/html": [
       "<div>\n",
       "<style scoped>\n",
       "    .dataframe tbody tr th:only-of-type {\n",
       "        vertical-align: middle;\n",
       "    }\n",
       "\n",
       "    .dataframe tbody tr th {\n",
       "        vertical-align: top;\n",
       "    }\n",
       "\n",
       "    .dataframe thead th {\n",
       "        text-align: right;\n",
       "    }\n",
       "</style>\n",
       "<table border=\"1\" class=\"dataframe\">\n",
       "  <thead>\n",
       "    <tr style=\"text-align: right;\">\n",
       "      <th></th>\n",
       "      <th>product_id</th>\n",
       "      <th>quantity</th>\n",
       "      <th>is_trial_period</th>\n",
       "      <th>purchase_date</th>\n",
       "      <th>user_id</th>\n",
       "      <th>cohort_by_first_session</th>\n",
       "      <th>activity_week</th>\n",
       "      <th>cohort_by_first_session_week</th>\n",
       "      <th>cohort_lifetime</th>\n",
       "    </tr>\n",
       "  </thead>\n",
       "  <tbody>\n",
       "    <tr>\n",
       "      <th>0</th>\n",
       "      <td>1week_4.99_USD_subscription_7days_trial</td>\n",
       "      <td>1</td>\n",
       "      <td>False</td>\n",
       "      <td>2020-02-19</td>\n",
       "      <td>9484222</td>\n",
       "      <td>2020-02-12</td>\n",
       "      <td>2020-02-13</td>\n",
       "      <td>2020-02-06</td>\n",
       "      <td>1</td>\n",
       "    </tr>\n",
       "    <tr>\n",
       "      <th>1</th>\n",
       "      <td>1week_4.99_USD_subscription_7days_trial</td>\n",
       "      <td>1</td>\n",
       "      <td>False</td>\n",
       "      <td>2020-02-17</td>\n",
       "      <td>9422402</td>\n",
       "      <td>2020-02-10</td>\n",
       "      <td>2020-02-13</td>\n",
       "      <td>2020-02-06</td>\n",
       "      <td>1</td>\n",
       "    </tr>\n",
       "    <tr>\n",
       "      <th>2</th>\n",
       "      <td>1week_4.99_USD_subscription_7days_trial</td>\n",
       "      <td>1</td>\n",
       "      <td>False</td>\n",
       "      <td>2020-02-18</td>\n",
       "      <td>4997991</td>\n",
       "      <td>2020-02-11</td>\n",
       "      <td>2020-02-13</td>\n",
       "      <td>2020-02-06</td>\n",
       "      <td>1</td>\n",
       "    </tr>\n",
       "    <tr>\n",
       "      <th>3</th>\n",
       "      <td>1week_4.99_USD_subscription_7days_trial</td>\n",
       "      <td>1</td>\n",
       "      <td>False</td>\n",
       "      <td>2020-02-18</td>\n",
       "      <td>9455582</td>\n",
       "      <td>2020-02-11</td>\n",
       "      <td>2020-02-13</td>\n",
       "      <td>2020-02-06</td>\n",
       "      <td>1</td>\n",
       "    </tr>\n",
       "    <tr>\n",
       "      <th>4</th>\n",
       "      <td>1week_4.99_USD_subscription_7days_trial</td>\n",
       "      <td>1</td>\n",
       "      <td>False</td>\n",
       "      <td>2020-02-16</td>\n",
       "      <td>8803657</td>\n",
       "      <td>2020-01-19</td>\n",
       "      <td>2020-02-13</td>\n",
       "      <td>2020-01-16</td>\n",
       "      <td>4</td>\n",
       "    </tr>\n",
       "  </tbody>\n",
       "</table>\n",
       "</div>"
      ],
      "text/plain": [
       "                                product_id  quantity  is_trial_period  \\\n",
       "0  1week_4.99_USD_subscription_7days_trial         1            False   \n",
       "1  1week_4.99_USD_subscription_7days_trial         1            False   \n",
       "2  1week_4.99_USD_subscription_7days_trial         1            False   \n",
       "3  1week_4.99_USD_subscription_7days_trial         1            False   \n",
       "4  1week_4.99_USD_subscription_7days_trial         1            False   \n",
       "\n",
       "  purchase_date  user_id cohort_by_first_session activity_week  \\\n",
       "0    2020-02-19  9484222              2020-02-12    2020-02-13   \n",
       "1    2020-02-17  9422402              2020-02-10    2020-02-13   \n",
       "2    2020-02-18  4997991              2020-02-11    2020-02-13   \n",
       "3    2020-02-18  9455582              2020-02-11    2020-02-13   \n",
       "4    2020-02-16  8803657              2020-01-19    2020-02-13   \n",
       "\n",
       "  cohort_by_first_session_week  cohort_lifetime  \n",
       "0                   2020-02-06                1  \n",
       "1                   2020-02-06                1  \n",
       "2                   2020-02-06                1  \n",
       "3                   2020-02-06                1  \n",
       "4                   2020-01-16                4  "
      ]
     },
     "execution_count": 17,
     "metadata": {},
     "output_type": "execute_result"
    }
   ],
   "source": [
    "#Посчитаем время жизни для каждого события в неделях\n",
    "df['cohort_lifetime'] = df['activity_week'] - df['cohort_by_first_session_week']\n",
    "df['cohort_lifetime'] = (df['cohort_lifetime'] / np.timedelta64(1,'W')).round().astype('int')\n",
    "df.head()"
   ]
  },
  {
   "cell_type": "code",
   "execution_count": 18,
   "metadata": {},
   "outputs": [
    {
     "data": {
      "text/plain": [
       "array([1, 4, 2, 3, 6, 5, 7, 8, 0])"
      ]
     },
     "execution_count": 18,
     "metadata": {},
     "output_type": "execute_result"
    }
   ],
   "source": [
    "df.cohort_lifetime.unique()               "
   ]
  },
  {
   "cell_type": "code",
   "execution_count": 19,
   "metadata": {},
   "outputs": [],
   "source": [
    "# Добавим столбец с доходом по подписке\n",
    "df['revenue'] = df.is_trial_period.apply(revenue_by_week)"
   ]
  },
  {
   "cell_type": "code",
   "execution_count": 20,
   "metadata": {},
   "outputs": [
    {
     "data": {
      "text/html": [
       "<div>\n",
       "<style scoped>\n",
       "    .dataframe tbody tr th:only-of-type {\n",
       "        vertical-align: middle;\n",
       "    }\n",
       "\n",
       "    .dataframe tbody tr th {\n",
       "        vertical-align: top;\n",
       "    }\n",
       "\n",
       "    .dataframe thead th {\n",
       "        text-align: right;\n",
       "    }\n",
       "</style>\n",
       "<table border=\"1\" class=\"dataframe\">\n",
       "  <thead>\n",
       "    <tr style=\"text-align: right;\">\n",
       "      <th></th>\n",
       "      <th>product_id</th>\n",
       "      <th>quantity</th>\n",
       "      <th>is_trial_period</th>\n",
       "      <th>purchase_date</th>\n",
       "      <th>user_id</th>\n",
       "      <th>cohort_by_first_session</th>\n",
       "      <th>activity_week</th>\n",
       "      <th>cohort_by_first_session_week</th>\n",
       "      <th>cohort_lifetime</th>\n",
       "      <th>revenue</th>\n",
       "    </tr>\n",
       "  </thead>\n",
       "  <tbody>\n",
       "    <tr>\n",
       "      <th>0</th>\n",
       "      <td>1week_4.99_USD_subscription_7days_trial</td>\n",
       "      <td>1</td>\n",
       "      <td>False</td>\n",
       "      <td>2020-02-19</td>\n",
       "      <td>9484222</td>\n",
       "      <td>2020-02-12</td>\n",
       "      <td>2020-02-13</td>\n",
       "      <td>2020-02-06</td>\n",
       "      <td>1</td>\n",
       "      <td>4.99</td>\n",
       "    </tr>\n",
       "    <tr>\n",
       "      <th>1</th>\n",
       "      <td>1week_4.99_USD_subscription_7days_trial</td>\n",
       "      <td>1</td>\n",
       "      <td>False</td>\n",
       "      <td>2020-02-17</td>\n",
       "      <td>9422402</td>\n",
       "      <td>2020-02-10</td>\n",
       "      <td>2020-02-13</td>\n",
       "      <td>2020-02-06</td>\n",
       "      <td>1</td>\n",
       "      <td>4.99</td>\n",
       "    </tr>\n",
       "    <tr>\n",
       "      <th>2</th>\n",
       "      <td>1week_4.99_USD_subscription_7days_trial</td>\n",
       "      <td>1</td>\n",
       "      <td>False</td>\n",
       "      <td>2020-02-18</td>\n",
       "      <td>4997991</td>\n",
       "      <td>2020-02-11</td>\n",
       "      <td>2020-02-13</td>\n",
       "      <td>2020-02-06</td>\n",
       "      <td>1</td>\n",
       "      <td>4.99</td>\n",
       "    </tr>\n",
       "    <tr>\n",
       "      <th>3</th>\n",
       "      <td>1week_4.99_USD_subscription_7days_trial</td>\n",
       "      <td>1</td>\n",
       "      <td>False</td>\n",
       "      <td>2020-02-18</td>\n",
       "      <td>9455582</td>\n",
       "      <td>2020-02-11</td>\n",
       "      <td>2020-02-13</td>\n",
       "      <td>2020-02-06</td>\n",
       "      <td>1</td>\n",
       "      <td>4.99</td>\n",
       "    </tr>\n",
       "    <tr>\n",
       "      <th>4</th>\n",
       "      <td>1week_4.99_USD_subscription_7days_trial</td>\n",
       "      <td>1</td>\n",
       "      <td>False</td>\n",
       "      <td>2020-02-16</td>\n",
       "      <td>8803657</td>\n",
       "      <td>2020-01-19</td>\n",
       "      <td>2020-02-13</td>\n",
       "      <td>2020-01-16</td>\n",
       "      <td>4</td>\n",
       "      <td>4.99</td>\n",
       "    </tr>\n",
       "  </tbody>\n",
       "</table>\n",
       "</div>"
      ],
      "text/plain": [
       "                                product_id  quantity  is_trial_period  \\\n",
       "0  1week_4.99_USD_subscription_7days_trial         1            False   \n",
       "1  1week_4.99_USD_subscription_7days_trial         1            False   \n",
       "2  1week_4.99_USD_subscription_7days_trial         1            False   \n",
       "3  1week_4.99_USD_subscription_7days_trial         1            False   \n",
       "4  1week_4.99_USD_subscription_7days_trial         1            False   \n",
       "\n",
       "  purchase_date  user_id cohort_by_first_session activity_week  \\\n",
       "0    2020-02-19  9484222              2020-02-12    2020-02-13   \n",
       "1    2020-02-17  9422402              2020-02-10    2020-02-13   \n",
       "2    2020-02-18  4997991              2020-02-11    2020-02-13   \n",
       "3    2020-02-18  9455582              2020-02-11    2020-02-13   \n",
       "4    2020-02-16  8803657              2020-01-19    2020-02-13   \n",
       "\n",
       "  cohort_by_first_session_week  cohort_lifetime  revenue  \n",
       "0                   2020-02-06                1     4.99  \n",
       "1                   2020-02-06                1     4.99  \n",
       "2                   2020-02-06                1     4.99  \n",
       "3                   2020-02-06                1     4.99  \n",
       "4                   2020-01-16                4     4.99  "
      ]
     },
     "execution_count": 20,
     "metadata": {},
     "output_type": "execute_result"
    }
   ],
   "source": [
    "df.head()"
   ]
  },
  {
   "cell_type": "code",
   "execution_count": 21,
   "metadata": {},
   "outputs": [
    {
     "data": {
      "text/html": [
       "<div>\n",
       "<style scoped>\n",
       "    .dataframe tbody tr th:only-of-type {\n",
       "        vertical-align: middle;\n",
       "    }\n",
       "\n",
       "    .dataframe tbody tr th {\n",
       "        vertical-align: top;\n",
       "    }\n",
       "\n",
       "    .dataframe thead th {\n",
       "        text-align: right;\n",
       "    }\n",
       "</style>\n",
       "<table border=\"1\" class=\"dataframe\">\n",
       "  <thead>\n",
       "    <tr style=\"text-align: right;\">\n",
       "      <th></th>\n",
       "      <th>cohort_by_first_session_week</th>\n",
       "      <th>w_n_users</th>\n",
       "    </tr>\n",
       "  </thead>\n",
       "  <tbody>\n",
       "    <tr>\n",
       "      <th>0</th>\n",
       "      <td>2019-12-26</td>\n",
       "      <td>906</td>\n",
       "    </tr>\n",
       "    <tr>\n",
       "      <th>1</th>\n",
       "      <td>2020-01-02</td>\n",
       "      <td>9398</td>\n",
       "    </tr>\n",
       "    <tr>\n",
       "      <th>2</th>\n",
       "      <td>2020-01-09</td>\n",
       "      <td>8927</td>\n",
       "    </tr>\n",
       "    <tr>\n",
       "      <th>3</th>\n",
       "      <td>2020-01-16</td>\n",
       "      <td>8983</td>\n",
       "    </tr>\n",
       "    <tr>\n",
       "      <th>4</th>\n",
       "      <td>2020-01-23</td>\n",
       "      <td>7732</td>\n",
       "    </tr>\n",
       "  </tbody>\n",
       "</table>\n",
       "</div>"
      ],
      "text/plain": [
       "  cohort_by_first_session_week  w_n_users\n",
       "0                   2019-12-26        906\n",
       "1                   2020-01-02       9398\n",
       "2                   2020-01-09       8927\n",
       "3                   2020-01-16       8983\n",
       "4                   2020-01-23       7732"
      ]
     },
     "execution_count": 21,
     "metadata": {},
     "output_type": "execute_result"
    }
   ],
   "source": [
    "# Посчитаем количество новых юзеров в неделю\n",
    "cohort_size = df.groupby(['cohort_by_first_session_week'])\\\n",
    "            .agg({'user_id':'nunique'}).reset_index()\\\n",
    "            .rename(columns={'user_id':'w_n_users'})\n",
    "cohort_size.head()"
   ]
  },
  {
   "cell_type": "code",
   "execution_count": 22,
   "metadata": {},
   "outputs": [
    {
     "data": {
      "text/html": [
       "<div>\n",
       "<style scoped>\n",
       "    .dataframe tbody tr th:only-of-type {\n",
       "        vertical-align: middle;\n",
       "    }\n",
       "\n",
       "    .dataframe tbody tr th {\n",
       "        vertical-align: top;\n",
       "    }\n",
       "\n",
       "    .dataframe thead th {\n",
       "        text-align: right;\n",
       "    }\n",
       "</style>\n",
       "<table border=\"1\" class=\"dataframe\">\n",
       "  <thead>\n",
       "    <tr style=\"text-align: right;\">\n",
       "      <th></th>\n",
       "      <th>cohort_by_first_session_week</th>\n",
       "      <th>cohort_lifetime</th>\n",
       "      <th>cohort_cumsum</th>\n",
       "    </tr>\n",
       "  </thead>\n",
       "  <tbody>\n",
       "    <tr>\n",
       "      <th>0</th>\n",
       "      <td>2019-12-26</td>\n",
       "      <td>0</td>\n",
       "      <td>4.99</td>\n",
       "    </tr>\n",
       "    <tr>\n",
       "      <th>1</th>\n",
       "      <td>2019-12-26</td>\n",
       "      <td>1</td>\n",
       "      <td>1596.80</td>\n",
       "    </tr>\n",
       "    <tr>\n",
       "      <th>2</th>\n",
       "      <td>2019-12-26</td>\n",
       "      <td>2</td>\n",
       "      <td>2998.99</td>\n",
       "    </tr>\n",
       "    <tr>\n",
       "      <th>3</th>\n",
       "      <td>2019-12-26</td>\n",
       "      <td>3</td>\n",
       "      <td>4251.48</td>\n",
       "    </tr>\n",
       "    <tr>\n",
       "      <th>4</th>\n",
       "      <td>2019-12-26</td>\n",
       "      <td>4</td>\n",
       "      <td>5349.28</td>\n",
       "    </tr>\n",
       "  </tbody>\n",
       "</table>\n",
       "</div>"
      ],
      "text/plain": [
       "  cohort_by_first_session_week  cohort_lifetime  cohort_cumsum\n",
       "0                   2019-12-26                0           4.99\n",
       "1                   2019-12-26                1        1596.80\n",
       "2                   2019-12-26                2        2998.99\n",
       "3                   2019-12-26                3        4251.48\n",
       "4                   2019-12-26                4        5349.28"
      ]
     },
     "execution_count": 22,
     "metadata": {},
     "output_type": "execute_result"
    }
   ],
   "source": [
    "# Создадим новый датафрейм с информацией о когортах и их куммулятивной суммой\n",
    "cumsum_revenue_by_cohort = df.groupby(['cohort_by_first_session_week','cohort_lifetime'])\\\n",
    "                             .agg({'revenue':'sum'})\\\n",
    "                             .groupby(level=0).cumsum()\\\n",
    "                             .rename(columns={'revenue':'cohort_cumsum'}).reset_index()\n",
    "cumsum_revenue_by_cohort.head()"
   ]
  },
  {
   "cell_type": "code",
   "execution_count": 23,
   "metadata": {},
   "outputs": [],
   "source": [
    "#Объединим количество пользователей когорты и куммулятивную сумму дохода в когорте\n",
    "report = pd.merge(cohort_size, cumsum_revenue_by_cohort, on='cohort_by_first_session_week')\n"
   ]
  },
  {
   "cell_type": "code",
   "execution_count": 24,
   "metadata": {},
   "outputs": [],
   "source": [
    "report['LTV'] = report['cohort_cumsum'] / report['w_n_users']\n",
    "report['LTV'] = report['LTV'].round(2)"
   ]
  },
  {
   "cell_type": "code",
   "execution_count": 25,
   "metadata": {},
   "outputs": [
    {
     "data": {
      "text/html": [
       "<div>\n",
       "<style scoped>\n",
       "    .dataframe tbody tr th:only-of-type {\n",
       "        vertical-align: middle;\n",
       "    }\n",
       "\n",
       "    .dataframe tbody tr th {\n",
       "        vertical-align: top;\n",
       "    }\n",
       "\n",
       "    .dataframe thead th {\n",
       "        text-align: right;\n",
       "    }\n",
       "</style>\n",
       "<table border=\"1\" class=\"dataframe\">\n",
       "  <thead>\n",
       "    <tr style=\"text-align: right;\">\n",
       "      <th></th>\n",
       "      <th>cohort_by_first_session_week</th>\n",
       "      <th>w_n_users</th>\n",
       "      <th>cohort_lifetime</th>\n",
       "      <th>cohort_cumsum</th>\n",
       "      <th>LTV</th>\n",
       "    </tr>\n",
       "  </thead>\n",
       "  <tbody>\n",
       "    <tr>\n",
       "      <th>0</th>\n",
       "      <td>2019-12-26</td>\n",
       "      <td>906</td>\n",
       "      <td>0</td>\n",
       "      <td>4.99</td>\n",
       "      <td>0.01</td>\n",
       "    </tr>\n",
       "    <tr>\n",
       "      <th>1</th>\n",
       "      <td>2019-12-26</td>\n",
       "      <td>906</td>\n",
       "      <td>1</td>\n",
       "      <td>1596.80</td>\n",
       "      <td>1.76</td>\n",
       "    </tr>\n",
       "    <tr>\n",
       "      <th>2</th>\n",
       "      <td>2019-12-26</td>\n",
       "      <td>906</td>\n",
       "      <td>2</td>\n",
       "      <td>2998.99</td>\n",
       "      <td>3.31</td>\n",
       "    </tr>\n",
       "    <tr>\n",
       "      <th>3</th>\n",
       "      <td>2019-12-26</td>\n",
       "      <td>906</td>\n",
       "      <td>3</td>\n",
       "      <td>4251.48</td>\n",
       "      <td>4.69</td>\n",
       "    </tr>\n",
       "    <tr>\n",
       "      <th>4</th>\n",
       "      <td>2019-12-26</td>\n",
       "      <td>906</td>\n",
       "      <td>4</td>\n",
       "      <td>5349.28</td>\n",
       "      <td>5.90</td>\n",
       "    </tr>\n",
       "  </tbody>\n",
       "</table>\n",
       "</div>"
      ],
      "text/plain": [
       "  cohort_by_first_session_week  w_n_users  cohort_lifetime  cohort_cumsum  \\\n",
       "0                   2019-12-26        906                0           4.99   \n",
       "1                   2019-12-26        906                1        1596.80   \n",
       "2                   2019-12-26        906                2        2998.99   \n",
       "3                   2019-12-26        906                3        4251.48   \n",
       "4                   2019-12-26        906                4        5349.28   \n",
       "\n",
       "    LTV  \n",
       "0  0.01  \n",
       "1  1.76  \n",
       "2  3.31  \n",
       "3  4.69  \n",
       "4  5.90  "
      ]
     },
     "execution_count": 25,
     "metadata": {},
     "output_type": "execute_result"
    }
   ],
   "source": [
    "report.head()"
   ]
  },
  {
   "cell_type": "code",
   "execution_count": 26,
   "metadata": {},
   "outputs": [
    {
     "data": {
      "text/html": [
       "<div>\n",
       "<style scoped>\n",
       "    .dataframe tbody tr th:only-of-type {\n",
       "        vertical-align: middle;\n",
       "    }\n",
       "\n",
       "    .dataframe tbody tr th {\n",
       "        vertical-align: top;\n",
       "    }\n",
       "\n",
       "    .dataframe thead th {\n",
       "        text-align: right;\n",
       "    }\n",
       "</style>\n",
       "<table border=\"1\" class=\"dataframe\">\n",
       "  <thead>\n",
       "    <tr style=\"text-align: right;\">\n",
       "      <th>cohort_lifetime</th>\n",
       "      <th>0</th>\n",
       "      <th>1</th>\n",
       "      <th>2</th>\n",
       "      <th>3</th>\n",
       "      <th>4</th>\n",
       "      <th>5</th>\n",
       "      <th>6</th>\n",
       "      <th>7</th>\n",
       "      <th>8</th>\n",
       "    </tr>\n",
       "    <tr>\n",
       "      <th>cohort_by_first_session_week</th>\n",
       "      <th></th>\n",
       "      <th></th>\n",
       "      <th></th>\n",
       "      <th></th>\n",
       "      <th></th>\n",
       "      <th></th>\n",
       "      <th></th>\n",
       "      <th></th>\n",
       "      <th></th>\n",
       "    </tr>\n",
       "  </thead>\n",
       "  <tbody>\n",
       "    <tr>\n",
       "      <th>2019-12-26</th>\n",
       "      <td>0.01</td>\n",
       "      <td>1.76</td>\n",
       "      <td>3.31</td>\n",
       "      <td>4.69</td>\n",
       "      <td>5.90</td>\n",
       "      <td>7.10</td>\n",
       "      <td>8.16</td>\n",
       "      <td>9.16</td>\n",
       "      <td>9.18</td>\n",
       "    </tr>\n",
       "    <tr>\n",
       "      <th>2020-01-02</th>\n",
       "      <td>0.00</td>\n",
       "      <td>1.84</td>\n",
       "      <td>3.30</td>\n",
       "      <td>4.61</td>\n",
       "      <td>5.80</td>\n",
       "      <td>6.88</td>\n",
       "      <td>7.83</td>\n",
       "      <td>7.88</td>\n",
       "      <td>NaN</td>\n",
       "    </tr>\n",
       "    <tr>\n",
       "      <th>2020-01-09</th>\n",
       "      <td>0.00</td>\n",
       "      <td>1.71</td>\n",
       "      <td>3.08</td>\n",
       "      <td>4.29</td>\n",
       "      <td>5.33</td>\n",
       "      <td>6.28</td>\n",
       "      <td>6.32</td>\n",
       "      <td>NaN</td>\n",
       "      <td>NaN</td>\n",
       "    </tr>\n",
       "    <tr>\n",
       "      <th>2020-01-16</th>\n",
       "      <td>0.00</td>\n",
       "      <td>1.63</td>\n",
       "      <td>2.94</td>\n",
       "      <td>4.07</td>\n",
       "      <td>5.06</td>\n",
       "      <td>5.11</td>\n",
       "      <td>NaN</td>\n",
       "      <td>NaN</td>\n",
       "      <td>NaN</td>\n",
       "    </tr>\n",
       "    <tr>\n",
       "      <th>2020-01-23</th>\n",
       "      <td>0.00</td>\n",
       "      <td>1.58</td>\n",
       "      <td>2.78</td>\n",
       "      <td>3.79</td>\n",
       "      <td>3.84</td>\n",
       "      <td>NaN</td>\n",
       "      <td>NaN</td>\n",
       "      <td>NaN</td>\n",
       "      <td>NaN</td>\n",
       "    </tr>\n",
       "    <tr>\n",
       "      <th>2020-01-30</th>\n",
       "      <td>0.00</td>\n",
       "      <td>1.57</td>\n",
       "      <td>2.75</td>\n",
       "      <td>2.82</td>\n",
       "      <td>NaN</td>\n",
       "      <td>NaN</td>\n",
       "      <td>NaN</td>\n",
       "      <td>NaN</td>\n",
       "      <td>NaN</td>\n",
       "    </tr>\n",
       "    <tr>\n",
       "      <th>2020-02-06</th>\n",
       "      <td>0.00</td>\n",
       "      <td>1.59</td>\n",
       "      <td>1.66</td>\n",
       "      <td>NaN</td>\n",
       "      <td>NaN</td>\n",
       "      <td>NaN</td>\n",
       "      <td>NaN</td>\n",
       "      <td>NaN</td>\n",
       "      <td>NaN</td>\n",
       "    </tr>\n",
       "    <tr>\n",
       "      <th>2020-02-13</th>\n",
       "      <td>0.00</td>\n",
       "      <td>0.05</td>\n",
       "      <td>NaN</td>\n",
       "      <td>NaN</td>\n",
       "      <td>NaN</td>\n",
       "      <td>NaN</td>\n",
       "      <td>NaN</td>\n",
       "      <td>NaN</td>\n",
       "      <td>NaN</td>\n",
       "    </tr>\n",
       "    <tr>\n",
       "      <th>2020-02-20</th>\n",
       "      <td>0.00</td>\n",
       "      <td>NaN</td>\n",
       "      <td>NaN</td>\n",
       "      <td>NaN</td>\n",
       "      <td>NaN</td>\n",
       "      <td>NaN</td>\n",
       "      <td>NaN</td>\n",
       "      <td>NaN</td>\n",
       "      <td>NaN</td>\n",
       "    </tr>\n",
       "  </tbody>\n",
       "</table>\n",
       "</div>"
      ],
      "text/plain": [
       "cohort_lifetime                  0     1     2     3     4     5     6     7  \\\n",
       "cohort_by_first_session_week                                                   \n",
       "2019-12-26                    0.01  1.76  3.31  4.69  5.90  7.10  8.16  9.16   \n",
       "2020-01-02                    0.00  1.84  3.30  4.61  5.80  6.88  7.83  7.88   \n",
       "2020-01-09                    0.00  1.71  3.08  4.29  5.33  6.28  6.32   NaN   \n",
       "2020-01-16                    0.00  1.63  2.94  4.07  5.06  5.11   NaN   NaN   \n",
       "2020-01-23                    0.00  1.58  2.78  3.79  3.84   NaN   NaN   NaN   \n",
       "2020-01-30                    0.00  1.57  2.75  2.82   NaN   NaN   NaN   NaN   \n",
       "2020-02-06                    0.00  1.59  1.66   NaN   NaN   NaN   NaN   NaN   \n",
       "2020-02-13                    0.00  0.05   NaN   NaN   NaN   NaN   NaN   NaN   \n",
       "2020-02-20                    0.00   NaN   NaN   NaN   NaN   NaN   NaN   NaN   \n",
       "\n",
       "cohort_lifetime                  8  \n",
       "cohort_by_first_session_week        \n",
       "2019-12-26                    9.18  \n",
       "2020-01-02                     NaN  \n",
       "2020-01-09                     NaN  \n",
       "2020-01-16                     NaN  \n",
       "2020-01-23                     NaN  \n",
       "2020-01-30                     NaN  \n",
       "2020-02-06                     NaN  \n",
       "2020-02-13                     NaN  \n",
       "2020-02-20                     NaN  "
      ]
     },
     "execution_count": 26,
     "metadata": {},
     "output_type": "execute_result"
    }
   ],
   "source": [
    "LTV_pivot = report.pivot_table(index='cohort_by_first_session_week', \n",
    "                         columns = 'cohort_lifetime', \n",
    "                         values = 'LTV',  \n",
    "                         aggfunc='mean')\n",
    "LTV_pivot"
   ]
  },
  {
   "cell_type": "code",
   "execution_count": 27,
   "metadata": {},
   "outputs": [
    {
     "data": {
      "image/png": "[encoded data removed]",
      "text/plain": [
       "<Figure size 936x648 with 2 Axes>"
      ]
     },
     "metadata": {
      "needs_background": "light"
     },
     "output_type": "display_data"
    }
   ],
   "source": [
    "plt.figure(figsize=(13, 9))\n",
    "plt.title('Cohorts By Week: LTV')\n",
    "sns.heatmap(LTV_pivot, annot=True,  fmt='.2f', vmin = 0,vmax = 14,cmap = 'BuGn');\n",
    "plt.show()"
   ]
  },
  {
   "cell_type": "markdown",
   "metadata": {},
   "source": [
    "## 4. Прогнозирование LTV"
   ]
  },
  {
   "cell_type": "code",
   "execution_count": 28,
   "metadata": {},
   "outputs": [],
   "source": [
    "#Создадим датафоейм, содержащий информацию о среднем значении LTV и номер когорты, соотвествующий неделе подписки.\n",
    "LTV_by_week = report.groupby(['cohort_lifetime'])\\\n",
    "                    .agg({'LTV':'mean'}).reset_index()"
   ]
  },
  {
   "cell_type": "code",
   "execution_count": 29,
   "metadata": {},
   "outputs": [
    {
     "data": {
      "text/plain": [
       "Timestamp('2019-12-26 00:00:00')"
      ]
     },
     "execution_count": 29,
     "metadata": {},
     "output_type": "execute_result"
    }
   ],
   "source": [
    "report.cohort_by_first_session_week.min()"
   ]
  },
  {
   "cell_type": "code",
   "execution_count": 30,
   "metadata": {},
   "outputs": [],
   "source": [
    "LTV_by_week.rename(columns={'cohort_lifetime':'w', 'LTV':'y'}, inplace=True)"
   ]
  },
  {
   "cell_type": "code",
   "execution_count": 31,
   "metadata": {},
   "outputs": [
    {
     "data": {
      "text/plain": [
       "Text(0, 0.5, 'LTV')"
      ]
     },
     "execution_count": 31,
     "metadata": {},
     "output_type": "execute_result"
    },
    {
     "data": {
      "image/png": "[encoded data removed]",
      "text/plain": [
       "<Figure size 432x288 with 1 Axes>"
      ]
     },
     "metadata": {
      "needs_background": "light"
     },
     "output_type": "display_data"
    }
   ],
   "source": [
    "plt.scatter(LTV_by_week['w'], LTV_by_week['y'])\n",
    "plt.title('LTV by subscription week')\n",
    "plt.xlabel('Weeks')\n",
    "plt.ylabel('LTV')"
   ]
  },
  {
   "cell_type": "markdown",
   "metadata": {},
   "source": [
    "Выполним простое прогнозирование при помощи функции логарифма"
   ]
  },
  {
   "cell_type": "code",
   "execution_count": 32,
   "metadata": {},
   "outputs": [],
   "source": [
    "x = LTV_by_week['w']\n",
    "y = LTV_by_week['y']"
   ]
  },
  {
   "cell_type": "code",
   "execution_count": 33,
   "metadata": {},
   "outputs": [],
   "source": [
    "X_l = LTV_by_week[LTV_by_week.w != 0].w\n",
    "Y_l = LTV_by_week[LTV_by_week.w != 0].y.round(2)"
   ]
  },
  {
   "cell_type": "code",
   "execution_count": 34,
   "metadata": {},
   "outputs": [
    {
     "name": "stdout",
     "output_type": "stream",
     "text": [
      "[0.59941784 3.79218888]\n"
     ]
    }
   ],
   "source": [
    "coefs_l, cov = optimize.curve_fit(lambda t,a,b: a + b * np.log(t),  X_l,  Y_l, maxfev=1000)\n",
    "print(coefs_l)"
   ]
  },
  {
   "cell_type": "code",
   "execution_count": 35,
   "metadata": {},
   "outputs": [
    {
     "name": "stdout",
     "output_type": "stream",
     "text": [
      "LTV by week number 9:  8.93\n",
      "LTV by week number 26:  12.95\n"
     ]
    }
   ],
   "source": [
    "ltv_9_26 = ltv_func([9., 26.])\n",
    "ltv9 = round(ltv_9_26[0],2)\n",
    "ltv26 = round(ltv_9_26[1],2)\n",
    "\n",
    "print ('LTV by week number 9: ', ltv9)\n",
    "print ('LTV by week number 26: ', ltv26)"
   ]
  },
  {
   "cell_type": "code",
   "execution_count": 36,
   "metadata": {},
   "outputs": [
    {
     "data": {
      "text/plain": [
       "Text(0.5, 1.0, 'Prediction of LTV by subscription week')"
      ]
     },
     "execution_count": 36,
     "metadata": {},
     "output_type": "execute_result"
    },
    {
     "data": {
      "image/png": "[encoded data removed]",
      "text/plain": [
       "<Figure size 432x288 with 1 Axes>"
      ]
     },
     "metadata": {
      "needs_background": "light"
     },
     "output_type": "display_data"
    }
   ],
   "source": [
    "weeks = np.hstack([LTV_by_week[LTV_by_week.w != 0].w, [12, 26]])\n",
    "plt.scatter(LTV_by_week[LTV_by_week.w != 0].w ,LTV_by_week[LTV_by_week.w != 0].y)\n",
    "plt.plot(weeks,ltv_func(weeks.reshape(-1, 1)))\n",
    "plt.xlabel('Weeks')\n",
    "plt.ylabel('LTV')\n",
    "plt.legend(['LTV forecast', 'LTV'])\n",
    "plt.title('Prediction of LTV by subscription week')"
   ]
  },
  {
   "cell_type": "markdown",
   "metadata": {},
   "source": [
    "Прогнозирование при помощи библиотеки Prophet\n"
   ]
  },
  {
   "cell_type": "code",
   "execution_count": 38,
   "metadata": {},
   "outputs": [],
   "source": [
    "# для прогнозирования при помощи prophet введем новую колонку с данными по дате\n",
    "LTV_by_week['data'] = pd.to_datetime( LTV_by_week['w'] * 7, origin='2019-12-26', unit='d')"
   ]
  },
  {
   "cell_type": "code",
   "execution_count": 39,
   "metadata": {},
   "outputs": [],
   "source": [
    "#Переименовываем столбцы\n",
    "LTV_by_week.rename(columns={'data':'ds'}, inplace=True)"
   ]
  },
  {
   "cell_type": "code",
   "execution_count": 40,
   "metadata": {},
   "outputs": [],
   "source": [
    "LTV_by_week['cap'] = 13"
   ]
  },
  {
   "cell_type": "code",
   "execution_count": 41,
   "metadata": {},
   "outputs": [],
   "source": [
    "# Период, который надо отрезать и предсказать (проверка модели)\n",
    "predictions = 2\n",
    "\n",
    "# Отрезаем из обучающей выборки последние N точек, чтобы измерить на них качество\n",
    "train_df = LTV_by_week[:-predictions]"
   ]
  },
  {
   "cell_type": "code",
   "execution_count": 42,
   "metadata": {},
   "outputs": [
    {
     "data": {
      "text/plain": [
       "<fbprophet.forecaster.Prophet at 0x15d135a3320>"
      ]
     },
     "execution_count": 42,
     "metadata": {},
     "output_type": "execute_result"
    }
   ],
   "source": [
    "m = Prophet(growth='logistic', n_changepoints = 3, daily_seasonality=False, \n",
    "            weekly_seasonality=False, yearly_seasonality=False)\n",
    "m.fit(train_df)"
   ]
  },
  {
   "cell_type": "code",
   "execution_count": 43,
   "metadata": {},
   "outputs": [],
   "source": [
    "# Предсказываем \n",
    "future = m.make_future_dataframe(periods=14, freq='d')\n",
    "future['cap'] = 12\n",
    "forecast = m.predict(future)"
   ]
  },
  {
   "cell_type": "code",
   "execution_count": 44,
   "metadata": {},
   "outputs": [
    {
     "name": "stderr",
     "output_type": "stream",
     "text": [
      "C:\\Users\\matis\\Anaconda3\\lib\\site-packages\\matplotlib\\cbook\\__init__.py:1402: FutureWarning: Support for multi-dimensional indexing (e.g. `obj[:, None]`) is deprecated and will be removed in a future version.  Convert to a numpy array before indexing instead.\n",
      "  x[:, None]\n",
      "C:\\Users\\matis\\Anaconda3\\lib\\site-packages\\matplotlib\\axes\\_base.py:278: FutureWarning: Support for multi-dimensional indexing (e.g. `obj[:, None]`) is deprecated and will be removed in a future version.  Convert to a numpy array before indexing instead.\n",
      "  y = y[:, np.newaxis]\n"
     ]
    },
    {
     "data": {
      "text/plain": [
       "<matplotlib.collections.PathCollection at 0x15d1192fe48>"
      ]
     },
     "execution_count": 44,
     "metadata": {},
     "output_type": "execute_result"
    },
    {
     "data": {
      "image/png": "[encoded data removed]",
      "text/plain": [
       "<Figure size 720x432 with 1 Axes>"
      ]
     },
     "metadata": {},
     "output_type": "display_data"
    }
   ],
   "source": [
    "# Смотрим, что предсказалось\n",
    "m.plot(forecast)\n",
    "plt.scatter(LTV_by_week['ds'], LTV_by_week['y'], c='#ff7f0e')"
   ]
  },
  {
   "cell_type": "markdown",
   "metadata": {},
   "source": [
    "На графике изображены исходные данные(оранжевые точки), модель(синяя линия), ошибки модели (голубая тень) "
   ]
  },
  {
   "cell_type": "code",
   "execution_count": 45,
   "metadata": {},
   "outputs": [
    {
     "name": "stdout",
     "output_type": "stream",
     "text": [
      "MAPE(средняя абсолютная ошибка в процентах) –  3.9512916356174608 %\n",
      "MAE (средняя абсолютная ошибка) –  0.3627285721496829\n"
     ]
    }
   ],
   "source": [
    "# Смотрим на ошибки модели\n",
    "cmp_df = forecast.set_index('ds')[['yhat', 'yhat_lower', 'yhat_upper']].join(LTV_by_week.set_index('ds'))\n",
    "cmp_df['e'] = cmp_df['y'] - cmp_df['yhat']\n",
    "cmp_df['p'] = 100*cmp_df['e']/cmp_df['y']\n",
    "\n",
    "print('MAPE(средняя абсолютная ошибка в процентах) – ', np.mean(abs(cmp_df[-predictions:]['p'])),'%')\n",
    "print('MAE (средняя абсолютная ошибка) – ', np.mean(abs(cmp_df[-predictions:]['e'])))"
   ]
  },
  {
   "cell_type": "code",
   "execution_count": 46,
   "metadata": {},
   "outputs": [],
   "source": [
    "MAPE = round(np.mean(abs(cmp_df[-predictions:]['p'])), 2)"
   ]
  },
  {
   "cell_type": "code",
   "execution_count": 47,
   "metadata": {},
   "outputs": [],
   "source": [
    "# Прогнозируем на полный период (указываем количество недель)\n",
    "final_train_df = LTV_by_week\n",
    "f = Prophet( daily_seasonality=False, weekly_seasonality=False, yearly_seasonality=False, \n",
    "            n_changepoints = 3, growth='logistic')\n",
    "f.fit(final_train_df)\n",
    "final_future = f.make_future_dataframe(periods=18, freq='w')\n",
    "final_future['cap'] = 12\n",
    "final_forecast = f.predict(final_future)"
   ]
  },
  {
   "cell_type": "code",
   "execution_count": 48,
   "metadata": {},
   "outputs": [
    {
     "name": "stderr",
     "output_type": "stream",
     "text": [
      "C:\\Users\\matis\\Anaconda3\\lib\\site-packages\\matplotlib\\cbook\\__init__.py:1402: FutureWarning: Support for multi-dimensional indexing (e.g. `obj[:, None]`) is deprecated and will be removed in a future version.  Convert to a numpy array before indexing instead.\n",
      "  x[:, None]\n",
      "C:\\Users\\matis\\Anaconda3\\lib\\site-packages\\matplotlib\\axes\\_base.py:278: FutureWarning: Support for multi-dimensional indexing (e.g. `obj[:, None]`) is deprecated and will be removed in a future version.  Convert to a numpy array before indexing instead.\n",
      "  y = y[:, np.newaxis]\n"
     ]
    },
    {
     "data": {
      "image/png": "[encoded data removed]",
      "text/plain": [
       "<Figure size 720x432 with 1 Axes>"
      ]
     },
     "metadata": {},
     "output_type": "display_data"
    }
   ],
   "source": [
    "# Смотрим, что предсказалось на полный период\n",
    "final_prediction_26_weeks = f.plot(final_forecast)"
   ]
  },
  {
   "cell_type": "code",
   "execution_count": 55,
   "metadata": {},
   "outputs": [
    {
     "data": {
      "text/html": [
       "<div>\n",
       "<style scoped>\n",
       "    .dataframe tbody tr th:only-of-type {\n",
       "        vertical-align: middle;\n",
       "    }\n",
       "\n",
       "    .dataframe tbody tr th {\n",
       "        vertical-align: top;\n",
       "    }\n",
       "\n",
       "    .dataframe thead th {\n",
       "        text-align: right;\n",
       "    }\n",
       "</style>\n",
       "<table border=\"1\" class=\"dataframe\">\n",
       "  <thead>\n",
       "    <tr style=\"text-align: right;\">\n",
       "      <th></th>\n",
       "      <th>ds</th>\n",
       "      <th>trend</th>\n",
       "      <th>cap</th>\n",
       "      <th>yhat_lower</th>\n",
       "      <th>yhat_upper</th>\n",
       "      <th>trend_lower</th>\n",
       "      <th>trend_upper</th>\n",
       "      <th>additive_terms</th>\n",
       "      <th>additive_terms_lower</th>\n",
       "      <th>additive_terms_upper</th>\n",
       "      <th>multiplicative_terms</th>\n",
       "      <th>multiplicative_terms_lower</th>\n",
       "      <th>multiplicative_terms_upper</th>\n",
       "      <th>yhat</th>\n",
       "    </tr>\n",
       "  </thead>\n",
       "  <tbody>\n",
       "    <tr>\n",
       "      <th>24</th>\n",
       "      <td>2020-06-07</td>\n",
       "      <td>11.993166</td>\n",
       "      <td>12</td>\n",
       "      <td>11.314575</td>\n",
       "      <td>12.711160</td>\n",
       "      <td>11.993166</td>\n",
       "      <td>11.993166</td>\n",
       "      <td>0.0</td>\n",
       "      <td>0.0</td>\n",
       "      <td>0.0</td>\n",
       "      <td>0.0</td>\n",
       "      <td>0.0</td>\n",
       "      <td>0.0</td>\n",
       "      <td>11.993166</td>\n",
       "    </tr>\n",
       "    <tr>\n",
       "      <th>25</th>\n",
       "      <td>2020-06-14</td>\n",
       "      <td>11.995476</td>\n",
       "      <td>12</td>\n",
       "      <td>11.298400</td>\n",
       "      <td>12.708414</td>\n",
       "      <td>11.995476</td>\n",
       "      <td>11.995476</td>\n",
       "      <td>0.0</td>\n",
       "      <td>0.0</td>\n",
       "      <td>0.0</td>\n",
       "      <td>0.0</td>\n",
       "      <td>0.0</td>\n",
       "      <td>0.0</td>\n",
       "      <td>11.995476</td>\n",
       "    </tr>\n",
       "    <tr>\n",
       "      <th>26</th>\n",
       "      <td>2020-06-21</td>\n",
       "      <td>11.997005</td>\n",
       "      <td>12</td>\n",
       "      <td>11.286260</td>\n",
       "      <td>12.699429</td>\n",
       "      <td>11.997005</td>\n",
       "      <td>11.997005</td>\n",
       "      <td>0.0</td>\n",
       "      <td>0.0</td>\n",
       "      <td>0.0</td>\n",
       "      <td>0.0</td>\n",
       "      <td>0.0</td>\n",
       "      <td>0.0</td>\n",
       "      <td>11.997005</td>\n",
       "    </tr>\n",
       "  </tbody>\n",
       "</table>\n",
       "</div>"
      ],
      "text/plain": [
       "           ds      trend  cap  yhat_lower  yhat_upper  trend_lower  \\\n",
       "24 2020-06-07  11.993166   12   11.314575   12.711160    11.993166   \n",
       "25 2020-06-14  11.995476   12   11.298400   12.708414    11.995476   \n",
       "26 2020-06-21  11.997005   12   11.286260   12.699429    11.997005   \n",
       "\n",
       "    trend_upper  additive_terms  additive_terms_lower  additive_terms_upper  \\\n",
       "24    11.993166             0.0                   0.0                   0.0   \n",
       "25    11.995476             0.0                   0.0                   0.0   \n",
       "26    11.997005             0.0                   0.0                   0.0   \n",
       "\n",
       "    multiplicative_terms  multiplicative_terms_lower  \\\n",
       "24                   0.0                         0.0   \n",
       "25                   0.0                         0.0   \n",
       "26                   0.0                         0.0   \n",
       "\n",
       "    multiplicative_terms_upper       yhat  \n",
       "24                         0.0  11.993166  \n",
       "25                         0.0  11.995476  \n",
       "26                         0.0  11.997005  "
      ]
     },
     "execution_count": 55,
     "metadata": {},
     "output_type": "execute_result"
    }
   ],
   "source": [
    "final_forecast.tail(3)"
   ]
  },
  {
   "cell_type": "markdown",
   "metadata": {},
   "source": [
    "В прогнозе каждая дата соотвествует неделе подсписки начиная с 0 до 26. При этом за 0 неделю принята неделя, начинающаяся 2019-12-26"
   ]
  },
  {
   "cell_type": "markdown",
   "metadata": {},
   "source": [
    "Существует модель прогнозирования Pareto/NBD, которая часто применяется именно для предсказания метрики LTV, но я пока не успела с ней разобраться."
   ]
  },
  {
   "cell_type": "markdown",
   "metadata": {},
   "source": [
    "## 5. Расчет ROMI\n",
    "\n",
    "Рассчитать ROMI на 4 недели и на полгода, если стоимость привлечения платящего пользователя 6 USD (ROMI нужно брать операционный, а не бухгалтерский, цель: узнать как окупятся наши инвестиции)."
   ]
  },
  {
   "cell_type": "markdown",
   "metadata": {},
   "source": [
    "ROMI = (LTV(t) - стоимость привлечения) / стоимость привлечения х 100%"
   ]
  },
  {
   "cell_type": "markdown",
   "metadata": {},
   "source": [
    "### ROMI на 4-й неделе"
   ]
  },
  {
   "cell_type": "code",
   "execution_count": 56,
   "metadata": {},
   "outputs": [
    {
     "name": "stdout",
     "output_type": "stream",
     "text": [
      "LTV на 4ой недели  4.045\n"
     ]
    }
   ],
   "source": [
    "print('LTV на 4ой недели ', LTV_by_week.y[3])"
   ]
  },
  {
   "cell_type": "code",
   "execution_count": 57,
   "metadata": {},
   "outputs": [
    {
     "name": "stdout",
     "output_type": "stream",
     "text": [
      "ROMI на 4ой неделе  -32.58 %\n"
     ]
    }
   ],
   "source": [
    "print('ROMI на 4ой неделе ', round((LTV_by_week.y[3] - 6) / 6 * 100, 2), '%')"
   ]
  },
  {
   "cell_type": "markdown",
   "metadata": {},
   "source": [
    "### ROMI через полгода (26 неделя)"
   ]
  },
  {
   "cell_type": "code",
   "execution_count": 58,
   "metadata": {},
   "outputs": [
    {
     "name": "stdout",
     "output_type": "stream",
     "text": [
      "По вышеполученному прогнозу LTV через полгода(26 недель) ориентировочно равно 12.95\n"
     ]
    }
   ],
   "source": [
    "print('По вышеполученному прогнозу LTV через полгода(26 недель) ориентировочно равно', ltv26)"
   ]
  },
  {
   "cell_type": "code",
   "execution_count": 51,
   "metadata": {},
   "outputs": [],
   "source": [
    "LTV_26_prophet = final_forecast[-1:].trend[26]"
   ]
  },
  {
   "cell_type": "code",
   "execution_count": 52,
   "metadata": {},
   "outputs": [
    {
     "name": "stdout",
     "output_type": "stream",
     "text": [
      "ROMI на 26-ой неделе  99.95 ± 3.95 %\n"
     ]
    }
   ],
   "source": [
    "print('ROMI на 26-ой неделе ', round((LTV_26_prophet - 6) / 6 * 100, 2),'±', MAPE, '%')"
   ]
  },
  {
   "cell_type": "code",
   "execution_count": null,
   "metadata": {},
   "outputs": [],
   "source": []
  }
 ],
 "metadata": {
  "kernelspec": {
   "display_name": "Python 3",
   "language": "python",
   "name": "python3"
  },
  "language_info": {
   "codemirror_mode": {
    "name": "ipython",
    "version": 3
   },
   "file_extension": ".py",
   "mimetype": "text/x-python",
   "name": "python",
   "nbconvert_exporter": "python",
   "pygments_lexer": "ipython3",
   "version": "3.7.3"
  }
 },
 "nbformat": 4,
 "nbformat_minor": 2
}
