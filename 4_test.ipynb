{
 "cells": [
  {
   "cell_type": "markdown",
   "metadata": {},
   "source": [
    "# Проект: вариант 4\n",
    "## Задание 1\n",
    "Представьте, что вы аналитик в компании, которая разрабатывает приложение для обработки и оформления фотографий в формате Stories (например, для дальнейшего экспорта в Instagram Stories). Был проведен A/B тест: тестовой группе предлагалась новая модель оплаты коллекций шаблонов, контрольной – старая механика. Ваша основная задача: проанализировать итоги эксперимента и решить, нужно ли выкатывать новую модель на остальных пользователей.\n",
    "\n",
    "В ходе отчета обоснуйте выбор метрик, на которые вы обращаете внимание. Если различия есть, то объясните, с чем они могут быть связаны и являются ли значимыми.\n",
    "\n",
    "Данные:\n",
    "\n",
    "* active_users – информация о пользователях, которые посещали приложение во время эксперимента\n",
    "* groups – разбивка пользователей на контрольную (А) и тестовую (В) группы\n",
    "* purchases – данные о транзакциях (оплатах) пользователей приложения во время эксперимента\n",
    "\n"
   ]
  },
  {
   "cell_type": "markdown",
   "metadata": {},
   "source": [
    "Импорт необходимых библиотек"
   ]
  },
  {
   "cell_type": "code",
   "execution_count": 1,
   "metadata": {},
   "outputs": [],
   "source": [
    "import numpy as np\n",
    "import pandas as pd\n",
    "from scipy.stats import norm\n",
    "import matplotlib.pyplot as plt\n",
    "from statsmodels.stats.contingency_tables import StratifiedTable\n",
    "import os\n",
    "from scipy import stats\n",
    "import seaborn as sns\n",
    "\n",
    "from tqdm.auto import tqdm\n",
    "\n",
    "plt.style.use('ggplot')"
   ]
  },
  {
   "cell_type": "markdown",
   "metadata": {},
   "source": [
    "Функции, используемые в коде"
   ]
  },
  {
   "cell_type": "code",
   "execution_count": 2,
   "metadata": {},
   "outputs": [],
   "source": [
    "def paid_user(row):\n",
    "    if row.revenue > 0:\n",
    "        return 1\n",
    "    else:\n",
    "        return 0"
   ]
  },
  {
   "cell_type": "code",
   "execution_count": 113,
   "metadata": {},
   "outputs": [],
   "source": [
    "def comparison_A_B(metric_B, metric_A):\n",
    "    if metric_B > metric_A:\n",
    "        diff = (metric_B - metric_A)/metric_A *100\n",
    "        print('Увеличилось на ', round(diff,2), '% в тестовой группе по сравнению с контрольной', sep='')\n",
    "    elif metric_B == metric_A:\n",
    "        print('Не изменилось')\n",
    "    else:\n",
    "        diff = (metric_A - metric_B)/metric_A *100\n",
    "        print('Уменьшилось на ', round(diff,2), '% в тестовой группе по сравнению с контрольной', sep='')"
   ]
  },
  {
   "cell_type": "code",
   "execution_count": 4,
   "metadata": {},
   "outputs": [],
   "source": [
    "def comparisson_Pvalue(Pvalue):\n",
    "    if Pvalue > 0.05:\n",
    "        print('По полученному p-value > 0.05 не можем отклонить нулевую гипотезу, т.е. распределения выборок не имеют статически значимых различий.')\n",
    "    else:\n",
    "        print('По полученному p-value < 0.05 можем отклонить нулевую гипотезу, т.е. распределения выборок имеют статически значимые различия.')\n"
   ]
  },
  {
   "cell_type": "code",
   "execution_count": 5,
   "metadata": {},
   "outputs": [],
   "source": [
    "def get_bootstrap(\n",
    "    data_column_1, \n",
    "    data_column_2, \n",
    "    boot_it = 1000, \n",
    "    statistic = np.mean, \n",
    "    bootstrap_conf_level = 0.95 \n",
    "):\n",
    "    boot_len = max([len(data_column_1), len(data_column_2)])\n",
    "    boot_data = []\n",
    "    for i in tqdm(range(boot_it)): \n",
    "        samples_1 = data_column_1.sample(\n",
    "            boot_len, \n",
    "            replace = True \n",
    "        ).values\n",
    "        \n",
    "        samples_2 = data_column_2.sample(\n",
    "            boot_len, \n",
    "            replace = True\n",
    "        ).values\n",
    "        \n",
    "        boot_data.append(statistic(samples_1-samples_2)) \n",
    "        \n",
    "    pd_boot_data = pd.DataFrame(boot_data)\n",
    "        \n",
    "    left_quant = (1 - bootstrap_conf_level)/2\n",
    "    right_quant = 1 - (1 - bootstrap_conf_level) / 2\n",
    "    quants = pd_boot_data.quantile([left_quant, right_quant])\n",
    "        \n",
    "    p_1 = norm.cdf(\n",
    "        x = 0, \n",
    "        loc = np.mean(boot_data), \n",
    "        scale = np.std(boot_data)\n",
    "    )\n",
    "    p_2 = norm.cdf(\n",
    "        x = 0, \n",
    "        loc = -np.mean(boot_data), \n",
    "        scale = np.std(boot_data)\n",
    "    )\n",
    "    p_value = min(p_1, p_2) * 2\n",
    "        \n",
    "    # Визуализация\n",
    "    _, _, bars = plt.hist(pd_boot_data[0], bins = 50)\n",
    "    for bar in bars:\n",
    "        if abs(bar.get_x()) <= quants.iloc[0][0] or abs(bar.get_x()) >= quants.iloc[1][0]:\n",
    "            bar.set_facecolor('red')\n",
    "        else: \n",
    "            bar.set_facecolor('grey')\n",
    "            bar.set_edgecolor('black')\n",
    "    \n",
    "    plt.style.use('ggplot')\n",
    "    plt.vlines(quants,ymin=0,ymax=50,linestyle='--')\n",
    "    plt.xlabel('boot_data')\n",
    "    plt.ylabel('frequency')\n",
    "    plt.title(\"Histogram of boot_data\")\n",
    "    plt.show()\n",
    "       \n",
    "    return {\"boot_data\": boot_data, \n",
    "            \"quants\": quants, \n",
    "            \"p_value\": p_value}"
   ]
  },
  {
   "cell_type": "markdown",
   "metadata": {},
   "source": [
    "Загрузка данных"
   ]
  },
  {
   "cell_type": "code",
   "execution_count": 6,
   "metadata": {},
   "outputs": [
    {
     "data": {
      "text/plain": [
       "'/home/jupyter-k.ezdakova-3/final_project'"
      ]
     },
     "execution_count": 6,
     "metadata": {},
     "output_type": "execute_result"
    }
   ],
   "source": [
    "os.getcwd()"
   ]
  },
  {
   "cell_type": "code",
   "execution_count": 7,
   "metadata": {},
   "outputs": [],
   "source": [
    "path_active_users = '/home/jupyter-k.ezdakova-3/final_project/active_users.csv'\n",
    "path_groups = '/home/jupyter-k.ezdakova-3/final_project/groups.csv'\n",
    "path_purchases = '/home/jupyter-k.ezdakova-3/final_project/purchases.csv'"
   ]
  },
  {
   "cell_type": "code",
   "execution_count": 8,
   "metadata": {},
   "outputs": [
    {
     "data": {
      "text/html": [
       "<div>\n",
       "<style scoped>\n",
       "    .dataframe tbody tr th:only-of-type {\n",
       "        vertical-align: middle;\n",
       "    }\n",
       "\n",
       "    .dataframe tbody tr th {\n",
       "        vertical-align: top;\n",
       "    }\n",
       "\n",
       "    .dataframe thead th {\n",
       "        text-align: right;\n",
       "    }\n",
       "</style>\n",
       "<table border=\"1\" class=\"dataframe\">\n",
       "  <thead>\n",
       "    <tr style=\"text-align: right;\">\n",
       "      <th></th>\n",
       "      <th>user_id</th>\n",
       "      <th>country</th>\n",
       "      <th>platform</th>\n",
       "      <th>sex</th>\n",
       "    </tr>\n",
       "  </thead>\n",
       "  <tbody>\n",
       "    <tr>\n",
       "      <th>0</th>\n",
       "      <td>8029</td>\n",
       "      <td>Russia</td>\n",
       "      <td>ios</td>\n",
       "      <td>male</td>\n",
       "    </tr>\n",
       "    <tr>\n",
       "      <th>1</th>\n",
       "      <td>1735</td>\n",
       "      <td>Sweden</td>\n",
       "      <td>ios</td>\n",
       "      <td>male</td>\n",
       "    </tr>\n",
       "  </tbody>\n",
       "</table>\n",
       "</div>"
      ],
      "text/plain": [
       "   user_id country platform   sex\n",
       "0     8029  Russia      ios  male\n",
       "1     1735  Sweden      ios  male"
      ]
     },
     "execution_count": 8,
     "metadata": {},
     "output_type": "execute_result"
    }
   ],
   "source": [
    "active_users = pd.read_csv(path_active_users)\n",
    "groups       = pd.read_csv(path_groups)\n",
    "purchases    = pd.read_csv(path_purchases)\n",
    "\n",
    "active_users.head(2)"
   ]
  },
  {
   "cell_type": "markdown",
   "metadata": {},
   "source": [
    "Предпросмотр данных"
   ]
  },
  {
   "cell_type": "code",
   "execution_count": 9,
   "metadata": {},
   "outputs": [
    {
     "data": {
      "text/plain": [
       "8341"
      ]
     },
     "execution_count": 9,
     "metadata": {},
     "output_type": "execute_result"
    }
   ],
   "source": [
    "active_users.user_id.nunique()"
   ]
  },
  {
   "cell_type": "code",
   "execution_count": 10,
   "metadata": {},
   "outputs": [
    {
     "data": {
      "text/html": [
       "<div>\n",
       "<style scoped>\n",
       "    .dataframe tbody tr th:only-of-type {\n",
       "        vertical-align: middle;\n",
       "    }\n",
       "\n",
       "    .dataframe tbody tr th {\n",
       "        vertical-align: top;\n",
       "    }\n",
       "\n",
       "    .dataframe thead th {\n",
       "        text-align: right;\n",
       "    }\n",
       "</style>\n",
       "<table border=\"1\" class=\"dataframe\">\n",
       "  <thead>\n",
       "    <tr style=\"text-align: right;\">\n",
       "      <th></th>\n",
       "      <th>user_id</th>\n",
       "      <th>group</th>\n",
       "    </tr>\n",
       "  </thead>\n",
       "  <tbody>\n",
       "    <tr>\n",
       "      <th>0</th>\n",
       "      <td>9149</td>\n",
       "      <td>B</td>\n",
       "    </tr>\n",
       "    <tr>\n",
       "      <th>1</th>\n",
       "      <td>9150</td>\n",
       "      <td>B</td>\n",
       "    </tr>\n",
       "  </tbody>\n",
       "</table>\n",
       "</div>"
      ],
      "text/plain": [
       "   user_id group\n",
       "0     9149     B\n",
       "1     9150     B"
      ]
     },
     "execution_count": 10,
     "metadata": {},
     "output_type": "execute_result"
    }
   ],
   "source": [
    "groups.head(2)"
   ]
  },
  {
   "cell_type": "code",
   "execution_count": 11,
   "metadata": {},
   "outputs": [
    {
     "data": {
      "text/plain": [
       "74576"
      ]
     },
     "execution_count": 11,
     "metadata": {},
     "output_type": "execute_result"
    }
   ],
   "source": [
    "groups.user_id.nunique()"
   ]
  },
  {
   "cell_type": "code",
   "execution_count": 12,
   "metadata": {},
   "outputs": [
    {
     "name": "stdout",
     "output_type": "stream",
     "text": [
      "Количество пользователей в группе А: 14693\n"
     ]
    }
   ],
   "source": [
    "users_A_groups = groups.query('group == \"A\"').user_id.nunique()\n",
    "print('Количество пользователей в группе А:', users_A_groups)"
   ]
  },
  {
   "cell_type": "code",
   "execution_count": 13,
   "metadata": {},
   "outputs": [
    {
     "name": "stdout",
     "output_type": "stream",
     "text": [
      "Количество пользователей в группе B: 59883\n"
     ]
    }
   ],
   "source": [
    "users_B_groups = groups.query('group == \"B\"').user_id.nunique()\n",
    "print('Количество пользователей в группе B:', users_B_groups)"
   ]
  },
  {
   "cell_type": "code",
   "execution_count": 14,
   "metadata": {},
   "outputs": [
    {
     "name": "stdout",
     "output_type": "stream",
     "text": [
      "Соотношение количества пользователей в группе а к б: 24.5 %\n"
     ]
    }
   ],
   "source": [
    "print('Соотношение количества пользователей в группе а к б:', round(users_A_groups/users_B_groups *100, 1), '%')\n",
    "#Соотношение юзеров а к б"
   ]
  },
  {
   "cell_type": "code",
   "execution_count": 15,
   "metadata": {},
   "outputs": [
    {
     "name": "stdout",
     "output_type": "stream",
     "text": [
      "Количество уникальных пользователей в датафрейме purchase: 541\n"
     ]
    }
   ],
   "source": [
    "print('Количество уникальных пользователей в датафрейме purchase:', purchases.user_id.nunique())"
   ]
  },
  {
   "cell_type": "code",
   "execution_count": 16,
   "metadata": {},
   "outputs": [
    {
     "data": {
      "text/html": [
       "<div>\n",
       "<style scoped>\n",
       "    .dataframe tbody tr th:only-of-type {\n",
       "        vertical-align: middle;\n",
       "    }\n",
       "\n",
       "    .dataframe tbody tr th {\n",
       "        vertical-align: top;\n",
       "    }\n",
       "\n",
       "    .dataframe thead th {\n",
       "        text-align: right;\n",
       "    }\n",
       "</style>\n",
       "<table border=\"1\" class=\"dataframe\">\n",
       "  <thead>\n",
       "    <tr style=\"text-align: right;\">\n",
       "      <th></th>\n",
       "      <th>user_id</th>\n",
       "      <th>revenue</th>\n",
       "    </tr>\n",
       "  </thead>\n",
       "  <tbody>\n",
       "    <tr>\n",
       "      <th>0</th>\n",
       "      <td>4412</td>\n",
       "      <td>1000.0</td>\n",
       "    </tr>\n",
       "    <tr>\n",
       "      <th>1</th>\n",
       "      <td>9000</td>\n",
       "      <td>701.0</td>\n",
       "    </tr>\n",
       "  </tbody>\n",
       "</table>\n",
       "</div>"
      ],
      "text/plain": [
       "   user_id  revenue\n",
       "0     4412   1000.0\n",
       "1     9000    701.0"
      ]
     },
     "execution_count": 16,
     "metadata": {},
     "output_type": "execute_result"
    }
   ],
   "source": [
    "purchases.head(2)"
   ]
  },
  {
   "cell_type": "code",
   "execution_count": 17,
   "metadata": {},
   "outputs": [
    {
     "data": {
      "text/plain": [
       "(74576, 2)"
      ]
     },
     "execution_count": 17,
     "metadata": {},
     "output_type": "execute_result"
    }
   ],
   "source": [
    "groups.shape"
   ]
  },
  {
   "cell_type": "code",
   "execution_count": 18,
   "metadata": {},
   "outputs": [
    {
     "data": {
      "text/plain": [
       "(541, 2)"
      ]
     },
     "execution_count": 18,
     "metadata": {},
     "output_type": "execute_result"
    }
   ],
   "source": [
    "purchases.shape"
   ]
  },
  {
   "cell_type": "code",
   "execution_count": 19,
   "metadata": {},
   "outputs": [
    {
     "data": {
      "text/plain": [
       "(8341, 4)"
      ]
     },
     "execution_count": 19,
     "metadata": {},
     "output_type": "execute_result"
    }
   ],
   "source": [
    "active_users.shape"
   ]
  },
  {
   "cell_type": "markdown",
   "metadata": {},
   "source": [
    "#### Условие задания \n",
    " Был проведен A/B тест: тестовой группе предлагалась новая модель оплаты коллекций шаблонов, контрольной – старая механика. Ваша основная задача: проанализировать итоги эксперимента и решить, нужно ли выкатывать новую модель на остальных пользователей.\n",
    "\n",
    "В ходе отчета обоснуйте выбор метрик, на которые вы обращаете внимание. Если различия есть, то объясните, с чем они могут быть связаны и являются ли значимыми."
   ]
  },
  {
   "cell_type": "markdown",
   "metadata": {},
   "source": [
    "Соединение исходных таблиц в одну под названием test"
   ]
  },
  {
   "cell_type": "code",
   "execution_count": 26,
   "metadata": {},
   "outputs": [],
   "source": [
    "test = active_users.merge(purchases, how ='outer', on = ['user_id']) "
   ]
  },
  {
   "cell_type": "code",
   "execution_count": 27,
   "metadata": {},
   "outputs": [
    {
     "data": {
      "text/html": [
       "<div>\n",
       "<style scoped>\n",
       "    .dataframe tbody tr th:only-of-type {\n",
       "        vertical-align: middle;\n",
       "    }\n",
       "\n",
       "    .dataframe tbody tr th {\n",
       "        vertical-align: top;\n",
       "    }\n",
       "\n",
       "    .dataframe thead th {\n",
       "        text-align: right;\n",
       "    }\n",
       "</style>\n",
       "<table border=\"1\" class=\"dataframe\">\n",
       "  <thead>\n",
       "    <tr style=\"text-align: right;\">\n",
       "      <th></th>\n",
       "      <th>user_id</th>\n",
       "      <th>country</th>\n",
       "      <th>platform</th>\n",
       "      <th>sex</th>\n",
       "      <th>revenue</th>\n",
       "      <th>group</th>\n",
       "    </tr>\n",
       "  </thead>\n",
       "  <tbody>\n",
       "    <tr>\n",
       "      <th>0</th>\n",
       "      <td>8029</td>\n",
       "      <td>Russia</td>\n",
       "      <td>ios</td>\n",
       "      <td>male</td>\n",
       "      <td>NaN</td>\n",
       "      <td>B</td>\n",
       "    </tr>\n",
       "    <tr>\n",
       "      <th>1</th>\n",
       "      <td>1735</td>\n",
       "      <td>Sweden</td>\n",
       "      <td>ios</td>\n",
       "      <td>male</td>\n",
       "      <td>NaN</td>\n",
       "      <td>B</td>\n",
       "    </tr>\n",
       "  </tbody>\n",
       "</table>\n",
       "</div>"
      ],
      "text/plain": [
       "   user_id country platform   sex  revenue group\n",
       "0     8029  Russia      ios  male      NaN     B\n",
       "1     1735  Sweden      ios  male      NaN     B"
      ]
     },
     "execution_count": 27,
     "metadata": {},
     "output_type": "execute_result"
    }
   ],
   "source": [
    "test = test.merge(groups, how ='inner', on = ['user_id']) \n",
    "\n",
    "test.head(2)"
   ]
  },
  {
   "cell_type": "code",
   "execution_count": 28,
   "metadata": {},
   "outputs": [
    {
     "data": {
      "text/plain": [
       "(8490, 6)"
      ]
     },
     "execution_count": 28,
     "metadata": {},
     "output_type": "execute_result"
    }
   ],
   "source": [
    "test.shape"
   ]
  },
  {
   "cell_type": "code",
   "execution_count": 29,
   "metadata": {},
   "outputs": [],
   "source": [
    "test['revenue'] = test['revenue'].fillna(0)"
   ]
  },
  {
   "cell_type": "code",
   "execution_count": 30,
   "metadata": {},
   "outputs": [
    {
     "data": {
      "text/html": [
       "<div>\n",
       "<style scoped>\n",
       "    .dataframe tbody tr th:only-of-type {\n",
       "        vertical-align: middle;\n",
       "    }\n",
       "\n",
       "    .dataframe tbody tr th {\n",
       "        vertical-align: top;\n",
       "    }\n",
       "\n",
       "    .dataframe thead th {\n",
       "        text-align: right;\n",
       "    }\n",
       "</style>\n",
       "<table border=\"1\" class=\"dataframe\">\n",
       "  <thead>\n",
       "    <tr style=\"text-align: right;\">\n",
       "      <th></th>\n",
       "      <th>user_id</th>\n",
       "      <th>country</th>\n",
       "      <th>platform</th>\n",
       "      <th>sex</th>\n",
       "      <th>revenue</th>\n",
       "      <th>group</th>\n",
       "    </tr>\n",
       "  </thead>\n",
       "  <tbody>\n",
       "    <tr>\n",
       "      <th>0</th>\n",
       "      <td>8029</td>\n",
       "      <td>Russia</td>\n",
       "      <td>ios</td>\n",
       "      <td>male</td>\n",
       "      <td>0.0</td>\n",
       "      <td>B</td>\n",
       "    </tr>\n",
       "    <tr>\n",
       "      <th>1</th>\n",
       "      <td>1735</td>\n",
       "      <td>Sweden</td>\n",
       "      <td>ios</td>\n",
       "      <td>male</td>\n",
       "      <td>0.0</td>\n",
       "      <td>B</td>\n",
       "    </tr>\n",
       "    <tr>\n",
       "      <th>2</th>\n",
       "      <td>7697</td>\n",
       "      <td>Russia</td>\n",
       "      <td>android</td>\n",
       "      <td>male</td>\n",
       "      <td>0.0</td>\n",
       "      <td>B</td>\n",
       "    </tr>\n",
       "    <tr>\n",
       "      <th>3</th>\n",
       "      <td>1421</td>\n",
       "      <td>Sweden</td>\n",
       "      <td>android</td>\n",
       "      <td>female</td>\n",
       "      <td>0.0</td>\n",
       "      <td>B</td>\n",
       "    </tr>\n",
       "    <tr>\n",
       "      <th>4</th>\n",
       "      <td>1704</td>\n",
       "      <td>Russia</td>\n",
       "      <td>ios</td>\n",
       "      <td>male</td>\n",
       "      <td>0.0</td>\n",
       "      <td>B</td>\n",
       "    </tr>\n",
       "  </tbody>\n",
       "</table>\n",
       "</div>"
      ],
      "text/plain": [
       "   user_id country platform     sex  revenue group\n",
       "0     8029  Russia      ios    male      0.0     B\n",
       "1     1735  Sweden      ios    male      0.0     B\n",
       "2     7697  Russia  android    male      0.0     B\n",
       "3     1421  Sweden  android  female      0.0     B\n",
       "4     1704  Russia      ios    male      0.0     B"
      ]
     },
     "execution_count": 30,
     "metadata": {},
     "output_type": "execute_result"
    }
   ],
   "source": [
    "test.head()"
   ]
  },
  {
   "cell_type": "code",
   "execution_count": 31,
   "metadata": {},
   "outputs": [
    {
     "data": {
      "text/html": [
       "<div>\n",
       "<style scoped>\n",
       "    .dataframe tbody tr th:only-of-type {\n",
       "        vertical-align: middle;\n",
       "    }\n",
       "\n",
       "    .dataframe tbody tr th {\n",
       "        vertical-align: top;\n",
       "    }\n",
       "\n",
       "    .dataframe thead th {\n",
       "        text-align: right;\n",
       "    }\n",
       "</style>\n",
       "<table border=\"1\" class=\"dataframe\">\n",
       "  <thead>\n",
       "    <tr style=\"text-align: right;\">\n",
       "      <th></th>\n",
       "      <th>user_id</th>\n",
       "      <th>country</th>\n",
       "      <th>platform</th>\n",
       "      <th>sex</th>\n",
       "      <th>revenue</th>\n",
       "      <th>group</th>\n",
       "      <th>paid_user</th>\n",
       "    </tr>\n",
       "  </thead>\n",
       "  <tbody>\n",
       "    <tr>\n",
       "      <th>0</th>\n",
       "      <td>8029</td>\n",
       "      <td>Russia</td>\n",
       "      <td>ios</td>\n",
       "      <td>male</td>\n",
       "      <td>0.0</td>\n",
       "      <td>B</td>\n",
       "      <td>0</td>\n",
       "    </tr>\n",
       "    <tr>\n",
       "      <th>1</th>\n",
       "      <td>1735</td>\n",
       "      <td>Sweden</td>\n",
       "      <td>ios</td>\n",
       "      <td>male</td>\n",
       "      <td>0.0</td>\n",
       "      <td>B</td>\n",
       "      <td>0</td>\n",
       "    </tr>\n",
       "    <tr>\n",
       "      <th>2</th>\n",
       "      <td>7697</td>\n",
       "      <td>Russia</td>\n",
       "      <td>android</td>\n",
       "      <td>male</td>\n",
       "      <td>0.0</td>\n",
       "      <td>B</td>\n",
       "      <td>0</td>\n",
       "    </tr>\n",
       "  </tbody>\n",
       "</table>\n",
       "</div>"
      ],
      "text/plain": [
       "   user_id country platform   sex  revenue group  paid_user\n",
       "0     8029  Russia      ios  male      0.0     B          0\n",
       "1     1735  Sweden      ios  male      0.0     B          0\n",
       "2     7697  Russia  android  male      0.0     B          0"
      ]
     },
     "execution_count": 31,
     "metadata": {},
     "output_type": "execute_result"
    }
   ],
   "source": [
    "test['paid_user'] = test.apply(lambda row: paid_user(row), axis=1)\n",
    "\n",
    "test.head(3)"
   ]
  },
  {
   "cell_type": "code",
   "execution_count": 32,
   "metadata": {},
   "outputs": [
    {
     "data": {
      "text/plain": [
       "user_id        int64\n",
       "country       object\n",
       "platform      object\n",
       "sex           object\n",
       "revenue      float64\n",
       "group         object\n",
       "paid_user      int64\n",
       "dtype: object"
      ]
     },
     "execution_count": 32,
     "metadata": {},
     "output_type": "execute_result"
    }
   ],
   "source": [
    "test.dtypes"
   ]
  },
  {
   "cell_type": "markdown",
   "metadata": {},
   "source": [
    "Создаем удобные фильтры"
   ]
  },
  {
   "cell_type": "code",
   "execution_count": 33,
   "metadata": {},
   "outputs": [
    {
     "data": {
      "text/plain": [
       "array(['B', 'A'], dtype=object)"
      ]
     },
     "execution_count": 33,
     "metadata": {},
     "output_type": "execute_result"
    }
   ],
   "source": [
    "test['group'].unique()"
   ]
  },
  {
   "cell_type": "code",
   "execution_count": 34,
   "metadata": {},
   "outputs": [],
   "source": [
    "is_control = test['group'] == 'A'\n",
    "is_test    = test['group'] == 'B'\n",
    "is_revenue_more_0 = test['revenue'] > 0\n",
    "\n",
    "# создаем фильтры для двух групп контрольной и тестовой"
   ]
  },
  {
   "cell_type": "markdown",
   "metadata": {},
   "source": [
    "Преданализ по группам А и В"
   ]
  },
  {
   "cell_type": "code",
   "execution_count": 35,
   "metadata": {},
   "outputs": [
    {
     "name": "stdout",
     "output_type": "stream",
     "text": [
      "Количество юзеров в группе А: 1567\n"
     ]
    }
   ],
   "source": [
    "users_A_active = test[is_control].user_id.nunique()\n",
    "print('Количество юзеров в группе А:', users_A_active)"
   ]
  },
  {
   "cell_type": "code",
   "execution_count": 36,
   "metadata": {},
   "outputs": [
    {
     "name": "stdout",
     "output_type": "stream",
     "text": [
      "Количество юзеров в группе B: 6923\n"
     ]
    }
   ],
   "source": [
    "users_B_active = test[is_test].user_id.nunique()\n",
    "print('Количество юзеров в группе B:', users_B_active)"
   ]
  },
  {
   "cell_type": "code",
   "execution_count": 37,
   "metadata": {},
   "outputs": [
    {
     "data": {
      "text/plain": [
       "0.22634695941066013"
      ]
     },
     "execution_count": 37,
     "metadata": {},
     "output_type": "execute_result"
    }
   ],
   "source": [
    "users_A_active/users_B_active"
   ]
  },
  {
   "cell_type": "code",
   "execution_count": 38,
   "metadata": {},
   "outputs": [
    {
     "name": "stdout",
     "output_type": "stream",
     "text": [
      "Количество клиентов в группе А: 107\n"
     ]
    }
   ],
   "source": [
    "users_A_active_with_revenue = test[is_revenue_more_0].query('group == \"A\"').user_id.nunique()\n",
    "print('Количество клиентов в группе А:', users_A_active_with_revenue)"
   ]
  },
  {
   "cell_type": "code",
   "execution_count": 39,
   "metadata": {},
   "outputs": [
    {
     "name": "stdout",
     "output_type": "stream",
     "text": [
      "Количество клиентов в группе B: 434\n"
     ]
    }
   ],
   "source": [
    "users_B_active_with_revenue = test[is_revenue_more_0].query('group == \"B\"').user_id.nunique()\n",
    "print('Количество клиентов в группе B:', users_B_active_with_revenue)"
   ]
  },
  {
   "cell_type": "code",
   "execution_count": 40,
   "metadata": {},
   "outputs": [
    {
     "data": {
      "text/plain": [
       "0.2465437788018433"
      ]
     },
     "execution_count": 40,
     "metadata": {},
     "output_type": "execute_result"
    }
   ],
   "source": [
    "users_A_active_with_revenue/users_B_active_with_revenue"
   ]
  },
  {
   "cell_type": "code",
   "execution_count": 41,
   "metadata": {},
   "outputs": [],
   "source": [
    "b = test[is_test & is_revenue_more_0].revenue\n",
    "a = test[is_control & is_revenue_more_0].revenue\n",
    "b.name, a.name = 'Test', 'Control'"
   ]
  },
  {
   "cell_type": "markdown",
   "metadata": {},
   "source": [
    "Визуализация распределений дохода в зависимости от групп "
   ]
  },
  {
   "cell_type": "code",
   "execution_count": 42,
   "metadata": {},
   "outputs": [
    {
     "data": {
      "text/plain": [
       "<matplotlib.axes._subplots.AxesSubplot at 0x7fc30c2c5c88>"
      ]
     },
     "execution_count": 42,
     "metadata": {},
     "output_type": "execute_result"
    },
    {
     "data": {
      "image/png": "[encoded data removed]",
      "text/plain": [
       "<Figure size 432x288 with 1 Axes>"
      ]
     },
     "metadata": {},
     "output_type": "display_data"
    }
   ],
   "source": [
    "sns.distplot(test[is_test].revenue, kde = False)\n",
    "sns.distplot(test[is_control].revenue, kde = False)"
   ]
  },
  {
   "cell_type": "markdown",
   "metadata": {},
   "source": [
    "Из рисунка видно, что распределения не нормальны (очень много нулевых значений, и вследствии этого наблюдается сильное смещение влево). Но проверим на нормальность тестом Шапиро-Уилка."
   ]
  },
  {
   "cell_type": "code",
   "execution_count": 43,
   "metadata": {},
   "outputs": [
    {
     "name": "stdout",
     "output_type": "stream",
     "text": [
      "Среднее значение дохода в котрольной группе 59.5 со стандартным отклонением 305.5\n"
     ]
    }
   ],
   "source": [
    "mean_control = test[is_control].revenue.mean()\n",
    "std_control  = test[is_control].revenue.std()\n",
    "\n",
    "print('Среднее значение дохода в котрольной группе', round(mean_control,1), 'со стандартным отклонением', round(std_control,1))"
   ]
  },
  {
   "cell_type": "code",
   "execution_count": 44,
   "metadata": {},
   "outputs": [
    {
     "data": {
      "text/plain": [
       "(0.19503062963485718, 0.0)"
      ]
     },
     "execution_count": 44,
     "metadata": {},
     "output_type": "execute_result"
    }
   ],
   "source": [
    "stats.shapiro(test[is_control].revenue.sample(1000, random_state=17))"
   ]
  },
  {
   "cell_type": "code",
   "execution_count": 45,
   "metadata": {},
   "outputs": [
    {
     "name": "stdout",
     "output_type": "stream",
     "text": [
      "Среднее значение дохода в тестовой группе 70.1 со стандартным отклонением 328.6\n"
     ]
    }
   ],
   "source": [
    "mean_test = test[is_test].revenue.mean()\n",
    "std_test  = test[is_test].revenue.std()\n",
    "\n",
    "print('Среднее значение дохода в тестовой группе', round(mean_test,1), 'со стандартным отклонением', round(std_test,1))"
   ]
  },
  {
   "cell_type": "code",
   "execution_count": 46,
   "metadata": {},
   "outputs": [
    {
     "data": {
      "text/plain": [
       "(0.23139363527297974, 0.0)"
      ]
     },
     "execution_count": 46,
     "metadata": {},
     "output_type": "execute_result"
    }
   ],
   "source": [
    "stats.shapiro(test[is_test].revenue.sample(1000, random_state=17))"
   ]
  },
  {
   "cell_type": "markdown",
   "metadata": {},
   "source": [
    "На основании теста Шапиро-Уилка, делаем вывод, что распределение дохода в группах A, B -  не нормально (p-value < 0.05)"
   ]
  },
  {
   "cell_type": "markdown",
   "metadata": {},
   "source": [
    "Построение распределений для тестовой и контрольной групп с доходом больше 0, т.е. распределения выручки только для клиентов"
   ]
  },
  {
   "cell_type": "code",
   "execution_count": 47,
   "metadata": {},
   "outputs": [
    {
     "data": {
      "text/plain": [
       "<matplotlib.axes._subplots.AxesSubplot at 0x7fc309a56160>"
      ]
     },
     "execution_count": 47,
     "metadata": {},
     "output_type": "execute_result"
    },
    {
     "data": {
      "image/png": "[encoded data removed]",
      "text/plain": [
       "<Figure size 432x288 with 1 Axes>"
      ]
     },
     "metadata": {},
     "output_type": "display_data"
    }
   ],
   "source": [
    "sns.distplot(b, kde = False)\n",
    "sns.distplot(a, kde = False)"
   ]
  },
  {
   "cell_type": "code",
   "execution_count": 48,
   "metadata": {},
   "outputs": [
    {
     "data": {
      "text/plain": [
       "Text(0, 0.5, 'Доход')"
      ]
     },
     "execution_count": 48,
     "metadata": {},
     "output_type": "execute_result"
    },
    {
     "data": {
      "image/png": "[encoded data removed]",
      "text/plain": [
       "<Figure size 432x288 with 1 Axes>"
      ]
     },
     "metadata": {},
     "output_type": "display_data"
    }
   ],
   "source": [
    "sns.boxplot(x='group', y='revenue', data=test[is_revenue_more_0])\n",
    "plt.title('Доход в зависимости от типа группы клиента')\n",
    "plt.xlabel('Группа')\n",
    "plt.ylabel('Доход')"
   ]
  },
  {
   "cell_type": "code",
   "execution_count": 49,
   "metadata": {},
   "outputs": [
    {
     "name": "stdout",
     "output_type": "stream",
     "text": [
      "Средний доход в тестовой группе B: 1118.84 со стандартным отклонением 741.8\n"
     ]
    }
   ],
   "source": [
    "b_mean = b.mean()\n",
    "b_test  = test[is_test & is_revenue_more_0].revenue.std()\n",
    "print('Средний доход в тестовой группе B:', round(b_mean, 2), 'со стандартным отклонением', round(b_test,1))\n",
    "# считаем среднее в тестовой группе"
   ]
  },
  {
   "cell_type": "code",
   "execution_count": 50,
   "metadata": {},
   "outputs": [
    {
     "name": "stdout",
     "output_type": "stream",
     "text": [
      "Медиана дохода в тестовой группе B: 944.0\n"
     ]
    },
    {
     "data": {
      "image/png": "[encoded data removed]",
      "text/plain": [
       "<Figure size 432x288 with 1 Axes>"
      ]
     },
     "metadata": {},
     "output_type": "display_data"
    }
   ],
   "source": [
    "sns.boxplot(b)\n",
    "# box plot для тестовой группы\n",
    "print('Медиана дохода в тестовой группе B:', round(b.median(), 0))\n",
    "# расчет медианы тестовой группы"
   ]
  },
  {
   "cell_type": "code",
   "execution_count": 51,
   "metadata": {},
   "outputs": [
    {
     "name": "stdout",
     "output_type": "stream",
     "text": [
      "Средний доход в контрольной группе А: 870.67 со стандартным отклонением 741.8\n"
     ]
    }
   ],
   "source": [
    "a_mean = a.mean()\n",
    "a_test  = test[is_test & is_revenue_more_0].revenue.std()\n",
    "\n",
    "print('Средний доход в контрольной группе А:', round(a_mean, 2), 'со стандартным отклонением', round(a_test,1))\n",
    "# считаем среднее в контрольной группе"
   ]
  },
  {
   "cell_type": "code",
   "execution_count": 52,
   "metadata": {},
   "outputs": [
    {
     "name": "stdout",
     "output_type": "stream",
     "text": [
      "Медиана дохода в контрольной группе А: 698.0\n"
     ]
    },
    {
     "data": {
      "image/png": "[encoded data removed]",
      "text/plain": [
       "<Figure size 432x288 with 1 Axes>"
      ]
     },
     "metadata": {},
     "output_type": "display_data"
    }
   ],
   "source": [
    "sns.boxplot(a)\n",
    "# box plot для тестовой группы\n",
    "print('Медиана дохода в контрольной группе А:', round(a.median(), 0))\n",
    "# расчет медианы контрольной группы"
   ]
  },
  {
   "cell_type": "code",
   "execution_count": 53,
   "metadata": {},
   "outputs": [
    {
     "data": {
      "text/plain": [
       "(0.721470296382904, 1.7583150647287882e-12)"
      ]
     },
     "execution_count": 53,
     "metadata": {},
     "output_type": "execute_result"
    }
   ],
   "source": [
    "stats.shapiro(test[is_control & is_revenue_more_0].revenue.sample(100, random_state=17))"
   ]
  },
  {
   "cell_type": "code",
   "execution_count": 54,
   "metadata": {},
   "outputs": [
    {
     "data": {
      "text/plain": [
       "(0.873932421207428, 1.0135166661484618e-07)"
      ]
     },
     "execution_count": 54,
     "metadata": {},
     "output_type": "execute_result"
    }
   ],
   "source": [
    "stats.shapiro(test[is_test & is_revenue_more_0].revenue.sample(100, random_state=17))"
   ]
  },
  {
   "cell_type": "markdown",
   "metadata": {},
   "source": [
    "На основании тестов Шапиро-Уилка, делаем вывод, что распределение дохода в группах A, B по клиентам -  не нормально (p-value < 0.05)"
   ]
  },
  {
   "cell_type": "markdown",
   "metadata": {},
   "source": [
    "Рассмотрим распределения дохода по разным группам и посчитаем конверсию в каждой из групп"
   ]
  },
  {
   "cell_type": "code",
   "execution_count": 57,
   "metadata": {},
   "outputs": [
    {
     "data": {
      "text/html": [
       "<div>\n",
       "<style scoped>\n",
       "    .dataframe tbody tr th:only-of-type {\n",
       "        vertical-align: middle;\n",
       "    }\n",
       "\n",
       "    .dataframe tbody tr th {\n",
       "        vertical-align: top;\n",
       "    }\n",
       "\n",
       "    .dataframe thead th {\n",
       "        text-align: right;\n",
       "    }\n",
       "</style>\n",
       "<table border=\"1\" class=\"dataframe\">\n",
       "  <thead>\n",
       "    <tr style=\"text-align: right;\">\n",
       "      <th></th>\n",
       "      <th>user_id</th>\n",
       "      <th>country</th>\n",
       "      <th>platform</th>\n",
       "      <th>sex</th>\n",
       "      <th>revenue</th>\n",
       "      <th>group</th>\n",
       "      <th>paid_user</th>\n",
       "      <th>combinations</th>\n",
       "    </tr>\n",
       "  </thead>\n",
       "  <tbody>\n",
       "    <tr>\n",
       "      <th>0</th>\n",
       "      <td>8029</td>\n",
       "      <td>Russia</td>\n",
       "      <td>ios</td>\n",
       "      <td>male</td>\n",
       "      <td>0.0</td>\n",
       "      <td>B</td>\n",
       "      <td>0</td>\n",
       "      <td>B / Russia</td>\n",
       "    </tr>\n",
       "    <tr>\n",
       "      <th>1</th>\n",
       "      <td>1735</td>\n",
       "      <td>Sweden</td>\n",
       "      <td>ios</td>\n",
       "      <td>male</td>\n",
       "      <td>0.0</td>\n",
       "      <td>B</td>\n",
       "      <td>0</td>\n",
       "      <td>B / Sweden</td>\n",
       "    </tr>\n",
       "    <tr>\n",
       "      <th>2</th>\n",
       "      <td>7697</td>\n",
       "      <td>Russia</td>\n",
       "      <td>android</td>\n",
       "      <td>male</td>\n",
       "      <td>0.0</td>\n",
       "      <td>B</td>\n",
       "      <td>0</td>\n",
       "      <td>B / Russia</td>\n",
       "    </tr>\n",
       "    <tr>\n",
       "      <th>3</th>\n",
       "      <td>1421</td>\n",
       "      <td>Sweden</td>\n",
       "      <td>android</td>\n",
       "      <td>female</td>\n",
       "      <td>0.0</td>\n",
       "      <td>B</td>\n",
       "      <td>0</td>\n",
       "      <td>B / Sweden</td>\n",
       "    </tr>\n",
       "    <tr>\n",
       "      <th>4</th>\n",
       "      <td>1704</td>\n",
       "      <td>Russia</td>\n",
       "      <td>ios</td>\n",
       "      <td>male</td>\n",
       "      <td>0.0</td>\n",
       "      <td>B</td>\n",
       "      <td>0</td>\n",
       "      <td>B / Russia</td>\n",
       "    </tr>\n",
       "  </tbody>\n",
       "</table>\n",
       "</div>"
      ],
      "text/plain": [
       "   user_id country platform     sex  revenue group  paid_user combinations\n",
       "0     8029  Russia      ios    male      0.0     B          0   B / Russia\n",
       "1     1735  Sweden      ios    male      0.0     B          0   B / Sweden\n",
       "2     7697  Russia  android    male      0.0     B          0   B / Russia\n",
       "3     1421  Sweden  android  female      0.0     B          0   B / Sweden\n",
       "4     1704  Russia      ios    male      0.0     B          0   B / Russia"
      ]
     },
     "execution_count": 57,
     "metadata": {},
     "output_type": "execute_result"
    }
   ],
   "source": [
    "#df['Name'] = df['First'].str.cat(df['Last'], sep =\" \")\n",
    "test['combinations'] = test.group.str.cat(test.country, sep =\" / \")\n",
    "test.head()"
   ]
  },
  {
   "cell_type": "code",
   "execution_count": 69,
   "metadata": {},
   "outputs": [
    {
     "data": {
      "text/html": [
       "<div>\n",
       "<style scoped>\n",
       "    .dataframe tbody tr th:only-of-type {\n",
       "        vertical-align: middle;\n",
       "    }\n",
       "\n",
       "    .dataframe tbody tr th {\n",
       "        vertical-align: top;\n",
       "    }\n",
       "\n",
       "    .dataframe thead th {\n",
       "        text-align: right;\n",
       "    }\n",
       "</style>\n",
       "<table border=\"1\" class=\"dataframe\">\n",
       "  <thead>\n",
       "    <tr style=\"text-align: right;\">\n",
       "      <th></th>\n",
       "      <th>user_id</th>\n",
       "      <th>country</th>\n",
       "      <th>platform</th>\n",
       "      <th>sex</th>\n",
       "      <th>revenue</th>\n",
       "      <th>group</th>\n",
       "      <th>paid_user</th>\n",
       "      <th>combinations</th>\n",
       "    </tr>\n",
       "  </thead>\n",
       "  <tbody>\n",
       "    <tr>\n",
       "      <th>0</th>\n",
       "      <td>8029</td>\n",
       "      <td>Russia</td>\n",
       "      <td>ios</td>\n",
       "      <td>male</td>\n",
       "      <td>0.0</td>\n",
       "      <td>B</td>\n",
       "      <td>0</td>\n",
       "      <td>Russia / ios</td>\n",
       "    </tr>\n",
       "    <tr>\n",
       "      <th>1</th>\n",
       "      <td>1735</td>\n",
       "      <td>Sweden</td>\n",
       "      <td>ios</td>\n",
       "      <td>male</td>\n",
       "      <td>0.0</td>\n",
       "      <td>B</td>\n",
       "      <td>0</td>\n",
       "      <td>Sweden / ios</td>\n",
       "    </tr>\n",
       "    <tr>\n",
       "      <th>2</th>\n",
       "      <td>7697</td>\n",
       "      <td>Russia</td>\n",
       "      <td>android</td>\n",
       "      <td>male</td>\n",
       "      <td>0.0</td>\n",
       "      <td>B</td>\n",
       "      <td>0</td>\n",
       "      <td>Russia / android</td>\n",
       "    </tr>\n",
       "    <tr>\n",
       "      <th>3</th>\n",
       "      <td>1421</td>\n",
       "      <td>Sweden</td>\n",
       "      <td>android</td>\n",
       "      <td>female</td>\n",
       "      <td>0.0</td>\n",
       "      <td>B</td>\n",
       "      <td>0</td>\n",
       "      <td>Sweden / android</td>\n",
       "    </tr>\n",
       "    <tr>\n",
       "      <th>4</th>\n",
       "      <td>1704</td>\n",
       "      <td>Russia</td>\n",
       "      <td>ios</td>\n",
       "      <td>male</td>\n",
       "      <td>0.0</td>\n",
       "      <td>B</td>\n",
       "      <td>0</td>\n",
       "      <td>Russia / ios</td>\n",
       "    </tr>\n",
       "  </tbody>\n",
       "</table>\n",
       "</div>"
      ],
      "text/plain": [
       "   user_id country platform     sex  revenue group  paid_user  \\\n",
       "0     8029  Russia      ios    male      0.0     B          0   \n",
       "1     1735  Sweden      ios    male      0.0     B          0   \n",
       "2     7697  Russia  android    male      0.0     B          0   \n",
       "3     1421  Sweden  android  female      0.0     B          0   \n",
       "4     1704  Russia      ios    male      0.0     B          0   \n",
       "\n",
       "       combinations  \n",
       "0      Russia / ios  \n",
       "1      Sweden / ios  \n",
       "2  Russia / android  \n",
       "3  Sweden / android  \n",
       "4      Russia / ios  "
      ]
     },
     "execution_count": 69,
     "metadata": {},
     "output_type": "execute_result"
    }
   ],
   "source": [
    "test['combinations'] = test.country.str.cat(test.platform, sep =\" / \")\n",
    "test.head()"
   ]
  },
  {
   "cell_type": "code",
   "execution_count": 70,
   "metadata": {},
   "outputs": [
    {
     "data": {
      "text/html": [
       "<div>\n",
       "<style scoped>\n",
       "    .dataframe tbody tr th:only-of-type {\n",
       "        vertical-align: middle;\n",
       "    }\n",
       "\n",
       "    .dataframe tbody tr th {\n",
       "        vertical-align: top;\n",
       "    }\n",
       "\n",
       "    .dataframe thead th {\n",
       "        text-align: right;\n",
       "    }\n",
       "</style>\n",
       "<table border=\"1\" class=\"dataframe\">\n",
       "  <thead>\n",
       "    <tr style=\"text-align: right;\">\n",
       "      <th></th>\n",
       "      <th>user_id</th>\n",
       "      <th>country</th>\n",
       "      <th>platform</th>\n",
       "      <th>sex</th>\n",
       "      <th>revenue</th>\n",
       "      <th>group</th>\n",
       "      <th>paid_user</th>\n",
       "      <th>combinations</th>\n",
       "    </tr>\n",
       "  </thead>\n",
       "  <tbody>\n",
       "    <tr>\n",
       "      <th>0</th>\n",
       "      <td>8029</td>\n",
       "      <td>Russia</td>\n",
       "      <td>ios</td>\n",
       "      <td>male</td>\n",
       "      <td>0.0</td>\n",
       "      <td>B</td>\n",
       "      <td>0</td>\n",
       "      <td>Russia / ios / male</td>\n",
       "    </tr>\n",
       "    <tr>\n",
       "      <th>1</th>\n",
       "      <td>1735</td>\n",
       "      <td>Sweden</td>\n",
       "      <td>ios</td>\n",
       "      <td>male</td>\n",
       "      <td>0.0</td>\n",
       "      <td>B</td>\n",
       "      <td>0</td>\n",
       "      <td>Sweden / ios / male</td>\n",
       "    </tr>\n",
       "    <tr>\n",
       "      <th>2</th>\n",
       "      <td>7697</td>\n",
       "      <td>Russia</td>\n",
       "      <td>android</td>\n",
       "      <td>male</td>\n",
       "      <td>0.0</td>\n",
       "      <td>B</td>\n",
       "      <td>0</td>\n",
       "      <td>Russia / android / male</td>\n",
       "    </tr>\n",
       "    <tr>\n",
       "      <th>3</th>\n",
       "      <td>1421</td>\n",
       "      <td>Sweden</td>\n",
       "      <td>android</td>\n",
       "      <td>female</td>\n",
       "      <td>0.0</td>\n",
       "      <td>B</td>\n",
       "      <td>0</td>\n",
       "      <td>Sweden / android / female</td>\n",
       "    </tr>\n",
       "    <tr>\n",
       "      <th>4</th>\n",
       "      <td>1704</td>\n",
       "      <td>Russia</td>\n",
       "      <td>ios</td>\n",
       "      <td>male</td>\n",
       "      <td>0.0</td>\n",
       "      <td>B</td>\n",
       "      <td>0</td>\n",
       "      <td>Russia / ios / male</td>\n",
       "    </tr>\n",
       "  </tbody>\n",
       "</table>\n",
       "</div>"
      ],
      "text/plain": [
       "   user_id country platform     sex  revenue group  paid_user  \\\n",
       "0     8029  Russia      ios    male      0.0     B          0   \n",
       "1     1735  Sweden      ios    male      0.0     B          0   \n",
       "2     7697  Russia  android    male      0.0     B          0   \n",
       "3     1421  Sweden  android  female      0.0     B          0   \n",
       "4     1704  Russia      ios    male      0.0     B          0   \n",
       "\n",
       "                combinations  \n",
       "0        Russia / ios / male  \n",
       "1        Sweden / ios / male  \n",
       "2    Russia / android / male  \n",
       "3  Sweden / android / female  \n",
       "4        Russia / ios / male  "
      ]
     },
     "execution_count": 70,
     "metadata": {},
     "output_type": "execute_result"
    }
   ],
   "source": [
    "test['combinations'] = test.combinations.str.cat(test.sex, sep =\" / \")\n",
    "test.head()"
   ]
  },
  {
   "cell_type": "code",
   "execution_count": 89,
   "metadata": {},
   "outputs": [
    {
     "data": {
      "text/plain": [
       "(array([0, 1, 2, 3, 4, 5, 6, 7]), <a list of 8 Text major ticklabel objects>)"
      ]
     },
     "execution_count": 89,
     "metadata": {},
     "output_type": "execute_result"
    },
    {
     "data": {
      "image/png": "[encoded data removed]",
      "text/plain": [
       "<Figure size 1080x720 with 1 Axes>"
      ]
     },
     "metadata": {},
     "output_type": "display_data"
    }
   ],
   "source": [
    "sns.boxplot(x='combinations', y='revenue', data=test[is_revenue_more_0])\n",
    "plt.xticks(rotation=80)"
   ]
  },
  {
   "cell_type": "code",
   "execution_count": 87,
   "metadata": {},
   "outputs": [
    {
     "data": {
      "text/plain": [
       "(array([0, 1, 2, 3, 4, 5, 6, 7]), <a list of 8 Text major ticklabel objects>)"
      ]
     },
     "execution_count": 87,
     "metadata": {},
     "output_type": "execute_result"
    },
    {
     "data": {
      "image/png": "[encoded data removed]",
      "text/plain": [
       "<Figure size 407.1x360 with 1 Axes>"
      ]
     },
     "metadata": {},
     "output_type": "display_data"
    }
   ],
   "source": [
    "sns.catplot(x='combinations', y='revenue', hue='group', \n",
    "            kind=\"violin\", split=True, data=test[is_revenue_more_0])\n",
    "\n",
    "plt.xticks(rotation=80)"
   ]
  },
  {
   "cell_type": "code",
   "execution_count": 95,
   "metadata": {},
   "outputs": [
    {
     "data": {
      "text/html": [
       "<div>\n",
       "<style scoped>\n",
       "    .dataframe tbody tr th:only-of-type {\n",
       "        vertical-align: middle;\n",
       "    }\n",
       "\n",
       "    .dataframe tbody tr th {\n",
       "        vertical-align: top;\n",
       "    }\n",
       "\n",
       "    .dataframe thead tr th {\n",
       "        text-align: left;\n",
       "    }\n",
       "\n",
       "    .dataframe thead tr:last-of-type th {\n",
       "        text-align: right;\n",
       "    }\n",
       "</style>\n",
       "<table border=\"1\" class=\"dataframe\">\n",
       "  <thead>\n",
       "    <tr>\n",
       "      <th>group</th>\n",
       "      <th colspan=\"2\" halign=\"left\">A</th>\n",
       "      <th colspan=\"2\" halign=\"left\">B</th>\n",
       "    </tr>\n",
       "    <tr>\n",
       "      <th>paid_user</th>\n",
       "      <th>0</th>\n",
       "      <th>1</th>\n",
       "      <th>0</th>\n",
       "      <th>1</th>\n",
       "    </tr>\n",
       "    <tr>\n",
       "      <th>combinations</th>\n",
       "      <th></th>\n",
       "      <th></th>\n",
       "      <th></th>\n",
       "      <th></th>\n",
       "    </tr>\n",
       "  </thead>\n",
       "  <tbody>\n",
       "    <tr>\n",
       "      <th>Russia / android / female</th>\n",
       "      <td>256</td>\n",
       "      <td>11</td>\n",
       "      <td>1161</td>\n",
       "      <td>49</td>\n",
       "    </tr>\n",
       "    <tr>\n",
       "      <th>Russia / android / male</th>\n",
       "      <td>235</td>\n",
       "      <td>8</td>\n",
       "      <td>1214</td>\n",
       "      <td>54</td>\n",
       "    </tr>\n",
       "    <tr>\n",
       "      <th>Russia / ios / female</th>\n",
       "      <td>161</td>\n",
       "      <td>13</td>\n",
       "      <td>968</td>\n",
       "      <td>45</td>\n",
       "    </tr>\n",
       "    <tr>\n",
       "      <th>Russia / ios / male</th>\n",
       "      <td>220</td>\n",
       "      <td>11</td>\n",
       "      <td>952</td>\n",
       "      <td>49</td>\n",
       "    </tr>\n",
       "    <tr>\n",
       "      <th>Sweden / android / female</th>\n",
       "      <td>156</td>\n",
       "      <td>6</td>\n",
       "      <td>629</td>\n",
       "      <td>33</td>\n",
       "    </tr>\n",
       "    <tr>\n",
       "      <th>Sweden / android / male</th>\n",
       "      <td>148</td>\n",
       "      <td>14</td>\n",
       "      <td>614</td>\n",
       "      <td>33</td>\n",
       "    </tr>\n",
       "    <tr>\n",
       "      <th>Sweden / ios / female</th>\n",
       "      <td>143</td>\n",
       "      <td>7</td>\n",
       "      <td>480</td>\n",
       "      <td>27</td>\n",
       "    </tr>\n",
       "    <tr>\n",
       "      <th>Sweden / ios / male</th>\n",
       "      <td>141</td>\n",
       "      <td>8</td>\n",
       "      <td>471</td>\n",
       "      <td>24</td>\n",
       "    </tr>\n",
       "  </tbody>\n",
       "</table>\n",
       "</div>"
      ],
      "text/plain": [
       "group                        A         B    \n",
       "paid_user                    0   1     0   1\n",
       "combinations                                \n",
       "Russia / android / female  256  11  1161  49\n",
       "Russia / android / male    235   8  1214  54\n",
       "Russia / ios / female      161  13   968  45\n",
       "Russia / ios / male        220  11   952  49\n",
       "Sweden / android / female  156   6   629  33\n",
       "Sweden / android / male    148  14   614  33\n",
       "Sweden / ios / female      143   7   480  27\n",
       "Sweden / ios / male        141   8   471  24"
      ]
     },
     "execution_count": 95,
     "metadata": {},
     "output_type": "execute_result"
    }
   ],
   "source": [
    "pivot_table = test.groupby(['combinations', 'group', 'paid_user'], as_index=False)\\\n",
    "    .agg({'user_id' : 'count'})\\\n",
    "    .rename(columns = {'user_id' : 'purchase_count'})\\\n",
    "    .pivot(index='combinations', columns={'paid_user','group'}, values='purchase_count')\n",
    "\n",
    "pivot_table"
   ]
  },
  {
   "cell_type": "code",
   "execution_count": 96,
   "metadata": {},
   "outputs": [
    {
     "data": {
      "text/html": [
       "<div>\n",
       "<style scoped>\n",
       "    .dataframe tbody tr th:only-of-type {\n",
       "        vertical-align: middle;\n",
       "    }\n",
       "\n",
       "    .dataframe tbody tr th {\n",
       "        vertical-align: top;\n",
       "    }\n",
       "\n",
       "    .dataframe thead th {\n",
       "        text-align: right;\n",
       "    }\n",
       "</style>\n",
       "<table border=\"1\" class=\"dataframe\">\n",
       "  <thead>\n",
       "    <tr style=\"text-align: right;\">\n",
       "      <th></th>\n",
       "      <th>paid_user</th>\n",
       "      <th>0</th>\n",
       "      <th>1</th>\n",
       "    </tr>\n",
       "    <tr>\n",
       "      <th>combinations</th>\n",
       "      <th>group</th>\n",
       "      <th></th>\n",
       "      <th></th>\n",
       "    </tr>\n",
       "  </thead>\n",
       "  <tbody>\n",
       "    <tr>\n",
       "      <th rowspan=\"2\" valign=\"top\">Russia / android / female</th>\n",
       "      <th>A</th>\n",
       "      <td>256</td>\n",
       "      <td>11</td>\n",
       "    </tr>\n",
       "    <tr>\n",
       "      <th>B</th>\n",
       "      <td>1161</td>\n",
       "      <td>49</td>\n",
       "    </tr>\n",
       "    <tr>\n",
       "      <th rowspan=\"2\" valign=\"top\">Russia / android / male</th>\n",
       "      <th>A</th>\n",
       "      <td>235</td>\n",
       "      <td>8</td>\n",
       "    </tr>\n",
       "    <tr>\n",
       "      <th>B</th>\n",
       "      <td>1214</td>\n",
       "      <td>54</td>\n",
       "    </tr>\n",
       "    <tr>\n",
       "      <th rowspan=\"2\" valign=\"top\">Russia / ios / female</th>\n",
       "      <th>A</th>\n",
       "      <td>161</td>\n",
       "      <td>13</td>\n",
       "    </tr>\n",
       "    <tr>\n",
       "      <th>B</th>\n",
       "      <td>968</td>\n",
       "      <td>45</td>\n",
       "    </tr>\n",
       "    <tr>\n",
       "      <th rowspan=\"2\" valign=\"top\">Russia / ios / male</th>\n",
       "      <th>A</th>\n",
       "      <td>220</td>\n",
       "      <td>11</td>\n",
       "    </tr>\n",
       "    <tr>\n",
       "      <th>B</th>\n",
       "      <td>952</td>\n",
       "      <td>49</td>\n",
       "    </tr>\n",
       "    <tr>\n",
       "      <th rowspan=\"2\" valign=\"top\">Sweden / android / female</th>\n",
       "      <th>A</th>\n",
       "      <td>156</td>\n",
       "      <td>6</td>\n",
       "    </tr>\n",
       "    <tr>\n",
       "      <th>B</th>\n",
       "      <td>629</td>\n",
       "      <td>33</td>\n",
       "    </tr>\n",
       "    <tr>\n",
       "      <th rowspan=\"2\" valign=\"top\">Sweden / android / male</th>\n",
       "      <th>A</th>\n",
       "      <td>148</td>\n",
       "      <td>14</td>\n",
       "    </tr>\n",
       "    <tr>\n",
       "      <th>B</th>\n",
       "      <td>614</td>\n",
       "      <td>33</td>\n",
       "    </tr>\n",
       "    <tr>\n",
       "      <th rowspan=\"2\" valign=\"top\">Sweden / ios / female</th>\n",
       "      <th>A</th>\n",
       "      <td>143</td>\n",
       "      <td>7</td>\n",
       "    </tr>\n",
       "    <tr>\n",
       "      <th>B</th>\n",
       "      <td>480</td>\n",
       "      <td>27</td>\n",
       "    </tr>\n",
       "    <tr>\n",
       "      <th rowspan=\"2\" valign=\"top\">Sweden / ios / male</th>\n",
       "      <th>A</th>\n",
       "      <td>141</td>\n",
       "      <td>8</td>\n",
       "    </tr>\n",
       "    <tr>\n",
       "      <th>B</th>\n",
       "      <td>471</td>\n",
       "      <td>24</td>\n",
       "    </tr>\n",
       "  </tbody>\n",
       "</table>\n",
       "</div>"
      ],
      "text/plain": [
       "paid_user                           0   1\n",
       "combinations              group          \n",
       "Russia / android / female A       256  11\n",
       "                          B      1161  49\n",
       "Russia / android / male   A       235   8\n",
       "                          B      1214  54\n",
       "Russia / ios / female     A       161  13\n",
       "                          B       968  45\n",
       "Russia / ios / male       A       220  11\n",
       "                          B       952  49\n",
       "Sweden / android / female A       156   6\n",
       "                          B       629  33\n",
       "Sweden / android / male   A       148  14\n",
       "                          B       614  33\n",
       "Sweden / ios / female     A       143   7\n",
       "                          B       480  27\n",
       "Sweden / ios / male       A       141   8\n",
       "                          B       471  24"
      ]
     },
     "execution_count": 96,
     "metadata": {},
     "output_type": "execute_result"
    }
   ],
   "source": [
    "pivot_table = pivot_table.stack(level=-2)\n",
    "\n",
    "pivot_table"
   ]
  },
  {
   "cell_type": "code",
   "execution_count": 97,
   "metadata": {},
   "outputs": [
    {
     "data": {
      "text/html": [
       "<div>\n",
       "<style scoped>\n",
       "    .dataframe tbody tr th:only-of-type {\n",
       "        vertical-align: middle;\n",
       "    }\n",
       "\n",
       "    .dataframe tbody tr th {\n",
       "        vertical-align: top;\n",
       "    }\n",
       "\n",
       "    .dataframe thead th {\n",
       "        text-align: right;\n",
       "    }\n",
       "</style>\n",
       "<table border=\"1\" class=\"dataframe\">\n",
       "  <thead>\n",
       "    <tr style=\"text-align: right;\">\n",
       "      <th></th>\n",
       "      <th>paid_user</th>\n",
       "      <th>0</th>\n",
       "      <th>1</th>\n",
       "      <th>сonversion</th>\n",
       "    </tr>\n",
       "    <tr>\n",
       "      <th>combinations</th>\n",
       "      <th>group</th>\n",
       "      <th></th>\n",
       "      <th></th>\n",
       "      <th></th>\n",
       "    </tr>\n",
       "  </thead>\n",
       "  <tbody>\n",
       "    <tr>\n",
       "      <th rowspan=\"2\" valign=\"top\">Russia / android / female</th>\n",
       "      <th>A</th>\n",
       "      <td>256</td>\n",
       "      <td>11</td>\n",
       "      <td>4.297</td>\n",
       "    </tr>\n",
       "    <tr>\n",
       "      <th>B</th>\n",
       "      <td>1161</td>\n",
       "      <td>49</td>\n",
       "      <td>4.220</td>\n",
       "    </tr>\n",
       "    <tr>\n",
       "      <th rowspan=\"2\" valign=\"top\">Russia / android / male</th>\n",
       "      <th>A</th>\n",
       "      <td>235</td>\n",
       "      <td>8</td>\n",
       "      <td>3.404</td>\n",
       "    </tr>\n",
       "    <tr>\n",
       "      <th>B</th>\n",
       "      <td>1214</td>\n",
       "      <td>54</td>\n",
       "      <td>4.448</td>\n",
       "    </tr>\n",
       "    <tr>\n",
       "      <th rowspan=\"2\" valign=\"top\">Russia / ios / female</th>\n",
       "      <th>A</th>\n",
       "      <td>161</td>\n",
       "      <td>13</td>\n",
       "      <td>8.075</td>\n",
       "    </tr>\n",
       "    <tr>\n",
       "      <th>B</th>\n",
       "      <td>968</td>\n",
       "      <td>45</td>\n",
       "      <td>4.649</td>\n",
       "    </tr>\n",
       "    <tr>\n",
       "      <th rowspan=\"2\" valign=\"top\">Russia / ios / male</th>\n",
       "      <th>A</th>\n",
       "      <td>220</td>\n",
       "      <td>11</td>\n",
       "      <td>5.000</td>\n",
       "    </tr>\n",
       "    <tr>\n",
       "      <th>B</th>\n",
       "      <td>952</td>\n",
       "      <td>49</td>\n",
       "      <td>5.147</td>\n",
       "    </tr>\n",
       "    <tr>\n",
       "      <th rowspan=\"2\" valign=\"top\">Sweden / android / female</th>\n",
       "      <th>A</th>\n",
       "      <td>156</td>\n",
       "      <td>6</td>\n",
       "      <td>3.846</td>\n",
       "    </tr>\n",
       "    <tr>\n",
       "      <th>B</th>\n",
       "      <td>629</td>\n",
       "      <td>33</td>\n",
       "      <td>5.246</td>\n",
       "    </tr>\n",
       "    <tr>\n",
       "      <th rowspan=\"2\" valign=\"top\">Sweden / android / male</th>\n",
       "      <th>A</th>\n",
       "      <td>148</td>\n",
       "      <td>14</td>\n",
       "      <td>9.459</td>\n",
       "    </tr>\n",
       "    <tr>\n",
       "      <th>B</th>\n",
       "      <td>614</td>\n",
       "      <td>33</td>\n",
       "      <td>5.375</td>\n",
       "    </tr>\n",
       "    <tr>\n",
       "      <th rowspan=\"2\" valign=\"top\">Sweden / ios / female</th>\n",
       "      <th>A</th>\n",
       "      <td>143</td>\n",
       "      <td>7</td>\n",
       "      <td>4.895</td>\n",
       "    </tr>\n",
       "    <tr>\n",
       "      <th>B</th>\n",
       "      <td>480</td>\n",
       "      <td>27</td>\n",
       "      <td>5.625</td>\n",
       "    </tr>\n",
       "    <tr>\n",
       "      <th rowspan=\"2\" valign=\"top\">Sweden / ios / male</th>\n",
       "      <th>A</th>\n",
       "      <td>141</td>\n",
       "      <td>8</td>\n",
       "      <td>5.674</td>\n",
       "    </tr>\n",
       "    <tr>\n",
       "      <th>B</th>\n",
       "      <td>471</td>\n",
       "      <td>24</td>\n",
       "      <td>5.096</td>\n",
       "    </tr>\n",
       "  </tbody>\n",
       "</table>\n",
       "</div>"
      ],
      "text/plain": [
       "paid_user                           0   1  сonversion\n",
       "combinations              group                      \n",
       "Russia / android / female A       256  11       4.297\n",
       "                          B      1161  49       4.220\n",
       "Russia / android / male   A       235   8       3.404\n",
       "                          B      1214  54       4.448\n",
       "Russia / ios / female     A       161  13       8.075\n",
       "                          B       968  45       4.649\n",
       "Russia / ios / male       A       220  11       5.000\n",
       "                          B       952  49       5.147\n",
       "Sweden / android / female A       156   6       3.846\n",
       "                          B       629  33       5.246\n",
       "Sweden / android / male   A       148  14       9.459\n",
       "                          B       614  33       5.375\n",
       "Sweden / ios / female     A       143   7       4.895\n",
       "                          B       480  27       5.625\n",
       "Sweden / ios / male       A       141   8       5.674\n",
       "                          B       471  24       5.096"
      ]
     },
     "execution_count": 97,
     "metadata": {},
     "output_type": "execute_result"
    }
   ],
   "source": [
    "pivot_table['сonversion'] =  round(pivot_table[1] / pivot_table[0] * 100, 3)\n",
    "\n",
    "pivot_table"
   ]
  },
  {
   "cell_type": "code",
   "execution_count": 71,
   "metadata": {},
   "outputs": [],
   "source": [
    "from statsmodels.stats.contingency_tables import StratifiedTable"
   ]
  },
  {
   "cell_type": "code",
   "execution_count": 98,
   "metadata": {},
   "outputs": [
    {
     "data": {
      "text/html": [
       "<table class=\"simpletable\">\n",
       "<tr>\n",
       "          <td></td>          <th>Estimate</th>    <th>LCB</th>    <th>UCB</th> \n",
       "</tr>\n",
       "<tr>\n",
       "  <th>Pooled odds</th>           <td>0.914</td>   <td>0.708</td> <td>1.179</td>\n",
       "</tr>\n",
       "<tr>\n",
       "  <th>Pooled log odds</th>      <td>-0.090</td>  <td>-0.345</td> <td>0.165</td>\n",
       "</tr>\n",
       "<tr>\n",
       "  <th>Pooled risk ratio</th>     <td>0.996</td>        <td></td>      <td></td>\n",
       "</tr>\n",
       "<tr>\n",
       "  <th></th>                           <td></td>        <td></td>      <td></td>\n",
       "</tr>\n",
       "<tr>\n",
       "          <td></td>         <th>Statistic</th> <th>P-value</th> <th></th>\n",
       "</tr>\n",
       "<tr>\n",
       "  <th>Test of OR=1</th>         <td>0.478</td>   <td>0.489</td> <td></td>\n",
       "</tr>\n",
       "<tr>\n",
       "  <th>Test constant OR</th>     <td>6.232</td>   <td>0.513</td> <td></td>\n",
       "</tr>\n",
       "<tr>\n",
       "          <td></td>           <th></th>   <th></th> <th></th>\n",
       "</tr>\n",
       "<tr>\n",
       "  <th>Number of tables</th>    <td>8</td> <td></td> <td></td>\n",
       "</tr>\n",
       "<tr>\n",
       "  <th>Min n</th>             <td>644</td> <td></td> <td></td>\n",
       "</tr>\n",
       "<tr>\n",
       "  <th>Max n</th>            <td>1511</td> <td></td> <td></td>\n",
       "</tr>\n",
       "<tr>\n",
       "  <th>Avg n</th>            <td>1043</td> <td></td> <td></td>\n",
       "</tr>\n",
       "<tr>\n",
       "  <th>Total n</th>          <td>8341</td> <td></td> <td></td>\n",
       "</tr>\n",
       "</table>"
      ],
      "text/plain": [
       "<class 'statsmodels.iolib.table.SimpleTable'>"
      ]
     },
     "execution_count": 98,
     "metadata": {},
     "output_type": "execute_result"
    }
   ],
   "source": [
    "StratifiedTable.from_data('group', 'paid_user', 'combinations', test).summary()"
   ]
  },
  {
   "cell_type": "markdown",
   "metadata": {},
   "source": [
    "Критерий Кохрана-Мантеля-Ханзеля для проверки дисбаланса: p-value(Test of OR=1) > 0.05, а значит переменные независимы, и  p-value(Test constant OR) > 0.05 значит, что стратифицируемая переменная(комбинации пользователей по странам/платформам/полу) на них тоже не влияет."
   ]
  },
  {
   "cell_type": "markdown",
   "metadata": {},
   "source": [
    "Вопрос, есть ли статистически значимое различие между доходом в контрольной и тестовой группах.\n",
    "\n",
    "С учетом того, что наши распрделения не являются нормальными, то можно оценивать эксперимент несколькими способами:\n",
    "\n",
    "1. Непараметрический критерий Манна-Уитни\n",
    "2. Критерий Стьюдента после взятия логарифма( который вероятно исправит ситуацию с нормальностью распрдеделения)\n",
    "3. Бутстрап\n",
    "\n",
    "Интерпретация критерия Манна-Уитни не очень удобна, поскольку основывается на медиане, а не на среднем, в случае дохода - среднее более удобная  и понятная метрика.\n",
    "\n",
    "Логарифмирование и критерий Стьюдента не удобны из-за сложности интерепретации результата, так как работаем реально с log-выручкой.\n",
    "\n",
    "Самый простой в данном случае - это бутсрап по среднему значению дохода."
   ]
  },
  {
   "cell_type": "markdown",
   "metadata": {},
   "source": [
    "* Бутстрап (с np.mean) для тестовой и контрольной групп пользователей "
   ]
  },
  {
   "cell_type": "code",
   "execution_count": 56,
   "metadata": {},
   "outputs": [
    {
     "data": {
      "application/vnd.jupyter.widget-view+json": {
       "model_id": "53c062a43cdd4b9db04151034b59afd3",
       "version_major": 2,
       "version_minor": 0
      },
      "text/plain": [
       "HBox(children=(FloatProgress(value=0.0, max=1000.0), HTML(value='')))"
      ]
     },
     "metadata": {},
     "output_type": "display_data"
    },
    {
     "name": "stdout",
     "output_type": "stream",
     "text": [
      "\n"
     ]
    },
    {
     "data": {
      "image/png": "[encoded data removed]",
      "text/plain": [
       "<Figure size 432x288 with 1 Axes>"
      ]
     },
     "metadata": {},
     "output_type": "display_data"
    }
   ],
   "source": [
    "booted_data_users = get_bootstrap(test[is_test].revenue, test[is_control].revenue)"
   ]
  },
  {
   "cell_type": "code",
   "execution_count": 57,
   "metadata": {},
   "outputs": [
    {
     "name": "stdout",
     "output_type": "stream",
     "text": [
      "bootstrap (np.mean) p-value: 0.056800603393270394\n"
     ]
    }
   ],
   "source": [
    "print('bootstrap (np.mean) p-value:', booted_data_users[\"p_value\"])"
   ]
  },
  {
   "cell_type": "code",
   "execution_count": 58,
   "metadata": {},
   "outputs": [
    {
     "data": {
      "text/html": [
       "<div>\n",
       "<style scoped>\n",
       "    .dataframe tbody tr th:only-of-type {\n",
       "        vertical-align: middle;\n",
       "    }\n",
       "\n",
       "    .dataframe tbody tr th {\n",
       "        vertical-align: top;\n",
       "    }\n",
       "\n",
       "    .dataframe thead th {\n",
       "        text-align: right;\n",
       "    }\n",
       "</style>\n",
       "<table border=\"1\" class=\"dataframe\">\n",
       "  <thead>\n",
       "    <tr style=\"text-align: right;\">\n",
       "      <th></th>\n",
       "      <th>0</th>\n",
       "    </tr>\n",
       "  </thead>\n",
       "  <tbody>\n",
       "    <tr>\n",
       "      <th>0.025</th>\n",
       "      <td>-0.127947</td>\n",
       "    </tr>\n",
       "    <tr>\n",
       "      <th>0.975</th>\n",
       "      <td>21.654142</td>\n",
       "    </tr>\n",
       "  </tbody>\n",
       "</table>\n",
       "</div>"
      ],
      "text/plain": [
       "               0\n",
       "0.025  -0.127947\n",
       "0.975  21.654142"
      ]
     },
     "execution_count": 58,
     "metadata": {},
     "output_type": "execute_result"
    }
   ],
   "source": [
    "booted_data_users[\"quants\"]"
   ]
  },
  {
   "cell_type": "code",
   "execution_count": 59,
   "metadata": {},
   "outputs": [
    {
     "name": "stdout",
     "output_type": "stream",
     "text": [
      "По полученному p-value > 0.05 не можем отклонить нулевую гипотезу, т.е. распределения выборок не имеют статически значимых различий.\n"
     ]
    }
   ],
   "source": [
    "comparisson_Pvalue(booted_data_users[\"p_value\"])"
   ]
  },
  {
   "cell_type": "markdown",
   "metadata": {},
   "source": [
    "Комментарий.\n",
    "\n",
    "В данной проверке бутстрапом, возникает интересный момент, когда проводишь оценку статистической значимости, то значение p-value колеблется около 0.05, что полноценно не позволяет отклонить нулевую гипотезу. Поэтому добавила еще исследование на статистическую значимость критерием Манна-Уитни."
   ]
  },
  {
   "cell_type": "code",
   "execution_count": 61,
   "metadata": {},
   "outputs": [],
   "source": [
    "rez_MW = stats.mannwhitneyu(test[is_test].revenue, test[is_control].revenue, use_continuity=True)"
   ]
  },
  {
   "cell_type": "code",
   "execution_count": 62,
   "metadata": {},
   "outputs": [
    {
     "name": "stdout",
     "output_type": "stream",
     "text": [
      "mann-whitney p-value: 0.25169342201340217\n"
     ]
    }
   ],
   "source": [
    "print('mann-whitney p-value:', rez_MW[1])"
   ]
  },
  {
   "cell_type": "code",
   "execution_count": 63,
   "metadata": {},
   "outputs": [
    {
     "name": "stdout",
     "output_type": "stream",
     "text": [
      "По полученному p-value > 0.05 не можем отклонить нулевую гипотезу, т.е. распределения выборок не имеют статически значимых различий.\n"
     ]
    }
   ],
   "source": [
    "comparisson_Pvalue(rez_MW[1])"
   ]
  },
  {
   "cell_type": "code",
   "execution_count": null,
   "metadata": {},
   "outputs": [],
   "source": []
  },
  {
   "cell_type": "markdown",
   "metadata": {},
   "source": [
    "* Бутстрап (с np.mean) для тестовой и контрольной групп клиентов "
   ]
  },
  {
   "cell_type": "code",
   "execution_count": 72,
   "metadata": {},
   "outputs": [
    {
     "data": {
      "application/vnd.jupyter.widget-view+json": {
       "model_id": "8fe0fe3fdd164469bdaec25b2094a329",
       "version_major": 2,
       "version_minor": 0
      },
      "text/plain": [
       "HBox(children=(FloatProgress(value=0.0, max=1000.0), HTML(value='')))"
      ]
     },
     "metadata": {},
     "output_type": "display_data"
    },
    {
     "name": "stdout",
     "output_type": "stream",
     "text": [
      "\n"
     ]
    },
    {
     "data": {
      "image/png": "[encoded data removed]",
      "text/plain": [
       "<Figure size 432x288 with 1 Axes>"
      ]
     },
     "metadata": {},
     "output_type": "display_data"
    }
   ],
   "source": [
    "booted_data_clients = get_bootstrap(test[is_test & is_revenue_more_0].revenue, test[is_control & is_revenue_more_0].revenue)"
   ]
  },
  {
   "cell_type": "code",
   "execution_count": 73,
   "metadata": {},
   "outputs": [
    {
     "name": "stdout",
     "output_type": "stream",
     "text": [
      "bootstrap (clients) p-value: 3.603454410305037e-06\n"
     ]
    }
   ],
   "source": [
    "print('bootstrap (clients) p-value:', booted_data_clients[\"p_value\"])"
   ]
  },
  {
   "cell_type": "code",
   "execution_count": 74,
   "metadata": {},
   "outputs": [
    {
     "data": {
      "text/html": [
       "<div>\n",
       "<style scoped>\n",
       "    .dataframe tbody tr th:only-of-type {\n",
       "        vertical-align: middle;\n",
       "    }\n",
       "\n",
       "    .dataframe tbody tr th {\n",
       "        vertical-align: top;\n",
       "    }\n",
       "\n",
       "    .dataframe thead th {\n",
       "        text-align: right;\n",
       "    }\n",
       "</style>\n",
       "<table border=\"1\" class=\"dataframe\">\n",
       "  <thead>\n",
       "    <tr style=\"text-align: right;\">\n",
       "      <th></th>\n",
       "      <th>0</th>\n",
       "    </tr>\n",
       "  </thead>\n",
       "  <tbody>\n",
       "    <tr>\n",
       "      <th>0.025</th>\n",
       "      <td>137.464574</td>\n",
       "    </tr>\n",
       "    <tr>\n",
       "      <th>0.975</th>\n",
       "      <td>352.513767</td>\n",
       "    </tr>\n",
       "  </tbody>\n",
       "</table>\n",
       "</div>"
      ],
      "text/plain": [
       "                0\n",
       "0.025  137.464574\n",
       "0.975  352.513767"
      ]
     },
     "execution_count": 74,
     "metadata": {},
     "output_type": "execute_result"
    }
   ],
   "source": [
    "booted_data_clients[\"quants\"]"
   ]
  },
  {
   "cell_type": "code",
   "execution_count": 75,
   "metadata": {},
   "outputs": [
    {
     "name": "stdout",
     "output_type": "stream",
     "text": [
      "По полученному p-value < 0.05 можем отклонить нулевую гипотезу, т.е. распределения выборок имеют статически значимые различия.\n"
     ]
    }
   ],
   "source": [
    "comparisson_Pvalue(booted_data_clients[\"p_value\"])"
   ]
  },
  {
   "cell_type": "code",
   "execution_count": null,
   "metadata": {},
   "outputs": [],
   "source": []
  },
  {
   "cell_type": "code",
   "execution_count": 99,
   "metadata": {},
   "outputs": [
    {
     "name": "stdout",
     "output_type": "stream",
     "text": [
      "Количество пользователей в тестовой группе: 6923\n"
     ]
    }
   ],
   "source": [
    "users_B = test[is_test].user_id.nunique()\n",
    "\n",
    "print('Количество пользователей в тестовой группе:', users_B)"
   ]
  },
  {
   "cell_type": "code",
   "execution_count": 100,
   "metadata": {},
   "outputs": [
    {
     "name": "stdout",
     "output_type": "stream",
     "text": [
      "Количество клиентов в тестовой группе: 434\n"
     ]
    }
   ],
   "source": [
    "paid_users_B = test[is_test].query('paid_user == 1').user_id.nunique()\n",
    "\n",
    "print('Количество клиентов в тестовой группе:', paid_users_B)"
   ]
  },
  {
   "cell_type": "code",
   "execution_count": 101,
   "metadata": {},
   "outputs": [
    {
     "name": "stdout",
     "output_type": "stream",
     "text": [
      "Количество пользователей в контрольной группе: 1567\n"
     ]
    }
   ],
   "source": [
    "users_A = test[is_control].user_id.nunique()\n",
    "\n",
    "print('Количество пользователей в контрольной группе:', users_A)"
   ]
  },
  {
   "cell_type": "code",
   "execution_count": 102,
   "metadata": {},
   "outputs": [
    {
     "name": "stdout",
     "output_type": "stream",
     "text": [
      "Количество клиентов в контрольной группе: 107\n"
     ]
    }
   ],
   "source": [
    "paid_users_A = test[is_control].query('paid_user == 1').user_id.nunique()\n",
    "\n",
    "print('Количество клиентов в контрольной группе:', paid_users_A)"
   ]
  },
  {
   "cell_type": "markdown",
   "metadata": {},
   "source": [
    "#### Конверсия"
   ]
  },
  {
   "cell_type": "code",
   "execution_count": 103,
   "metadata": {},
   "outputs": [
    {
     "name": "stdout",
     "output_type": "stream",
     "text": [
      "Конверсия в тестовой группе:: 6.27%\n"
     ]
    }
   ],
   "source": [
    "Conversion_B = paid_users_B/users_B *100\n",
    "\n",
    "print('Конверсия в тестовой группе:: ', round(Conversion_B, 2), '%', sep='')"
   ]
  },
  {
   "cell_type": "code",
   "execution_count": 104,
   "metadata": {},
   "outputs": [
    {
     "name": "stdout",
     "output_type": "stream",
     "text": [
      "Конверсия в контрольной группе:: 6.27%\n"
     ]
    }
   ],
   "source": [
    "Conversion_A = paid_users_B/users_B *100\n",
    "\n",
    "print('Конверсия в контрольной группе:: ', round(Conversion_A, 2), '%', sep='')"
   ]
  },
  {
   "cell_type": "code",
   "execution_count": 105,
   "metadata": {},
   "outputs": [
    {
     "name": "stdout",
     "output_type": "stream",
     "text": [
      "Не изменилось\n"
     ]
    }
   ],
   "source": [
    "comparison_A_B(Conversion_B, Conversion_A)"
   ]
  },
  {
   "cell_type": "markdown",
   "metadata": {},
   "source": [
    "#### ARPU"
   ]
  },
  {
   "cell_type": "code",
   "execution_count": 114,
   "metadata": {},
   "outputs": [
    {
     "name": "stdout",
     "output_type": "stream",
     "text": [
      "ARPU в тестовой группе: 70.14$\n"
     ]
    }
   ],
   "source": [
    "ARPU_B = test[is_test].revenue.sum()/users_B\n",
    "\n",
    "print('ARPU в тестовой группе: ', round(ARPU_B, 2), '$', sep='')"
   ]
  },
  {
   "cell_type": "code",
   "execution_count": 115,
   "metadata": {},
   "outputs": [
    {
     "name": "stdout",
     "output_type": "stream",
     "text": [
      "ARPU в контрольной группе: 59.45$\n"
     ]
    }
   ],
   "source": [
    "ARPU_A = test[is_control].revenue.sum()/users_A\n",
    "\n",
    "print('ARPU в контрольной группе: ', round(ARPU_A, 2), '$', sep='')"
   ]
  },
  {
   "cell_type": "code",
   "execution_count": 116,
   "metadata": {},
   "outputs": [
    {
     "name": "stdout",
     "output_type": "stream",
     "text": [
      "Увеличилось на 17.98% в тестовой группе по сравнению с контрольной\n"
     ]
    }
   ],
   "source": [
    "comparison_A_B(ARPU_B, ARPU_A)"
   ]
  },
  {
   "cell_type": "markdown",
   "metadata": {},
   "source": [
    "#### ARPPU"
   ]
  },
  {
   "cell_type": "code",
   "execution_count": 117,
   "metadata": {},
   "outputs": [
    {
     "name": "stdout",
     "output_type": "stream",
     "text": [
      "ARPPU в тестовой группе: 1118.84$\n"
     ]
    }
   ],
   "source": [
    "ARPPU_B = test[is_test].query('paid_user == 1').revenue.sum()/paid_users_B\n",
    "\n",
    "print('ARPPU в тестовой группе: ', round(ARPPU_B, 2), '$', sep='')"
   ]
  },
  {
   "cell_type": "code",
   "execution_count": 118,
   "metadata": {},
   "outputs": [
    {
     "name": "stdout",
     "output_type": "stream",
     "text": [
      "ARPPU в контрольной группе: 870.67$\n"
     ]
    }
   ],
   "source": [
    "ARPPU_A = test[is_control].query('paid_user == 1').revenue.sum()/paid_users_A\n",
    "\n",
    "print('ARPPU в контрольной группе: ', round(ARPPU_A, 2), '$', sep='')"
   ]
  },
  {
   "cell_type": "code",
   "execution_count": 119,
   "metadata": {},
   "outputs": [
    {
     "name": "stdout",
     "output_type": "stream",
     "text": [
      "Увеличилось на 28.5% в тестовой группе по сравнению с контрольной\n"
     ]
    }
   ],
   "source": [
    "comparison_A_B(ARPPU_B, ARPPU_A)"
   ]
  },
  {
   "cell_type": "markdown",
   "metadata": {},
   "source": [
    "### Результаты \n",
    "\n",
    "В ходе исследования результатов A/B тестирования было получено:\n",
    "1. Bootstrap тест по среднему для пользователей дает p-value > 0.05, что не позволяет отклонить нулевую гипотезу и считать статистически незначимыми различия в двух выборках.\n",
    "2. Bootstrap тест по среднему для клиентов дает p-value < 0.05, что позволяет отклонить нулевую гипотезу и считать статистически значимыми различия в двух выборках.\n",
    "2. Конверсия в тестовой и контрольной группе - одинаковая\n",
    "3. ARPU увеличилось на 17.98%   в тестовой по сравнению с контрольной.\n",
    "4. ARPPU увеличились на 28.5% в тестовой по сравнению с контрольной.\n",
    "\n",
    "### Выводы:\n",
    "Полученнные результаты свидетельствуют о том, что\n",
    "1. Новая модель оплаты увеличивает средний доход, ARPU и ARPPU. \n",
    "2. При этом конверсия из пользователя в клиента не изменилась, следовательно новых клиентов не появилось.\n",
    "\n",
    "Учитывая тот факт, что изменения рассматриваемые в A/B тесте были связаны с новой моделью оплаты коллекций шаблонов, то полученные результаты хорошо согласуются. Клиенты - те кто готов платить и приходят в приложение именно с этой целью и именно их средний  доход увеличился. Было показано, что данное изменение является статистически значимым. Пользователи же в принципе не все и не всегда доходят до формы оплаты, изменение которой рассматривается. Поэтому маловероятно, что оно могло повлиять на конверсию пользователя в клиента, а как следствие и на средний доход от пользователей.\n",
    "\n",
    "3. Новую модель оплаты рекомендуется выкатить на остальных пользователей."
   ]
  },
  {
   "cell_type": "markdown",
   "metadata": {},
   "source": [
    "## Задание 2\n",
    "\n",
    "Одной из основных задач аналитика является не только построение моделей, но и создание дашбордов, которые позволяют отслеживать изменения метрик и принимать на их основе оптимальные решения. Ваш руководитель хочет узнать, как обстоят дела с использованием приложения и вовлечённостью пользователей, и очень просит спроектировать ему дашборд.\n",
    "\n",
    "Предложите метрики, которые помогли бы ему отслеживать вовлеченность пользователей и принимать оптимальные решения. Какую основную информацию вы бы отразили на дашборде? На какие метрики стоит обратить внимание в первую очередь? Почему?"
   ]
  },
  {
   "cell_type": "markdown",
   "metadata": {},
   "source": [
    "#### Решение\n",
    "\n",
    "Считается, что пользовательская вовлеченность напрямую связана с монетизацией. Разделяют подходы к вовлеченности, как к результату (пользователь вовлекся и стал больше нажимать / рекомендовать / покупать) и как к процессу. В нашем случае рассматривается приложение для обработки и оформления фотографий в формате Stories, и здесь важно не как долго пользователь обрабатывает фотографии и какими способами, а результат: конкретная обработка изображения, удовлетворяющая потребности пользователя. То есть приложение открывается, когда необходимо получить конкретный результат, и закрывается, когда задача завершена. В данной ситуации важно анализивароть именно маркетинговую вовлеченность. В общем случае она состоит из следующих пунктов:\n",
    "\n",
    "1. Осведомленность: количество новых пользователей/клиентов\n",
    "2. Удовлетворенность: комментарии и обратная связь\n",
    "3. Лояльность: количество сессий и их продолжительность, частота и периодичность возвратов\n",
    "4. Вовлеченность: количество репостов, лайков; размер, создаваемого контента; количество приглашенных друзей и т.п..\n",
    "\n",
    "Поскольку в данных нет информации о временных интервалах, а также о количестве транзакций, то на текущем дашборде невозможно отобразить временные метрики, такие как MAU, WAU, DAU, retention. \n",
    "\n",
    "Целевым действием в данном контексте является совершеннная транзакция(покупка). На дашборде  я бы предложила отразить количество активных пользователей, количество клиентов, конверсию из пользователя в клиента и финансовые метрики: ARPU, ARPPU, доход. Ключевыми метриками, на мой взгляд, здесь явлются конверсия из пользователя в клиента и средняя выручка на одного платящего пользователя. Именно они отвечают за потенциальный доход от приложения. Чем больше конверсия, тем больше новых клиентов, готовых платить за продукт, что повлечет за собой увеличение выручки. Если каждый клиент платит больше, то и выручка будет расти. На мой взгляд для руководителя важно видеть те категории клиентов, которые приносят максимальную выручку, и тех, кто чаще становятся клиентами.\n",
    "\n",
    "\n",
    "Дашборд приложен отдельным файлом FP-4.twbx к заданию.\n",
    "\n",
    "Комментарий. На дашборде есть визуализация treemap, в которой цвет отражает значение конверсии для каждой подкатегории(чем насыщеннее желтый, тем выше коэффициент конверсии), а размер - значение ARPPU( чем больше значение, тем больше прямоугольник). Также хочу отметить, что из-за присутствия клиентов без указанных страны, пола и типа платформы, средний коэффициент конверсии для всех активных пользователей оказывается выше, чем если смотреть на конверсию в каждой отдельной группе. Это происходит из-за того, что для этих клиентов конверсия равна 100%.\n"
   ]
  },
  {
   "cell_type": "code",
   "execution_count": null,
   "metadata": {},
   "outputs": [],
   "source": []
  }
 ],
 "metadata": {
  "kernelspec": {
   "display_name": "Python 3",
   "language": "python",
   "name": "python3"
  },
  "language_info": {
   "codemirror_mode": {
    "name": "ipython",
    "version": 3
   },
   "file_extension": ".py",
   "mimetype": "text/x-python",
   "name": "python",
   "nbconvert_exporter": "python",
   "pygments_lexer": "ipython3",
   "version": "3.7.3"
  }
 },
 "nbformat": 4,
 "nbformat_minor": 4
}
