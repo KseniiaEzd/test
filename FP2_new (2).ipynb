{
 "cells": [
  {
   "cell_type": "markdown",
   "metadata": {},
   "source": [
    "# Проект: вариант 2\n",
    "\n",
    "Вы – единственный аналитик в компании, на которого легла ответственность за поиск инсайтов в данных продуктовых магазинов вашей компании. На повестке 3 задачи:\n",
    "\n",
    "## Задание 1\n",
    "\n",
    "В файле test1_completed.csv содержится информация о покупках людей\n",
    "* id – означает покупку (в одну покупку входят все товары, купленные пользователем во время 1 похода в магазин)\n",
    "* Товар – наименование товара\n",
    "* Количество – число единиц купленного товара\n",
    "\n",
    "Воспользуйтесь этими данными и выясните, какие пары товаров пользователи чаще всего покупают вместе. По сути, вам необходимо найти паттерны покупок, что позволит оптимизировать размещение продуктов в магазине, для удобства пользователей и увеличения выручки.\n",
    "* 1_Товар – наименование первого товара\n",
    "* 2_Товар – наименование второго товара\n",
    "* Встречаемость – число раз, когда такая пара была встречена\n",
    "Другими словами: 2 раза люди покупали одновременно чай и арбуз, 1 раз одновременно покупали арбуз и сгущёнку и 1 раз одновременно были куплены чай со сгущёнкой.\n",
    "\n",
    "Напишите код на python для получения нужной таблицы и укажите 5 наиболее распространённых паттернов.\n"
   ]
  },
  {
   "cell_type": "markdown",
   "metadata": {},
   "source": [
    "1. Импорт библиотек"
   ]
  },
  {
   "cell_type": "code",
   "execution_count": 1,
   "metadata": {},
   "outputs": [],
   "source": [
    "import pandas as pd\n",
    "import os\n",
    "from itertools import combinations\n",
    "\n",
    "import numpy as np\n",
    "import pandahouse as ph\n",
    "from datetime import date\n",
    "from fbprophet import Prophet\n",
    "\n",
    "import seaborn as sns\n"
   ]
  },
  {
   "cell_type": "code",
   "execution_count": 2,
   "metadata": {},
   "outputs": [
    {
     "data": {
      "text/plain": [
       "'/home/jupyter-k.ezdakova-3/final_project'"
      ]
     },
     "execution_count": 2,
     "metadata": {},
     "output_type": "execute_result"
    }
   ],
   "source": [
    "os.getcwd()"
   ]
  },
  {
   "cell_type": "markdown",
   "metadata": {},
   "source": [
    "2. Прописываем путь до файла и считываем данные"
   ]
  },
  {
   "cell_type": "code",
   "execution_count": 3,
   "metadata": {},
   "outputs": [],
   "source": [
    "path_1 = '/home/jupyter-k.ezdakova-3/final_project/test1_completed.csv'"
   ]
  },
  {
   "cell_type": "code",
   "execution_count": 4,
   "metadata": {},
   "outputs": [],
   "source": [
    "purchases = pd.read_csv(path_1)"
   ]
  },
  {
   "cell_type": "markdown",
   "metadata": {},
   "source": [
    "3. Предподготовка данных"
   ]
  },
  {
   "cell_type": "code",
   "execution_count": 5,
   "metadata": {},
   "outputs": [
    {
     "data": {
      "text/html": [
       "<div>\n",
       "<style scoped>\n",
       "    .dataframe tbody tr th:only-of-type {\n",
       "        vertical-align: middle;\n",
       "    }\n",
       "\n",
       "    .dataframe tbody tr th {\n",
       "        vertical-align: top;\n",
       "    }\n",
       "\n",
       "    .dataframe thead th {\n",
       "        text-align: right;\n",
       "    }\n",
       "</style>\n",
       "<table border=\"1\" class=\"dataframe\">\n",
       "  <thead>\n",
       "    <tr style=\"text-align: right;\">\n",
       "      <th></th>\n",
       "      <th>id</th>\n",
       "      <th>Товар</th>\n",
       "      <th>Количество</th>\n",
       "    </tr>\n",
       "  </thead>\n",
       "  <tbody>\n",
       "    <tr>\n",
       "      <th>0</th>\n",
       "      <td>17119</td>\n",
       "      <td>Лимон</td>\n",
       "      <td>1.1</td>\n",
       "    </tr>\n",
       "    <tr>\n",
       "      <th>1</th>\n",
       "      <td>17119</td>\n",
       "      <td>Лимон оранжевый</td>\n",
       "      <td>0.7</td>\n",
       "    </tr>\n",
       "    <tr>\n",
       "      <th>2</th>\n",
       "      <td>17119</td>\n",
       "      <td>Лук-порей</td>\n",
       "      <td>10.0</td>\n",
       "    </tr>\n",
       "    <tr>\n",
       "      <th>3</th>\n",
       "      <td>17119</td>\n",
       "      <td>Лук репчатый</td>\n",
       "      <td>2.5</td>\n",
       "    </tr>\n",
       "    <tr>\n",
       "      <th>4</th>\n",
       "      <td>17119</td>\n",
       "      <td>Малина свежая</td>\n",
       "      <td>1.0</td>\n",
       "    </tr>\n",
       "  </tbody>\n",
       "</table>\n",
       "</div>"
      ],
      "text/plain": [
       "      id            Товар  Количество\n",
       "0  17119            Лимон         1.1\n",
       "1  17119  Лимон оранжевый         0.7\n",
       "2  17119        Лук-порей        10.0\n",
       "3  17119     Лук репчатый         2.5\n",
       "4  17119    Малина свежая         1.0"
      ]
     },
     "execution_count": 5,
     "metadata": {},
     "output_type": "execute_result"
    }
   ],
   "source": [
    "# Вывод 5 первых строк таблицы\n",
    "purchases.head()"
   ]
  },
  {
   "cell_type": "code",
   "execution_count": 6,
   "metadata": {},
   "outputs": [
    {
     "name": "stdout",
     "output_type": "stream",
     "text": [
      "Размер таблицы с данными: (43514, 3)\n"
     ]
    }
   ],
   "source": [
    "print('Размер таблицы с данными:', purchases.shape)"
   ]
  },
  {
   "cell_type": "code",
   "execution_count": 7,
   "metadata": {},
   "outputs": [
    {
     "name": "stdout",
     "output_type": "stream",
     "text": [
      "Есть ли нули в каждом столбце:\n",
      "id            False\n",
      "Товар         False\n",
      "Количество    False\n",
      "dtype: bool\n"
     ]
    }
   ],
   "source": [
    "print('Есть ли нули в каждом столбце:', purchases.isnull().any(), sep='\\n')"
   ]
  },
  {
   "cell_type": "code",
   "execution_count": 8,
   "metadata": {},
   "outputs": [
    {
     "name": "stdout",
     "output_type": "stream",
     "text": [
      "Количество уникальных значений в каждом столбце:\n",
      "id            3273\n",
      "Товар          199\n",
      "Количество     101\n",
      "dtype: int64\n"
     ]
    }
   ],
   "source": [
    "print('Количество уникальных значений в каждом столбце:', purchases.nunique(), sep='\\n')"
   ]
  },
  {
   "cell_type": "code",
   "execution_count": 9,
   "metadata": {},
   "outputs": [],
   "source": [
    "# Переименование названия столюцов для удобства\n",
    "purchases = purchases.rename(columns={'Товар':'Product', 'Количество':'Quantity'})"
   ]
  },
  {
   "cell_type": "code",
   "execution_count": 10,
   "metadata": {},
   "outputs": [
    {
     "data": {
      "text/html": [
       "<div>\n",
       "<style scoped>\n",
       "    .dataframe tbody tr th:only-of-type {\n",
       "        vertical-align: middle;\n",
       "    }\n",
       "\n",
       "    .dataframe tbody tr th {\n",
       "        vertical-align: top;\n",
       "    }\n",
       "\n",
       "    .dataframe thead th {\n",
       "        text-align: right;\n",
       "    }\n",
       "</style>\n",
       "<table border=\"1\" class=\"dataframe\">\n",
       "  <thead>\n",
       "    <tr style=\"text-align: right;\">\n",
       "      <th></th>\n",
       "      <th>id</th>\n",
       "      <th>Product</th>\n",
       "      <th>Quantity</th>\n",
       "    </tr>\n",
       "  </thead>\n",
       "  <tbody>\n",
       "    <tr>\n",
       "      <th>0</th>\n",
       "      <td>17119</td>\n",
       "      <td>Лимон</td>\n",
       "      <td>1.1</td>\n",
       "    </tr>\n",
       "    <tr>\n",
       "      <th>1</th>\n",
       "      <td>17119</td>\n",
       "      <td>Лимон оранжевый</td>\n",
       "      <td>0.7</td>\n",
       "    </tr>\n",
       "    <tr>\n",
       "      <th>2</th>\n",
       "      <td>17119</td>\n",
       "      <td>Лук-порей</td>\n",
       "      <td>10.0</td>\n",
       "    </tr>\n",
       "    <tr>\n",
       "      <th>3</th>\n",
       "      <td>17119</td>\n",
       "      <td>Лук репчатый</td>\n",
       "      <td>2.5</td>\n",
       "    </tr>\n",
       "    <tr>\n",
       "      <th>4</th>\n",
       "      <td>17119</td>\n",
       "      <td>Малина свежая</td>\n",
       "      <td>1.0</td>\n",
       "    </tr>\n",
       "  </tbody>\n",
       "</table>\n",
       "</div>"
      ],
      "text/plain": [
       "      id          Product  Quantity\n",
       "0  17119            Лимон       1.1\n",
       "1  17119  Лимон оранжевый       0.7\n",
       "2  17119        Лук-порей      10.0\n",
       "3  17119     Лук репчатый       2.5\n",
       "4  17119    Малина свежая       1.0"
      ]
     },
     "execution_count": 10,
     "metadata": {},
     "output_type": "execute_result"
    }
   ],
   "source": [
    "purchases.head()"
   ]
  },
  {
   "cell_type": "markdown",
   "metadata": {},
   "source": [
    "4. Анализ данных"
   ]
  },
  {
   "cell_type": "markdown",
   "metadata": {},
   "source": [
    "Воспользуйтесь этими данными и выясните, какие пары товаров пользователи чаще всего покупают вместе. \n",
    "Для этого необходимо получить таблицу со столбцами\n",
    "\n",
    "* 1_Товар – наименование первого товара\n",
    "* 2_Товар – наименование второго товара\n",
    "* Встречаемость – число раз, когда такая пара была встречена \n"
   ]
  },
  {
   "cell_type": "code",
   "execution_count": 11,
   "metadata": {},
   "outputs": [],
   "source": [
    "# Создание функции для получения комбинаций для каждой покупки\n",
    "def get_combinations(id_purchase):\n",
    "    products = id_purchase.sort_values().values\n",
    "    combs = list(combinations(products, 2))\n",
    "    return combs"
   ]
  },
  {
   "cell_type": "code",
   "execution_count": 12,
   "metadata": {},
   "outputs": [
    {
     "data": {
      "text/html": [
       "<div>\n",
       "<style scoped>\n",
       "    .dataframe tbody tr th:only-of-type {\n",
       "        vertical-align: middle;\n",
       "    }\n",
       "\n",
       "    .dataframe tbody tr th {\n",
       "        vertical-align: top;\n",
       "    }\n",
       "\n",
       "    .dataframe thead th {\n",
       "        text-align: right;\n",
       "    }\n",
       "</style>\n",
       "<table border=\"1\" class=\"dataframe\">\n",
       "  <thead>\n",
       "    <tr style=\"text-align: right;\">\n",
       "      <th></th>\n",
       "      <th>id</th>\n",
       "      <th>combination</th>\n",
       "    </tr>\n",
       "  </thead>\n",
       "  <tbody>\n",
       "    <tr>\n",
       "      <th>0</th>\n",
       "      <td>17119</td>\n",
       "      <td>(Лимон, Лимон оранжевый)</td>\n",
       "    </tr>\n",
       "    <tr>\n",
       "      <th>1</th>\n",
       "      <td>17119</td>\n",
       "      <td>(Лимон, Лук репчатый)</td>\n",
       "    </tr>\n",
       "    <tr>\n",
       "      <th>2</th>\n",
       "      <td>17119</td>\n",
       "      <td>(Лимон, Лук-порей)</td>\n",
       "    </tr>\n",
       "    <tr>\n",
       "      <th>3</th>\n",
       "      <td>17119</td>\n",
       "      <td>(Лимон, Малина свежая)</td>\n",
       "    </tr>\n",
       "    <tr>\n",
       "      <th>4</th>\n",
       "      <td>17119</td>\n",
       "      <td>(Лимон, Морковь немытая)</td>\n",
       "    </tr>\n",
       "  </tbody>\n",
       "</table>\n",
       "</div>"
      ],
      "text/plain": [
       "      id               combination\n",
       "0  17119  (Лимон, Лимон оранжевый)\n",
       "1  17119     (Лимон, Лук репчатый)\n",
       "2  17119        (Лимон, Лук-порей)\n",
       "3  17119    (Лимон, Малина свежая)\n",
       "4  17119  (Лимон, Морковь немытая)"
      ]
     },
     "execution_count": 12,
     "metadata": {},
     "output_type": "execute_result"
    }
   ],
   "source": [
    "# Таблица парных комбинаций\n",
    "combination_of_2_products = purchases.groupby('id', as_index=False) \\\n",
    "                                    .agg({'Product': get_combinations}) \\\n",
    "                                    .rename(columns={'Product': 'combination'}) \\\n",
    "                                    .explode('combination', ignore_index=True)\n",
    "combination_of_2_products.head()\n"
   ]
  },
  {
   "cell_type": "code",
   "execution_count": 15,
   "metadata": {},
   "outputs": [
    {
     "data": {
      "text/html": [
       "<div>\n",
       "<style scoped>\n",
       "    .dataframe tbody tr th:only-of-type {\n",
       "        vertical-align: middle;\n",
       "    }\n",
       "\n",
       "    .dataframe tbody tr th {\n",
       "        vertical-align: top;\n",
       "    }\n",
       "\n",
       "    .dataframe thead th {\n",
       "        text-align: right;\n",
       "    }\n",
       "</style>\n",
       "<table border=\"1\" class=\"dataframe\">\n",
       "  <thead>\n",
       "    <tr style=\"text-align: right;\">\n",
       "      <th></th>\n",
       "      <th>id</th>\n",
       "      <th>combination</th>\n",
       "      <th>product_1</th>\n",
       "      <th>product_2</th>\n",
       "    </tr>\n",
       "  </thead>\n",
       "  <tbody>\n",
       "    <tr>\n",
       "      <th>0</th>\n",
       "      <td>17119</td>\n",
       "      <td>(Лимон, Лимон оранжевый)</td>\n",
       "      <td>Лимон</td>\n",
       "      <td>Лимон оранжевый</td>\n",
       "    </tr>\n",
       "    <tr>\n",
       "      <th>1</th>\n",
       "      <td>17119</td>\n",
       "      <td>(Лимон, Лук репчатый)</td>\n",
       "      <td>Лимон</td>\n",
       "      <td>Лук репчатый</td>\n",
       "    </tr>\n",
       "    <tr>\n",
       "      <th>2</th>\n",
       "      <td>17119</td>\n",
       "      <td>(Лимон, Лук-порей)</td>\n",
       "      <td>Лимон</td>\n",
       "      <td>Лук-порей</td>\n",
       "    </tr>\n",
       "    <tr>\n",
       "      <th>3</th>\n",
       "      <td>17119</td>\n",
       "      <td>(Лимон, Малина свежая)</td>\n",
       "      <td>Лимон</td>\n",
       "      <td>Малина свежая</td>\n",
       "    </tr>\n",
       "    <tr>\n",
       "      <th>4</th>\n",
       "      <td>17119</td>\n",
       "      <td>(Лимон, Морковь немытая)</td>\n",
       "      <td>Лимон</td>\n",
       "      <td>Морковь немытая</td>\n",
       "    </tr>\n",
       "  </tbody>\n",
       "</table>\n",
       "</div>"
      ],
      "text/plain": [
       "      id               combination product_1        product_2\n",
       "0  17119  (Лимон, Лимон оранжевый)     Лимон  Лимон оранжевый\n",
       "1  17119     (Лимон, Лук репчатый)     Лимон     Лук репчатый\n",
       "2  17119        (Лимон, Лук-порей)     Лимон        Лук-порей\n",
       "3  17119    (Лимон, Малина свежая)     Лимон    Малина свежая\n",
       "4  17119  (Лимон, Морковь немытая)     Лимон  Морковь немытая"
      ]
     },
     "execution_count": 15,
     "metadata": {},
     "output_type": "execute_result"
    }
   ],
   "source": [
    "combination_of_2_products[['product_1','product_2']] = pd.DataFrame(combination_of_2_products['combination'].tolist(),\\\n",
    "                                                                    index=combination_of_2_products.index)\n",
    "combination_of_2_products.head()"
   ]
  },
  {
   "cell_type": "code",
   "execution_count": 16,
   "metadata": {},
   "outputs": [
    {
     "data": {
      "text/html": [
       "<div>\n",
       "<style scoped>\n",
       "    .dataframe tbody tr th:only-of-type {\n",
       "        vertical-align: middle;\n",
       "    }\n",
       "\n",
       "    .dataframe tbody tr th {\n",
       "        vertical-align: top;\n",
       "    }\n",
       "\n",
       "    .dataframe thead th {\n",
       "        text-align: right;\n",
       "    }\n",
       "</style>\n",
       "<table border=\"1\" class=\"dataframe\">\n",
       "  <thead>\n",
       "    <tr style=\"text-align: right;\">\n",
       "      <th></th>\n",
       "      <th>id</th>\n",
       "      <th>product_1</th>\n",
       "      <th>product_2</th>\n",
       "    </tr>\n",
       "  </thead>\n",
       "  <tbody>\n",
       "    <tr>\n",
       "      <th>0</th>\n",
       "      <td>17119</td>\n",
       "      <td>Лимон</td>\n",
       "      <td>Лимон оранжевый</td>\n",
       "    </tr>\n",
       "    <tr>\n",
       "      <th>1</th>\n",
       "      <td>17119</td>\n",
       "      <td>Лимон</td>\n",
       "      <td>Лук репчатый</td>\n",
       "    </tr>\n",
       "    <tr>\n",
       "      <th>2</th>\n",
       "      <td>17119</td>\n",
       "      <td>Лимон</td>\n",
       "      <td>Лук-порей</td>\n",
       "    </tr>\n",
       "    <tr>\n",
       "      <th>3</th>\n",
       "      <td>17119</td>\n",
       "      <td>Лимон</td>\n",
       "      <td>Малина свежая</td>\n",
       "    </tr>\n",
       "    <tr>\n",
       "      <th>4</th>\n",
       "      <td>17119</td>\n",
       "      <td>Лимон</td>\n",
       "      <td>Морковь немытая</td>\n",
       "    </tr>\n",
       "  </tbody>\n",
       "</table>\n",
       "</div>"
      ],
      "text/plain": [
       "      id product_1        product_2\n",
       "0  17119     Лимон  Лимон оранжевый\n",
       "1  17119     Лимон     Лук репчатый\n",
       "2  17119     Лимон        Лук-порей\n",
       "3  17119     Лимон    Малина свежая\n",
       "4  17119     Лимон  Морковь немытая"
      ]
     },
     "execution_count": 16,
     "metadata": {},
     "output_type": "execute_result"
    }
   ],
   "source": [
    "combination_of_2_products.drop(columns=['combination'], inplace=True)\n",
    "combination_of_2_products.head()"
   ]
  },
  {
   "cell_type": "code",
   "execution_count": 20,
   "metadata": {},
   "outputs": [
    {
     "data": {
      "text/html": [
       "<div>\n",
       "<style scoped>\n",
       "    .dataframe tbody tr th:only-of-type {\n",
       "        vertical-align: middle;\n",
       "    }\n",
       "\n",
       "    .dataframe tbody tr th {\n",
       "        vertical-align: top;\n",
       "    }\n",
       "\n",
       "    .dataframe thead th {\n",
       "        text-align: right;\n",
       "    }\n",
       "</style>\n",
       "<table border=\"1\" class=\"dataframe\">\n",
       "  <thead>\n",
       "    <tr style=\"text-align: right;\">\n",
       "      <th></th>\n",
       "      <th></th>\n",
       "      <th>occurrence</th>\n",
       "    </tr>\n",
       "    <tr>\n",
       "      <th>product_1</th>\n",
       "      <th>product_2</th>\n",
       "      <th></th>\n",
       "    </tr>\n",
       "  </thead>\n",
       "  <tbody>\n",
       "    <tr>\n",
       "      <th>Огурцы Луховицкие</th>\n",
       "      <th>Укроп</th>\n",
       "      <td>431</td>\n",
       "    </tr>\n",
       "    <tr>\n",
       "      <th>Петрушка</th>\n",
       "      <th>Укроп</th>\n",
       "      <td>408</td>\n",
       "    </tr>\n",
       "    <tr>\n",
       "      <th>Арбуз</th>\n",
       "      <th>Огурцы Луховицкие</th>\n",
       "      <td>345</td>\n",
       "    </tr>\n",
       "    <tr>\n",
       "      <th>Кабачки</th>\n",
       "      <th>Огурцы Луховицкие</th>\n",
       "      <td>326</td>\n",
       "    </tr>\n",
       "    <tr>\n",
       "      <th>Кинза</th>\n",
       "      <th>Укроп</th>\n",
       "      <td>303</td>\n",
       "    </tr>\n",
       "  </tbody>\n",
       "</table>\n",
       "</div>"
      ],
      "text/plain": [
       "                                     occurrence\n",
       "product_1         product_2                    \n",
       "Огурцы Луховицкие Укроп                     431\n",
       "Петрушка          Укроп                     408\n",
       "Арбуз             Огурцы Луховицкие         345\n",
       "Кабачки           Огурцы Луховицкие         326\n",
       "Кинза             Укроп                     303"
      ]
     },
     "execution_count": 20,
     "metadata": {},
     "output_type": "execute_result"
    }
   ],
   "source": [
    "# Создаем таблицу парных покупок продуктов\n",
    "pair_products = combination_of_2_products.groupby(['product_1','product_2'])\\\n",
    "    .agg({'id':'count'})\\\n",
    "    .rename(columns={'id':'occurrence'})\\\n",
    "    .sort_values('occurrence', ascending=False).head()\n",
    "\n",
    "pair_products.head()"
   ]
  },
  {
   "cell_type": "code",
   "execution_count": 21,
   "metadata": {},
   "outputs": [],
   "source": [
    "top_5_pair_products = pair_products.reset_index().head(5)"
   ]
  },
  {
   "cell_type": "code",
   "execution_count": 22,
   "metadata": {},
   "outputs": [
    {
     "name": "stdout",
     "output_type": "stream",
     "text": [
      "Топ 5 самых покупаемых товаров вместе:\n",
      "           product_1          product_2  occurrence\n",
      "0  Огурцы Луховицкие              Укроп         431\n",
      "1           Петрушка              Укроп         408\n",
      "2              Арбуз  Огурцы Луховицкие         345\n",
      "3            Кабачки  Огурцы Луховицкие         326\n",
      "4              Кинза              Укроп         303\n"
     ]
    }
   ],
   "source": [
    "print('Топ 5 самых покупаемых товаров вместе:',  top_5_pair_products, sep='\\n')"
   ]
  },
  {
   "cell_type": "code",
   "execution_count": 23,
   "metadata": {},
   "outputs": [],
   "source": [
    "# Выгружаем в эксель. \n",
    "top_5_pair_products.to_excel(\"./top5_pair.xlsx\", sheet_name='Data', index=False, encoding=\"cp1251\")"
   ]
  },
  {
   "cell_type": "markdown",
   "metadata": {},
   "source": [
    "### Задание 2¶\n",
    "К вам поступила информация о числе заказов за прошедшие 3 месяца с разрешением по неделям. Постройте (если это возможно) прогноз продаж на следующие 3 месяца, с учётом того, что в неделю с 2020-02-02 по 2020-02-09 была проведена массивная акция, повысившая число заказов на 7% Данные в test2_completed.csv"
   ]
  },
  {
   "cell_type": "markdown",
   "metadata": {},
   "source": [
    "В публикации Sean J. Taylor, Benjamin Letham \"Forecasting at scale\" представлено и сравнение mean absolute percentage error (MAPE) для различных методов автоматического прогнозирования временных рядов, согласно которому Prophet имеет существенно более низкую ошибку.\n",
    "\n",
    "Prophet оптимизирован для задач бизнес-прогнозирования, которые обычно обладают любой из следующих характеристик:\n",
    "\n",
    "* ежечасные, ежедневные или еженедельные наблюдения с историей не менее нескольких месяцев (предпочтительно года)\n",
    "* сильная множественная сезонность «человеческого масштаба»: день недели и время года\n",
    "* важные праздники, которые происходят с нерегулярными интервалами, о которых заранее известно\n",
    "* разумное количество отсутствующих наблюдений или больших выбросов\n",
    "* исторические изменения тенденции, например, из-за запуска продукта или регистрации изменений\n",
    "* тренды, которые представляют собой нелинейные кривые роста, когда тренд достигает естественного предела или достигает насыщения\n",
    "\n",
    "\n"
   ]
  },
  {
   "cell_type": "markdown",
   "metadata": {},
   "source": [
    "1. Загружаем данные"
   ]
  },
  {
   "cell_type": "code",
   "execution_count": 21,
   "metadata": {},
   "outputs": [],
   "source": [
    "path_2 = '/home/jupyter-k.ezdakova-3/final_project/test2_completed.csv'"
   ]
  },
  {
   "cell_type": "code",
   "execution_count": 22,
   "metadata": {},
   "outputs": [
    {
     "data": {
      "text/html": [
       "<div>\n",
       "<style scoped>\n",
       "    .dataframe tbody tr th:only-of-type {\n",
       "        vertical-align: middle;\n",
       "    }\n",
       "\n",
       "    .dataframe tbody tr th {\n",
       "        vertical-align: top;\n",
       "    }\n",
       "\n",
       "    .dataframe thead th {\n",
       "        text-align: right;\n",
       "    }\n",
       "</style>\n",
       "<table border=\"1\" class=\"dataframe\">\n",
       "  <thead>\n",
       "    <tr style=\"text-align: right;\">\n",
       "      <th></th>\n",
       "      <th>Дата</th>\n",
       "      <th>Число заказов</th>\n",
       "    </tr>\n",
       "  </thead>\n",
       "  <tbody>\n",
       "    <tr>\n",
       "      <th>0</th>\n",
       "      <td>2020-01-05</td>\n",
       "      <td>650</td>\n",
       "    </tr>\n",
       "    <tr>\n",
       "      <th>1</th>\n",
       "      <td>2020-01-12</td>\n",
       "      <td>837</td>\n",
       "    </tr>\n",
       "    <tr>\n",
       "      <th>2</th>\n",
       "      <td>2020-01-19</td>\n",
       "      <td>1020</td>\n",
       "    </tr>\n",
       "    <tr>\n",
       "      <th>3</th>\n",
       "      <td>2020-01-26</td>\n",
       "      <td>1176</td>\n",
       "    </tr>\n",
       "    <tr>\n",
       "      <th>4</th>\n",
       "      <td>2020-02-02</td>\n",
       "      <td>1489</td>\n",
       "    </tr>\n",
       "  </tbody>\n",
       "</table>\n",
       "</div>"
      ],
      "text/plain": [
       "         Дата  Число заказов\n",
       "0  2020-01-05            650\n",
       "1  2020-01-12            837\n",
       "2  2020-01-19           1020\n",
       "3  2020-01-26           1176\n",
       "4  2020-02-02           1489"
      ]
     },
     "execution_count": 22,
     "metadata": {},
     "output_type": "execute_result"
    }
   ],
   "source": [
    "orders = pd.read_csv(path_2)\n",
    "orders.head()"
   ]
  },
  {
   "cell_type": "markdown",
   "metadata": {},
   "source": [
    "2. Переименовываем столбцы, для возможности дальнейшего прогнозирования при помощи Prophet"
   ]
  },
  {
   "cell_type": "code",
   "execution_count": 24,
   "metadata": {},
   "outputs": [],
   "source": [
    "orders.rename(columns={'Дата':'ds', 'Число заказов':'y'}, inplace=True)"
   ]
  },
  {
   "cell_type": "markdown",
   "metadata": {},
   "source": [
    "3. Изменяем тип данных столбца ds на временной"
   ]
  },
  {
   "cell_type": "code",
   "execution_count": 25,
   "metadata": {},
   "outputs": [],
   "source": [
    "orders['ds'] = pd.to_datetime(orders.ds)"
   ]
  },
  {
   "cell_type": "code",
   "execution_count": 26,
   "metadata": {},
   "outputs": [
    {
     "data": {
      "text/html": [
       "<div>\n",
       "<style scoped>\n",
       "    .dataframe tbody tr th:only-of-type {\n",
       "        vertical-align: middle;\n",
       "    }\n",
       "\n",
       "    .dataframe tbody tr th {\n",
       "        vertical-align: top;\n",
       "    }\n",
       "\n",
       "    .dataframe thead th {\n",
       "        text-align: right;\n",
       "    }\n",
       "</style>\n",
       "<table border=\"1\" class=\"dataframe\">\n",
       "  <thead>\n",
       "    <tr style=\"text-align: right;\">\n",
       "      <th></th>\n",
       "      <th>ds</th>\n",
       "      <th>y</th>\n",
       "    </tr>\n",
       "  </thead>\n",
       "  <tbody>\n",
       "    <tr>\n",
       "      <th>9</th>\n",
       "      <td>2020-03-08</td>\n",
       "      <td>2607</td>\n",
       "    </tr>\n",
       "    <tr>\n",
       "      <th>10</th>\n",
       "      <td>2020-03-15</td>\n",
       "      <td>2734</td>\n",
       "    </tr>\n",
       "    <tr>\n",
       "      <th>11</th>\n",
       "      <td>2020-03-22</td>\n",
       "      <td>3492</td>\n",
       "    </tr>\n",
       "    <tr>\n",
       "      <th>12</th>\n",
       "      <td>2020-03-29</td>\n",
       "      <td>3608</td>\n",
       "    </tr>\n",
       "    <tr>\n",
       "      <th>13</th>\n",
       "      <td>2020-04-05</td>\n",
       "      <td>3857</td>\n",
       "    </tr>\n",
       "  </tbody>\n",
       "</table>\n",
       "</div>"
      ],
      "text/plain": [
       "           ds     y\n",
       "9  2020-03-08  2607\n",
       "10 2020-03-15  2734\n",
       "11 2020-03-22  3492\n",
       "12 2020-03-29  3608\n",
       "13 2020-04-05  3857"
      ]
     },
     "execution_count": 26,
     "metadata": {},
     "output_type": "execute_result"
    }
   ],
   "source": [
    "orders.tail()"
   ]
  },
  {
   "cell_type": "code",
   "execution_count": 8,
   "metadata": {},
   "outputs": [
    {
     "data": {
      "text/plain": [
       "ds    datetime64[ns]\n",
       "y              int64\n",
       "dtype: object"
      ]
     },
     "execution_count": 8,
     "metadata": {},
     "output_type": "execute_result"
    }
   ],
   "source": [
    "orders.dtypes"
   ]
  },
  {
   "cell_type": "code",
   "execution_count": 30,
   "metadata": {},
   "outputs": [
    {
     "data": {
      "text/plain": [
       "<matplotlib.axes._subplots.AxesSubplot at 0x7ff645da09e8>"
      ]
     },
     "execution_count": 30,
     "metadata": {},
     "output_type": "execute_result"
    },
    {
     "data": {
      "image/png": "[encoded data removed]",
      "text/plain": [
       "<Figure size 432x288 with 1 Axes>"
      ]
     },
     "metadata": {
      "needs_background": "light"
     },
     "output_type": "display_data"
    }
   ],
   "source": [
    "orders.plot(x='ds', y='y')"
   ]
  },
  {
   "cell_type": "markdown",
   "metadata": {},
   "source": [
    "В данном случае дан временной ряд, содержащий информацию о еженедельных количествах заказов. Также известно об акции, повысившей число заказов в неделю с 2020-02-02 по 2020-02-09. Из рисунка виден линейный тренд в данных."
   ]
  },
  {
   "cell_type": "code",
   "execution_count": 31,
   "metadata": {},
   "outputs": [],
   "source": [
    "# Период, который надо отрезать и предсказать (проверка модели)\n",
    "predictions = 5\n",
    "\n",
    "# Отрезаем из обучающей выборки последние N точек, чтобы измерить на них качество\n",
    "train_df = orders[:-predictions]"
   ]
  },
  {
   "cell_type": "code",
   "execution_count": 32,
   "metadata": {},
   "outputs": [
    {
     "data": {
      "text/html": [
       "<div>\n",
       "<style scoped>\n",
       "    .dataframe tbody tr th:only-of-type {\n",
       "        vertical-align: middle;\n",
       "    }\n",
       "\n",
       "    .dataframe tbody tr th {\n",
       "        vertical-align: top;\n",
       "    }\n",
       "\n",
       "    .dataframe thead th {\n",
       "        text-align: right;\n",
       "    }\n",
       "</style>\n",
       "<table border=\"1\" class=\"dataframe\">\n",
       "  <thead>\n",
       "    <tr style=\"text-align: right;\">\n",
       "      <th></th>\n",
       "      <th>ds</th>\n",
       "      <th>holiday</th>\n",
       "    </tr>\n",
       "  </thead>\n",
       "  <tbody>\n",
       "    <tr>\n",
       "      <th>93</th>\n",
       "      <td>2021-03-08</td>\n",
       "      <td>День женщин</td>\n",
       "    </tr>\n",
       "    <tr>\n",
       "      <th>94</th>\n",
       "      <td>2021-05-01</td>\n",
       "      <td>Праздник Весны и Труда</td>\n",
       "    </tr>\n",
       "    <tr>\n",
       "      <th>95</th>\n",
       "      <td>2021-05-09</td>\n",
       "      <td>День Победы</td>\n",
       "    </tr>\n",
       "    <tr>\n",
       "      <th>96</th>\n",
       "      <td>2021-06-12</td>\n",
       "      <td>День России</td>\n",
       "    </tr>\n",
       "    <tr>\n",
       "      <th>97</th>\n",
       "      <td>2021-11-04</td>\n",
       "      <td>День народного единства</td>\n",
       "    </tr>\n",
       "  </tbody>\n",
       "</table>\n",
       "</div>"
      ],
      "text/plain": [
       "           ds                  holiday\n",
       "93 2021-03-08              День женщин\n",
       "94 2021-05-01   Праздник Весны и Труда\n",
       "95 2021-05-09              День Победы\n",
       "96 2021-06-12              День России\n",
       "97 2021-11-04  День народного единства"
      ]
     },
     "execution_count": 32,
     "metadata": {},
     "output_type": "execute_result"
    }
   ],
   "source": [
    "import holidays\n",
    "# Вкидываем праздники, для их учёта моделькой\n",
    "holidays_dict = holidays.RU(years=(2015, 2016, 2017, 2018, 2019, 2020, 2021))\n",
    "df_holidays = pd.DataFrame.from_dict(holidays_dict, orient='index') \\\n",
    "    .reset_index()\n",
    "df_holidays = df_holidays.rename({'index':'ds', 0:'holiday'}, axis ='columns')\n",
    "df_holidays['ds'] = pd.to_datetime(df_holidays.ds)\n",
    "df_holidays = df_holidays.sort_values(by=['ds'])\n",
    "df_holidays = df_holidays.reset_index(drop=True)\n",
    "df_holidays.tail()"
   ]
  },
  {
   "cell_type": "code",
   "execution_count": 33,
   "metadata": {},
   "outputs": [
    {
     "data": {
      "text/plain": [
       "<fbprophet.forecaster.Prophet at 0x7ff645adee80>"
      ]
     },
     "execution_count": 33,
     "metadata": {},
     "output_type": "execute_result"
    }
   ],
   "source": [
    "m = Prophet(holidays=df_holidays, daily_seasonality=False, weekly_seasonality=False, yearly_seasonality=False,\\\n",
    "            changepoints='2020-02-09')\n",
    "m.fit(train_df)"
   ]
  },
  {
   "cell_type": "code",
   "execution_count": 34,
   "metadata": {},
   "outputs": [],
   "source": [
    "# Предсказываем \n",
    "future = m.make_future_dataframe(periods=5, freq='w')\n",
    "forecast = m.predict(future)"
   ]
  },
  {
   "cell_type": "code",
   "execution_count": 35,
   "metadata": {},
   "outputs": [
    {
     "data": {
      "image/png": "[encoded data removed]",
      "text/plain": [
       "<Figure size 720x432 with 1 Axes>"
      ]
     },
     "execution_count": 35,
     "metadata": {},
     "output_type": "execute_result"
    },
    {
     "data": {
      "image/png": "[encoded data removed]",
      "text/plain": [
       "<Figure size 720x432 with 1 Axes>"
      ]
     },
     "metadata": {},
     "output_type": "display_data"
    }
   ],
   "source": [
    "# Смотрим, что предсказалось\n",
    "m.plot(forecast)"
   ]
  },
  {
   "cell_type": "code",
   "execution_count": 14,
   "metadata": {},
   "outputs": [
    {
     "data": {
      "image/png": "[encoded data removed]",
      "text/plain": [
       "<Figure size 648x432 with 2 Axes>"
      ]
     },
     "execution_count": 14,
     "metadata": {},
     "output_type": "execute_result"
    },
    {
     "data": {
      "image/png": "[encoded data removed]",
      "text/plain": [
       "<Figure size 648x432 with 2 Axes>"
      ]
     },
     "metadata": {},
     "output_type": "display_data"
    }
   ],
   "source": [
    "# Смотрим на сезонности\n",
    "m.plot_components(forecast)"
   ]
  },
  {
   "cell_type": "code",
   "execution_count": 36,
   "metadata": {},
   "outputs": [
    {
     "name": "stdout",
     "output_type": "stream",
     "text": [
      "MAPE (средняя абсолютная ошибка в процентах) –  6.7495404182926135 %\n",
      "MAE (средняя абсолютная ошибка) –  236.28501618026422\n"
     ]
    }
   ],
   "source": [
    "# Смотрим на ошибки модели\n",
    "cmp_df = forecast.set_index('ds')[['yhat', 'yhat_lower', 'yhat_upper']].join(orders.set_index('ds'))\n",
    "cmp_df['e'] = cmp_df['y'] - cmp_df['yhat']\n",
    "cmp_df['p'] = 100*cmp_df['e']/cmp_df['y']\n",
    "print('MAPE (средняя абсолютная ошибка в процентах) – ', np.mean(abs(cmp_df[-predictions:]['p'])),'%')\n",
    "print('MAE (средняя абсолютная ошибка) – ', np.mean(abs(cmp_df[-predictions:]['e'])))"
   ]
  },
  {
   "cell_type": "code",
   "execution_count": 39,
   "metadata": {},
   "outputs": [],
   "source": [
    "# Прогнозируем на полный период (указываем количество дней)\n",
    "final_train_df = orders\n",
    "f = Prophet( daily_seasonality=False, weekly_seasonality=False, yearly_seasonality=False,\\\n",
    "            changepoints='2020-02-09')\n",
    "f.fit(final_train_df)\n",
    "final_future = f.make_future_dataframe(periods=13, freq='w')\n",
    "final_forecast = f.predict(final_future)"
   ]
  },
  {
   "cell_type": "code",
   "execution_count": 40,
   "metadata": {},
   "outputs": [
    {
     "data": {
      "image/png": "[encoded data removed]",
      "text/plain": [
       "<Figure size 720x432 with 1 Axes>"
      ]
     },
     "metadata": {},
     "output_type": "display_data"
    }
   ],
   "source": [
    "# Смотрим, что предсказалось на полный период\n",
    "f.plot(final_forecast);"
   ]
  },
  {
   "cell_type": "markdown",
   "metadata": {},
   "source": [
    "### Результаты и выводы.\n",
    "\n",
    "Прогнозирование временного ряда было выполнено, как математический эксперимет, безотносительно реальности процессов. Полученный линейный тренд хорошо согласуется с трендом в изначальных данных. Cредняя абсолютная ошибка в процентах составляет 6.75 % что означает, что модель может ошибаться в среднем на 6,7%.\n",
    "Но есть несколько моментов, которые мешают сказать, что полученный прогноз - хороший. \n",
    "1. Данных на которых модель учится - мало, что сказывается на качестве модели. Из-за этого сложно учесть сезонность помесячную, и невозможно поквартальную и годовую.\n",
    "2. Период, на который требуется предсказать количество заказов, равен периоду, на котором основывается модель, что тоже не очень хорошо. \n",
    "3. Из условия задания предполагается, что речь идет о каком-то продукте, предоставлюящим услуги или товары, и в том и в другом случае количество заказов не может быть бесконечным, в виду ограниченности количества пользователей и насыщаемости рынка. В таком случае следует использовать тренд с насыщением(логистическую регрессию), но никакой информации о естественной емкости системы у нас нет. \n",
    "\n",
    "### Вывод\n",
    "\n",
    "Математически спрогнозировать можно, но такой прогноз окажется не точным по указанным выше причинам, не смотря на полученное значение средней абсолютной ошибки 6.75 %.\n",
    "\n"
   ]
  },
  {
   "cell_type": "markdown",
   "metadata": {},
   "source": [
    "### Задание 3\n",
    "В базе данных вашей компании присутствуют следующие таблицы\n",
    "##### city \n",
    "* city_id – id города, где проходит акция \n",
    "* client_city_id – id города, где находится покупатель \n",
    "* city – город client_city – город, где находится покупатель \n",
    "\n",
    "##### client \n",
    "* client_id – id покупателя \n",
    "* client_city_id – id города, где находится покупатель \n",
    "* birth_date – дата рождения покупателя \n",
    "* registration – дата регистрации покупателя \n",
    "\n",
    "##### promotion \n",
    "* promotion_id – id акции \n",
    "* category_id – id категории \n",
    "* promotion_name – акция \n",
    "* category_name – категория \n",
    "* partner_id – id партнёра \n",
    "* partner_name – партнёр \n",
    "\n",
    "##### purchase \n",
    "* purchase_id – id покупки \n",
    "* partner_id – id партнёра \n",
    "* client_id – id покупателя \n",
    "* city_id – id города \n",
    "* promotion_id – id акции \n",
    "* category_id – id категории \n",
    "* purchase_date – дата покупки \n",
    "* price – цена за единицу товара \n",
    "* quantity – число проданных единиц \n",
    "* status – статус покупки \n",
    "\n",
    "Вам нужно написать запрос, чтобы получить такую таблицу\n",
    "\n",
    "* purchase_date – дата покупки \n",
    "* purchase_id – id покупки \n",
    "* client_id – id покупателя \n",
    "* client_age – возраст покупателя \n",
    "* client_registration_age – как долго человек пользуется вашими магазинами \n",
    "* client_category – содержит new или old, если это первая или последующая покупка соответственно \n",
    "* promotion_name – акция \n",
    "* category_name – категория \n",
    "* partner_name – партнёр \n",
    "* client_city – город, где находится покупатель \n",
    "* city – город \n",
    "* revenue – сумма выручки \n",
    "* quantity – число проданных единиц \n",
    "\n",
    "При этом в таблице должны присутствовать только значения, где в поле status стоит значение 1, и только те, где purchase_date находится в диапазоне от 01.05.2020 до 01.08.2020\n",
    "\n",
    "База данных доступна по имени project_variant_2"
   ]
  },
  {
   "cell_type": "markdown",
   "metadata": {},
   "source": [
    "1. Создаем соединение с этой базой данных"
   ]
  },
  {
   "cell_type": "code",
   "execution_count": 41,
   "metadata": {},
   "outputs": [],
   "source": [
    "connection_project_variant_2 = {'host': 'http://clickhouse.beslan.pro:8080',\n",
    "                                'database':'project_variant_2',\n",
    "                                'user':'student', \n",
    "                                'password':'dpo_python_2020'\n",
    "                                }"
   ]
  },
  {
   "cell_type": "markdown",
   "metadata": {},
   "source": [
    "2. Пишем запрос для получения необходимой по заданию таблицы"
   ]
  },
  {
   "cell_type": "code",
   "execution_count": 42,
   "metadata": {},
   "outputs": [
    {
     "data": {
      "text/html": [
       "<div>\n",
       "<style scoped>\n",
       "    .dataframe tbody tr th:only-of-type {\n",
       "        vertical-align: middle;\n",
       "    }\n",
       "\n",
       "    .dataframe tbody tr th {\n",
       "        vertical-align: top;\n",
       "    }\n",
       "\n",
       "    .dataframe thead th {\n",
       "        text-align: right;\n",
       "    }\n",
       "</style>\n",
       "<table border=\"1\" class=\"dataframe\">\n",
       "  <thead>\n",
       "    <tr style=\"text-align: right;\">\n",
       "      <th></th>\n",
       "      <th>purchase_date</th>\n",
       "      <th>purchase_id</th>\n",
       "      <th>client_id</th>\n",
       "      <th>client_age</th>\n",
       "      <th>client_registration_age</th>\n",
       "      <th>client_category</th>\n",
       "      <th>promotion_name</th>\n",
       "      <th>category_name</th>\n",
       "      <th>partner_name</th>\n",
       "      <th>client_city</th>\n",
       "      <th>city</th>\n",
       "      <th>revenue</th>\n",
       "      <th>quantity</th>\n",
       "    </tr>\n",
       "  </thead>\n",
       "  <tbody>\n",
       "    <tr>\n",
       "      <th>0</th>\n",
       "      <td>2020-06-05</td>\n",
       "      <td>0</td>\n",
       "      <td>853</td>\n",
       "      <td>28</td>\n",
       "      <td>18</td>\n",
       "      <td>old</td>\n",
       "      <td>campaign_2</td>\n",
       "      <td>Фрукты</td>\n",
       "      <td>ООО Ширяева, Хохлова и Тимофеева</td>\n",
       "      <td>Щучинщина</td>\n",
       "      <td>Киев</td>\n",
       "      <td>150</td>\n",
       "      <td>5</td>\n",
       "    </tr>\n",
       "    <tr>\n",
       "      <th>1</th>\n",
       "      <td>2020-06-05</td>\n",
       "      <td>0</td>\n",
       "      <td>853</td>\n",
       "      <td>28</td>\n",
       "      <td>18</td>\n",
       "      <td>old</td>\n",
       "      <td>campaign_2</td>\n",
       "      <td>Фрукты</td>\n",
       "      <td>ООО Ширяева, Хохлова и Тимофеева</td>\n",
       "      <td>Москва</td>\n",
       "      <td>Киев</td>\n",
       "      <td>150</td>\n",
       "      <td>5</td>\n",
       "    </tr>\n",
       "    <tr>\n",
       "      <th>2</th>\n",
       "      <td>2020-06-05</td>\n",
       "      <td>0</td>\n",
       "      <td>853</td>\n",
       "      <td>28</td>\n",
       "      <td>18</td>\n",
       "      <td>old</td>\n",
       "      <td>campaign_2</td>\n",
       "      <td>Фрукты</td>\n",
       "      <td>ООО Ширяева, Хохлова и Тимофеева</td>\n",
       "      <td>Ярославль</td>\n",
       "      <td>Киев</td>\n",
       "      <td>150</td>\n",
       "      <td>5</td>\n",
       "    </tr>\n",
       "    <tr>\n",
       "      <th>3</th>\n",
       "      <td>2020-06-05</td>\n",
       "      <td>0</td>\n",
       "      <td>853</td>\n",
       "      <td>28</td>\n",
       "      <td>18</td>\n",
       "      <td>old</td>\n",
       "      <td>campaign_2</td>\n",
       "      <td>Фрукты</td>\n",
       "      <td>ООО Ширяева, Хохлова и Тимофеева</td>\n",
       "      <td>Санкт-Петербург</td>\n",
       "      <td>Киев</td>\n",
       "      <td>150</td>\n",
       "      <td>5</td>\n",
       "    </tr>\n",
       "    <tr>\n",
       "      <th>4</th>\n",
       "      <td>2020-06-05</td>\n",
       "      <td>0</td>\n",
       "      <td>853</td>\n",
       "      <td>28</td>\n",
       "      <td>18</td>\n",
       "      <td>old</td>\n",
       "      <td>campaign_2</td>\n",
       "      <td>Фрукты</td>\n",
       "      <td>ООО Ширяева, Хохлова и Тимофеева</td>\n",
       "      <td>Новгород</td>\n",
       "      <td>Киев</td>\n",
       "      <td>150</td>\n",
       "      <td>5</td>\n",
       "    </tr>\n",
       "  </tbody>\n",
       "</table>\n",
       "</div>"
      ],
      "text/plain": [
       "  purchase_date  purchase_id  client_id  client_age  client_registration_age  \\\n",
       "0    2020-06-05            0        853          28                       18   \n",
       "1    2020-06-05            0        853          28                       18   \n",
       "2    2020-06-05            0        853          28                       18   \n",
       "3    2020-06-05            0        853          28                       18   \n",
       "4    2020-06-05            0        853          28                       18   \n",
       "\n",
       "  client_category promotion_name category_name  \\\n",
       "0             old     campaign_2        Фрукты   \n",
       "1             old     campaign_2        Фрукты   \n",
       "2             old     campaign_2        Фрукты   \n",
       "3             old     campaign_2        Фрукты   \n",
       "4             old     campaign_2        Фрукты   \n",
       "\n",
       "                       partner_name      client_city  city  revenue  quantity  \n",
       "0  ООО Ширяева, Хохлова и Тимофеева        Щучинщина  Киев      150         5  \n",
       "1  ООО Ширяева, Хохлова и Тимофеева           Москва  Киев      150         5  \n",
       "2  ООО Ширяева, Хохлова и Тимофеева        Ярославль  Киев      150         5  \n",
       "3  ООО Ширяева, Хохлова и Тимофеева  Санкт-Петербург  Киев      150         5  \n",
       "4  ООО Ширяева, Хохлова и Тимофеева         Новгород  Киев      150         5  "
      ]
     },
     "execution_count": 42,
     "metadata": {},
     "output_type": "execute_result"
    }
   ],
   "source": [
    "query = \"\"\"\n",
    "SELECT \n",
    "   CAST(a.purchase_date AS Date) AS purchase_date,\n",
    "   a.purchase_id AS purchase_id,\n",
    "   a.client_id AS client_id,\n",
    "   dateDiff('year', d.birth_date, today()) AS client_age,\n",
    "   dateDiff('month', d.registration, today()) AS client_registration_age,\n",
    "   e.client_category AS client_category,\n",
    "   c.promotion_name AS promotion_name,\n",
    "   c.category_name AS category_name,\n",
    "   c.partner_name AS partner_name,\n",
    "   b.client_city AS client_city,\n",
    "   b.city AS city,\n",
    "   toInt8(a.quantity)*toInt16(a.price) AS revenue,\n",
    "   toInt8(a.quantity) AS quantity\n",
    "FROM project_variant_2.purchase AS a\n",
    "JOIN project_variant_2.city AS b\n",
    "\n",
    "ON a.city_id = b.city_id\n",
    "\n",
    "JOIN project_variant_2.promotion AS c\n",
    "\n",
    "ON a.promotion_id = c.promotion_id\n",
    "\n",
    "JOIN project_variant_2.client AS d\n",
    "\n",
    "ON d.client_id = a.client_id\n",
    "\n",
    "JOIN (SELECT \n",
    "             DISTINCT client_id,\n",
    "             count(client_id),\n",
    "             if( toUInt8(count(client_id)-1), 'old', 'new') AS client_category\n",
    "      \n",
    "      FROM project_variant_2.purchase\n",
    "\n",
    "      GROUP BY client_id) AS e\n",
    "\n",
    "ON e.client_id = a.client_id\n",
    "\n",
    "\n",
    "\n",
    "WHERE a.status = 1 \n",
    "    AND a.purchase_date > '2020-05-01' \n",
    "    AND a.purchase_date < '2020-08-01'\n",
    "\n",
    "\n",
    "\"\"\"\n",
    "df = ph.read_clickhouse(query=query, connection=connection_project_variant_2)\n",
    "df.head()"
   ]
  },
  {
   "cell_type": "markdown",
   "metadata": {},
   "source": [
    "3. Сохраняем полученную таблицу в Эксель"
   ]
  },
  {
   "cell_type": "code",
   "execution_count": 43,
   "metadata": {},
   "outputs": [],
   "source": [
    "# Выгружаем в эксель. \n",
    "df.to_excel(\"./data.xlsx\", sheet_name='Data', index=False, encoding=\"cp1251\")"
   ]
  },
  {
   "cell_type": "code",
   "execution_count": null,
   "metadata": {},
   "outputs": [],
   "source": []
  }
 ],
 "metadata": {
  "kernelspec": {
   "display_name": "Python 3",
   "language": "python",
   "name": "python3"
  },
  "language_info": {
   "codemirror_mode": {
    "name": "ipython",
    "version": 3
   },
   "file_extension": ".py",
   "mimetype": "text/x-python",
   "name": "python",
   "nbconvert_exporter": "python",
   "pygments_lexer": "ipython3",
   "version": "3.7.3"
  }
 },
 "nbformat": 4,
 "nbformat_minor": 4
}
